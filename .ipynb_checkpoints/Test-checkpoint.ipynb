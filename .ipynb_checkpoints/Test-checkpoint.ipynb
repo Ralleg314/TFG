{
 "cells": [
  {
   "cell_type": "code",
   "execution_count": 35,
   "metadata": {},
   "outputs": [
    {
     "name": "stdout",
     "output_type": "stream",
     "text": [
      "100\n"
     ]
    }
   ],
   "source": [
    "import os\n",
    "import numpy, scipy, matplotlib.pyplot as plt, sklearn, librosa, urllib, IPython.display\n",
    "#import essentia, essentia.standard as ess\n",
    "characteristics=[]\n",
    "for folder in os.listdir(\"./genres\"):\n",
    "    folder=\"./genres/\"+folder\n",
    "    for filename in os.listdir(folder):\n",
    "        filename = folder+\"/\"+filename\n",
    "        if filename.endswith(\".au\"):\n",
    "            audio, fs = librosa.load(filename)\n",
    "            mfcc = librosa.feature.mfcc(audio, sr=fs)\n",
    "            characteristics.append(mfcc)\n",
    "        else:\n",
    "            continue\n",
    "    break\n",
    "\n",
    "print len(characteristics)"
   ]
  },
  {
   "cell_type": "code",
   "execution_count": null,
   "metadata": {
    "collapsed": true
   },
   "outputs": [],
   "source": []
  }
 ],
 "metadata": {
  "kernelspec": {
   "display_name": "Python 2",
   "language": "python",
   "name": "python2"
  },
  "language_info": {
   "codemirror_mode": {
    "name": "ipython",
    "version": 2
   },
   "file_extension": ".py",
   "mimetype": "text/x-python",
   "name": "python",
   "nbconvert_exporter": "python",
   "pygments_lexer": "ipython2",
   "version": "2.7.14"
  }
 },
 "nbformat": 4,
 "nbformat_minor": 1
}
