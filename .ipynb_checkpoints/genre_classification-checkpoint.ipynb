{
 "cells": [
  {
   "cell_type": "code",
   "execution_count": 1,
   "metadata": {
    "collapsed": true
   },
   "outputs": [],
   "source": [
    "import os\n",
    "import numpy as np\n",
    "import matplotlib.pyplot as plt\n",
    "import librosa\n",
    "import librosa.display\n",
    "import scipy.misc\n",
    "from sklearn.decomposition import PCA\n",
    "from sklearn.svm import SVC\n",
    "from sklearn.preprocessing import StandardScaler\n",
    "#import essentia, essentia.standard as ess"
   ]
  },
  {
   "cell_type": "code",
   "execution_count": 2,
   "metadata": {
    "collapsed": true
   },
   "outputs": [],
   "source": [
    "def chargen(char=20):\n",
    "    print char\n",
    "    char_gen = []\n",
    "    i=0\n",
    "    genre={}\n",
    "    cont=0\n",
    "    for folder in os.listdir(\"./genres\"): #iterates all folders    \n",
    "\n",
    "        folder=\"./genres/\"+folder\n",
    "        if not folder in genre.keys(): #creates a dictionary genre->number\n",
    "            genre[folder]=i\n",
    "            i+=1\n",
    "\n",
    "        for filename in os.listdir(folder): #iterates all files in the folder\n",
    "            filename = folder+\"/\"+filename\n",
    "\n",
    "            if filename.endswith((\".au\",\".mp3\",\".wav\",\".aiff\")):\n",
    "                audio, fs = librosa.load(filename, duration=29.0, mono=True, sr=22050) #loads the first 30 seconds of the song\n",
    "                mfcc = librosa.feature.mfcc(audio, sr=fs, n_mfcc=char) #calculates MFCC of the song\n",
    "                #The size of the matrix will be number_of_MFCCs*1292, which is a feature every 0.02s\n",
    "                #By default, it's 20*1291\n",
    "\n",
    "                \"\"\"The first comlumn gives useless information, so we remove it\n",
    "                Works as offset\"\"\"\n",
    "                mfcc = np.delete(mfcc, 0, axis=1)\n",
    "                #mfcc = np.ndarray.tolist(mfcc)\n",
    "\n",
    "                char_gen.append((mfcc,genre[folder])) #adds the array to a list\n",
    "                \n",
    "                if cont%10==0:\n",
    "                    print cont%100,\n",
    "                \n",
    "                cont+=1\n",
    "        print \n",
    "                    \n",
    "    return np.array(char_gen)"
   ]
  },
  {
   "cell_type": "code",
   "execution_count": 3,
   "metadata": {
    "collapsed": true,
    "scrolled": true
   },
   "outputs": [],
   "source": [
    "def char1():\n",
    "    char_gen=[]\n",
    "    i=0\n",
    "    genre={}\n",
    "    cont=0\n",
    "    for folder in os.listdir(\"./genres\"): #iterates all folders    \n",
    "\n",
    "        folder=\"./genres/\"+folder\n",
    "        if not folder in genre.keys(): #creates a dictionary genre->number\n",
    "            genre[folder]=i\n",
    "            i+=1\n",
    "\n",
    "        for filename in os.listdir(folder): #iterates all files in the folder\n",
    "            filename = folder+\"/\"+filename\n",
    "\n",
    "            if filename.endswith((\".au\",\".mp3\",\".wav\",\".aiff\")):\n",
    "                audio, fs = librosa.load(filename, duration=29.0, mono=True, sr=22050) #loads the first 30 seconds of the song\n",
    "                mfcc = librosa.feature.mfcc(audio, sr=fs) #calculates MFCC of the song\n",
    "                #The size of the matrix will be number_of_MFCCs*1292, which is a feature every 0.02s\n",
    "                #By default, it's 20*1291\n",
    "\n",
    "                \"\"\"The first comlumn gives useless information, so we remove it\n",
    "                Works as offset\"\"\"\n",
    "                mfcc = np.delete(mfcc, 0, axis=1)\n",
    "                                \n",
    "                #librosa.display.specshow(mfcc, x_axis='time')\n",
    "                #plt.show()\n",
    "\n",
    "                mfcc=np.transpose(mfcc)\n",
    "                mfcc=mfcc.flatten() #converts the matrix into a 1D array\n",
    "\n",
    "                char_gen.append((mfcc,genre[folder])) #adds the array to a list\n",
    "                \n",
    "                if cont%10==0:\n",
    "                    print cont%100,\n",
    "                \n",
    "                cont+=1\n",
    "                '''if cont>=10:\n",
    "                    break'''\n",
    "        print \n",
    "                    \n",
    "    return np.array(char_gen)"
   ]
  },
  {
   "cell_type": "code",
   "execution_count": 4,
   "metadata": {
    "collapsed": true,
    "scrolled": true
   },
   "outputs": [],
   "source": [
    "def char2():\n",
    "    char_gen=[]\n",
    "    i=0\n",
    "    genre={}\n",
    "    for folder in os.listdir(\"./genres\"): #iterates all folders    \n",
    "        cont=0\n",
    "\n",
    "        folder=\"./genres/\"+folder\n",
    "        if not folder in genre.keys(): #creates a dictionary genre->number\n",
    "            genre[folder]=i\n",
    "            i+=1\n",
    "\n",
    "        for filename in os.listdir(folder): #iterates all files in the folder\n",
    "            filename = folder+\"/\"+filename\n",
    "\n",
    "            if filename.endswith((\".au\",\".mp3\",\".wav\",\".aiff\")):\n",
    "                audio, fs = librosa.load(filename, duration=30.0, mono=True, sr=22050) #loads the first 30 seconds of the song\n",
    "                mfcc = librosa.feature.mfcc(audio, sr=fs, n_fft=1024, hop_length=30*22050) #calculates MFCC of the song\n",
    "                #The size of the matrix will be number_of_MFCCs*1292, which is a feature every 0.02s\n",
    "                #By default, it's 20*1922\n",
    "\n",
    "                \"\"\"The first comlumn gives useless information, so we remove it\n",
    "                Works as offset\"\"\"\n",
    "                mfcc = np.delete(mfcc, 0, axis=1)\n",
    "                \n",
    "                #librosa.display.specshow(mfcc, x_axis='time')\n",
    "                #plt.show()\n",
    "                \n",
    "                mfcc=mfcc.flatten() #converts the matrix into a 1D array\n",
    "\n",
    "                char_gen.append((mfcc,genre[folder])) #adds the array to a list\n",
    "\n",
    "                cont+=1\n",
    "                if cont>=1:\n",
    "                    break\n",
    "                \n",
    "    return char_gen"
   ]
  },
  {
   "cell_type": "code",
   "execution_count": 5,
   "metadata": {
    "collapsed": true
   },
   "outputs": [],
   "source": [
    "def char3(char=5):\n",
    "    print char\n",
    "    char_gen=[]\n",
    "    maxs=[]\n",
    "    mins=[]\n",
    "    i=0\n",
    "    genre={}\n",
    "    cont=0\n",
    "    scaler = StandardScaler()\n",
    "    for folder in os.listdir(\"./genres\"): #iterates all folders    \n",
    "\n",
    "        folder=\"./genres/\"+folder\n",
    "        if not folder in genre.keys(): #creates a dictionary genre->number\n",
    "            genre[folder]=i\n",
    "            i+=1\n",
    "\n",
    "        print str(cont/100)+\":\",    \n",
    "            \n",
    "        for filename in os.listdir(folder): #iterates all files in the folder\n",
    "            filename = folder+\"/\"+filename\n",
    "\n",
    "            if filename.endswith((\".au\",\".mp3\",\".wav\",\".aiff\")):\n",
    "                audio, fs = librosa.load(filename, duration=29.0, mono=True, sr=22050) #loads the first 30 seconds of the song\n",
    "                mfcc = librosa.feature.mfcc(audio, sr=fs, n_mfcc=char) #calculates MFCC of the song\n",
    "                #The size of the matrix will be number_of_MFCCs*1292, which is a feature every 0.02s\n",
    "                #By default, it's 20*1291\n",
    "\n",
    "                \"\"\"The first comlumn gives useless information, so we remove it\n",
    "                Works as offset\"\"\"\n",
    "                mfcc = np.delete(mfcc, 0, axis=1)\n",
    "                \n",
    "                #mfcc = scaler.fit_transform(mfcc)\n",
    "                                \n",
    "                maxs.append(np.amax(mfcc))\n",
    "                mins.append(np.amin(mfcc))\n",
    "                \n",
    "                #mfcc=np.transpose(mfcc)\n",
    "                #mfcc=mfcc.flatten() #converts the matrix into a 1D array\n",
    "\n",
    "                char_gen.append((mfcc,genre[folder])) #adds the array to a list\n",
    "                \n",
    "                if cont%10==0:\n",
    "                    print cont%100,\n",
    "                \n",
    "                cont+=1\n",
    "        print \n",
    "    step = (max(maxs) - min(mins))/100\n",
    "    return np.array(char_gen), step"
   ]
  },
  {
   "cell_type": "code",
   "execution_count": 6,
   "metadata": {
    "collapsed": true
   },
   "outputs": [],
   "source": [
    "def histogram(step, char, amount):\n",
    "    histogram = np.zeros(amount)\n",
    "    for c in char:\n",
    "        histogram[int(c/step)] += 1.\n",
    "    histogram = histogram/len(char)\n",
    "    histogram = np.ndarray.tolist(histogram)\n",
    "    return histogram"
   ]
  },
  {
   "cell_type": "code",
   "execution_count": 7,
   "metadata": {
    "collapsed": true
   },
   "outputs": [],
   "source": [
    "def reshape_pca(char):\n",
    "    mfcc = np.array(char[:,0 ])\n",
    "    mfcc = np.concatenate(mfcc).reshape(1000,24960)\n",
    "    pca=PCA(n_components = 100, svd_solver='full')\n",
    "    pca.fit(mfcc)\n",
    "    mfcc=pca.transform(mfcc)\n",
    "    return mfcc"
   ]
  },
  {
   "cell_type": "code",
   "execution_count": 8,
   "metadata": {
    "collapsed": true
   },
   "outputs": [],
   "source": [
    "def train_test(mfcc, char, n_set):\n",
    "    train_mfcc, test_mfcc=[],[]\n",
    "    train_genre, test_genre=[], []\n",
    "\n",
    "    for i in range(1000):\n",
    "        if (i+n_set)%10==0:\n",
    "            test_mfcc.append(mfcc[i])\n",
    "            test_genre.append(char[i][1])\n",
    "        else:\n",
    "            train_mfcc.append(mfcc[i])\n",
    "            train_genre.append(char[i][1])\n",
    "\n",
    "    train_mfcc = np.array(train_mfcc)\n",
    "    test_mfcc = np.array(test_mfcc)\n",
    "    train_genre = np.array(train_genre)\n",
    "    test_genre = np.array(test_genre)\n",
    "    return train_mfcc, train_genre, test_mfcc, test_genre"
   ]
  },
  {
   "cell_type": "code",
   "execution_count": 9,
   "metadata": {
    "collapsed": true
   },
   "outputs": [],
   "source": [
    "def classify(train_mfcc, train_genre, test_mfcc, test_genre):\n",
    "    success=0\n",
    "    clf=SVC(C=0.0001)\n",
    "    clf.fit(train_mfcc,train_genre)\n",
    "    for i in range(100):\n",
    "        test=test_mfcc[i].reshape(1, -1)\n",
    "        pred = clf.predict(test)\n",
    "        if pred[0]==test_genre[i]:\n",
    "            success+=1\n",
    "    return success"
   ]
  },
  {
   "cell_type": "code",
   "execution_count": 10,
   "metadata": {
    "collapsed": true
   },
   "outputs": [],
   "source": [
    "def all_hist(char, step, amount):\n",
    "    hist=[]\n",
    "    temp_char=[]\n",
    "    for c in char:\n",
    "        temp = histogram(step, c[0], amount)\n",
    "        hist.append((temp, c[1]))\n",
    "        temp_char.append(temp)\n",
    "    return hist, temp_char\n"
   ]
  },
  {
   "cell_type": "code",
   "execution_count": 11,
   "metadata": {
    "collapsed": true
   },
   "outputs": [],
   "source": [
    "def more_hist(char, step, amount):\n",
    "    hist = []\n",
    "    temp_char=[]\n",
    "    for c in char:\n",
    "        tmp = c[0]\n",
    "        temp = []\n",
    "        for v in tmp:\n",
    "            temp+=histogram(step, v, amount)\n",
    "        temp_char.append(temp)\n",
    "        hist.append((temp, c[1]))\n",
    "    return hist, temp_char    "
   ]
  },
  {
   "cell_type": "code",
   "execution_count": 12,
   "metadata": {
    "collapsed": true
   },
   "outputs": [],
   "source": [
    "def mode1():\n",
    "    char = char1()\n",
    "    mfcc = reshape_pca(char)\n",
    "    train_mfcc, train_genre, test_mfcc, test_genre = train_test(mfcc, char)\n",
    "    classify(train_mfcc, train_genre, test_mfcc, test_genre)"
   ]
  },
  {
   "cell_type": "code",
   "execution_count": 13,
   "metadata": {
    "collapsed": true
   },
   "outputs": [],
   "source": [
    "def mode2():\n",
    "    char = char2()\n",
    "    mfcc = reshape_pca(char)\n",
    "    train_mfcc, train_genre, test_mfcc, test_genre = train_test(mfcc, char)\n",
    "    classify(train_mfcc, train_genre, test_mfcc, test_genre)"
   ]
  },
  {
   "cell_type": "code",
   "execution_count": 14,
   "metadata": {
    "collapsed": true
   },
   "outputs": [],
   "source": [
    "def mode3(char, step, amount):\n",
    "    hist, char = all_hist(char, step, amount)\n",
    "    train_mfcc, train_genre, test_mfcc, test_genre = train_test(char, hist)\n",
    "    return classify(train_mfcc, train_genre, test_mfcc, test_genre)"
   ]
  },
  {
   "cell_type": "code",
   "execution_count": 15,
   "metadata": {
    "collapsed": true
   },
   "outputs": [],
   "source": [
    "def mode4(char, step, amount):\n",
    "    hist, char = more_hist(char, step, amount)\n",
    "    train_mfcc, train_genre, test_mfcc, test_genre = train_test(char, hist)\n",
    "    return classify(train_mfcc, train_genre, test_mfcc, test_genre)"
   ]
  },
  {
   "cell_type": "code",
   "execution_count": 36,
   "metadata": {
    "collapsed": true
   },
   "outputs": [
    {
     "name": "stdout",
     "output_type": "stream",
     "text": [
      " 5\n",
      "0 10 20 30 40 50 60 70 80 90\n",
      "0 10 20 30 40 50 60 70 80 90\n",
      "0 10 20 30 40 50 60 70 80 90\n",
      "0 10 20 30 40 50 60 70 80 90\n",
      "0 10 20 30 40 50 60 70 80 90\n",
      "0 10 20 30 40 50 60 70 80 90\n",
      "0 10 20 30 40 50 60 70 80 90\n",
      "0 10 20 30 40 50 60 70 80 90\n",
      "0 10 20 30 40 50 60 70 80 90\n",
      "0 10 20 30 40 50 60 70 80 90\n",
      "10\n",
      "0 10 20 30 40 50 60 70 80 90\n",
      "0 10 20 30 40 50 60 70 80 90\n",
      "0 10 20 30 40 50 60 70 80 90\n",
      "0 10 20 30 40 50 60 70 80 90\n",
      "0 10 20 30 40 50 60 70 80 90\n",
      "0 10 20 30 40 50 60 70 80 90\n",
      "0 10 20 30 40 50 60 70 80 90\n",
      "0 10 20 30 40 50 60 70 80 90\n",
      "0 10 20 30 40 50 60 70 80 90\n",
      "0 10 20 30 40 50 60 70 80 90\n",
      "15\n",
      "0 10 20 30 40 50 60 70 80 90\n",
      "0 10 20 30 40 50 60 70 80 90\n",
      "0 10 20 30 40 50 60 70 80 90\n",
      "0 10 20 30 40 50 60 70 80 90\n",
      "0 10 20 30 40 50 60 70 80 90\n",
      "0 10 20 30 40 50 60 70 80 90\n",
      "0 10 20 30 40 50 60 70 80 90\n",
      "0 10 20 30 40 50 60 70 80 90\n",
      "0 10 20 30 40 50 60 70 80 90\n",
      "0 10 20 30 40 50 60 70 80 90\n",
      "20\n",
      "0 10 20 30 40 50 60 70 80 90\n",
      "0 10 20 30 40 50 60 70 80 90\n",
      "0 10 20 30 40 50 60 70 80 90\n",
      "0 10 20 30 40 50 60 70 80 90\n",
      "0 10 20 30 40 50 60 70 80 90\n",
      "0 10 20 30 40 50 60 70 80 90\n",
      "0 10 20 30 40 50 60 70 80 90\n",
      "0 10 20 30 40 50 60 70 80 90\n",
      "0 10 20 30 40 50 60 70 80 90\n",
      "0 10 20 30 40 50 60 70 80 90\n"
     ]
    }
   ],
   "source": [
    "for i in range(5,21,5):\n",
    "    char_gen = chargen(i)\n",
    "    filename = \"values\"+str(i)\n",
    "    np.save(filename, char_gen)"
   ]
  },
  {
   "cell_type": "code",
   "execution_count": 49,
   "metadata": {
    "collapsed": true
   },
   "outputs": [],
   "source": [
    "for i in range(5,6,5):\n",
    "    filename = \"values\"+str(i)+\".npy\"\n",
    "    char = np.load(filename)\n",
    "    #print char.shape, char[0].shape, char[0][0].shape, char[0][0][0].shape\n",
    "    #step = (np.amax(np.amax(np.amax(char))) - np.amin(np.amin(np.amin(char))))/100"
   ]
  },
  {
   "cell_type": "code",
   "execution_count": 74,
   "metadata": {
    "scrolled": true
   },
   "outputs": [
    {
     "name": "stdout",
     "output_type": "stream",
     "text": [
      "0: 0 10 20 30 40 50 60 70 80 90\n",
      "1: 0 10 20 30 40 50 60 70 80 90\n",
      "2: 0 10 20 30 40 50 60 70 80 90\n",
      "3: 0 10 20 30 40 50 60 70 80 90\n",
      "4: 0 10 20 30 40 50 60 70 80 90\n",
      "5: 0 10 20 30 40 50 60 70 80 90\n",
      "6: 0 10 20 30 40 50 60 70 80 90\n",
      "7: 0 10 20 30 40 50 60 70 80 90\n",
      "8: 0 10 20 30 40 50 60 70 80 90\n",
      "9: 0 10 20 30 40 50 60 70 80 90\n"
     ]
    }
   ],
   "source": [
    "char, step = char3(5)"
   ]
  },
  {
   "cell_type": "code",
   "execution_count": 54,
   "metadata": {
    "collapsed": true
   },
   "outputs": [
    {
     "name": "stdout",
     "output_type": "stream",
     "text": [
      "([array([0.03044872, 0.00080128, 0.        , 0.        , 0.        ,\n",
      "       0.        , 0.        , 0.        , 0.        , 0.        ,\n",
      "       0.        , 0.        , 0.        , 0.        , 0.        ,\n",
      "       0.        , 0.        , 0.        , 0.        , 0.        ,\n",
      "       0.        , 0.        , 0.        , 0.        , 0.        ,\n",
      "       0.        , 0.        , 0.        , 0.        , 0.        ,\n",
      "       0.        , 0.        , 0.        , 0.        , 0.        ,\n",
      "       0.        , 0.        , 0.00240385, 0.00641026, 0.02083333,\n",
      "       0.03125   , 0.06410256, 0.11939103, 0.11378205, 0.15865385,\n",
      "       0.14663462, 0.10416667, 0.08333333, 0.0713141 , 0.04647436]), array([0.        , 0.        , 0.00160256, 0.00961538, 0.04407051,\n",
      "       0.24759615, 0.43589744, 0.21794872, 0.04326923, 0.        ,\n",
      "       0.        , 0.        , 0.        , 0.        , 0.        ,\n",
      "       0.        , 0.        , 0.        , 0.        , 0.        ,\n",
      "       0.        , 0.        , 0.        , 0.        , 0.        ,\n",
      "       0.        , 0.        , 0.        , 0.        , 0.        ,\n",
      "       0.        , 0.        , 0.        , 0.        , 0.        ,\n",
      "       0.        , 0.        , 0.        , 0.        , 0.        ,\n",
      "       0.        , 0.        , 0.        , 0.        , 0.        ,\n",
      "       0.        , 0.        , 0.        , 0.        , 0.        ]), array([0.53365385, 0.00400641, 0.        , 0.        , 0.        ,\n",
      "       0.        , 0.        , 0.        , 0.        , 0.        ,\n",
      "       0.        , 0.        , 0.        , 0.        , 0.        ,\n",
      "       0.        , 0.        , 0.        , 0.        , 0.        ,\n",
      "       0.        , 0.        , 0.        , 0.        , 0.        ,\n",
      "       0.        , 0.        , 0.        , 0.        , 0.        ,\n",
      "       0.        , 0.        , 0.        , 0.        , 0.        ,\n",
      "       0.        , 0.        , 0.        , 0.        , 0.        ,\n",
      "       0.        , 0.        , 0.        , 0.        , 0.        ,\n",
      "       0.        , 0.        , 0.01362179, 0.09695513, 0.35176282]), array([0.04807692, 0.30448718, 0.53926282, 0.10817308, 0.        ,\n",
      "       0.        , 0.        , 0.        , 0.        , 0.        ,\n",
      "       0.        , 0.        , 0.        , 0.        , 0.        ,\n",
      "       0.        , 0.        , 0.        , 0.        , 0.        ,\n",
      "       0.        , 0.        , 0.        , 0.        , 0.        ,\n",
      "       0.        , 0.        , 0.        , 0.        , 0.        ,\n",
      "       0.        , 0.        , 0.        , 0.        , 0.        ,\n",
      "       0.        , 0.        , 0.        , 0.        , 0.        ,\n",
      "       0.        , 0.        , 0.        , 0.        , 0.        ,\n",
      "       0.        , 0.        , 0.        , 0.        , 0.        ]), array([0.80769231, 0.01602564, 0.        , 0.        , 0.        ,\n",
      "       0.        , 0.        , 0.        , 0.        , 0.        ,\n",
      "       0.        , 0.        , 0.        , 0.        , 0.        ,\n",
      "       0.        , 0.        , 0.        , 0.        , 0.        ,\n",
      "       0.        , 0.        , 0.        , 0.        , 0.        ,\n",
      "       0.        , 0.        , 0.        , 0.        , 0.        ,\n",
      "       0.        , 0.        , 0.        , 0.        , 0.        ,\n",
      "       0.        , 0.        , 0.        , 0.        , 0.        ,\n",
      "       0.        , 0.        , 0.        , 0.        , 0.        ,\n",
      "       0.        , 0.        , 0.        , 0.00961538, 0.16666667])], 0) [array([0.03044872, 0.00080128, 0.        , 0.        , 0.        ,\n",
      "       0.        , 0.        , 0.        , 0.        , 0.        ,\n",
      "       0.        , 0.        , 0.        , 0.        , 0.        ,\n",
      "       0.        , 0.        , 0.        , 0.        , 0.        ,\n",
      "       0.        , 0.        , 0.        , 0.        , 0.        ,\n",
      "       0.        , 0.        , 0.        , 0.        , 0.        ,\n",
      "       0.        , 0.        , 0.        , 0.        , 0.        ,\n",
      "       0.        , 0.        , 0.00240385, 0.00641026, 0.02083333,\n",
      "       0.03125   , 0.06410256, 0.11939103, 0.11378205, 0.15865385,\n",
      "       0.14663462, 0.10416667, 0.08333333, 0.0713141 , 0.04647436]), array([0.        , 0.        , 0.00160256, 0.00961538, 0.04407051,\n",
      "       0.24759615, 0.43589744, 0.21794872, 0.04326923, 0.        ,\n",
      "       0.        , 0.        , 0.        , 0.        , 0.        ,\n",
      "       0.        , 0.        , 0.        , 0.        , 0.        ,\n",
      "       0.        , 0.        , 0.        , 0.        , 0.        ,\n",
      "       0.        , 0.        , 0.        , 0.        , 0.        ,\n",
      "       0.        , 0.        , 0.        , 0.        , 0.        ,\n",
      "       0.        , 0.        , 0.        , 0.        , 0.        ,\n",
      "       0.        , 0.        , 0.        , 0.        , 0.        ,\n",
      "       0.        , 0.        , 0.        , 0.        , 0.        ]), array([0.53365385, 0.00400641, 0.        , 0.        , 0.        ,\n",
      "       0.        , 0.        , 0.        , 0.        , 0.        ,\n",
      "       0.        , 0.        , 0.        , 0.        , 0.        ,\n",
      "       0.        , 0.        , 0.        , 0.        , 0.        ,\n",
      "       0.        , 0.        , 0.        , 0.        , 0.        ,\n",
      "       0.        , 0.        , 0.        , 0.        , 0.        ,\n",
      "       0.        , 0.        , 0.        , 0.        , 0.        ,\n",
      "       0.        , 0.        , 0.        , 0.        , 0.        ,\n",
      "       0.        , 0.        , 0.        , 0.        , 0.        ,\n",
      "       0.        , 0.        , 0.01362179, 0.09695513, 0.35176282]), array([0.04807692, 0.30448718, 0.53926282, 0.10817308, 0.        ,\n",
      "       0.        , 0.        , 0.        , 0.        , 0.        ,\n",
      "       0.        , 0.        , 0.        , 0.        , 0.        ,\n",
      "       0.        , 0.        , 0.        , 0.        , 0.        ,\n",
      "       0.        , 0.        , 0.        , 0.        , 0.        ,\n",
      "       0.        , 0.        , 0.        , 0.        , 0.        ,\n",
      "       0.        , 0.        , 0.        , 0.        , 0.        ,\n",
      "       0.        , 0.        , 0.        , 0.        , 0.        ,\n",
      "       0.        , 0.        , 0.        , 0.        , 0.        ,\n",
      "       0.        , 0.        , 0.        , 0.        , 0.        ]), array([0.80769231, 0.01602564, 0.        , 0.        , 0.        ,\n",
      "       0.        , 0.        , 0.        , 0.        , 0.        ,\n",
      "       0.        , 0.        , 0.        , 0.        , 0.        ,\n",
      "       0.        , 0.        , 0.        , 0.        , 0.        ,\n",
      "       0.        , 0.        , 0.        , 0.        , 0.        ,\n",
      "       0.        , 0.        , 0.        , 0.        , 0.        ,\n",
      "       0.        , 0.        , 0.        , 0.        , 0.        ,\n",
      "       0.        , 0.        , 0.        , 0.        , 0.        ,\n",
      "       0.        , 0.        , 0.        , 0.        , 0.        ,\n",
      "       0.        , 0.        , 0.        , 0.00961538, 0.16666667])]\n"
     ]
    }
   ],
   "source": [
    "hist, charco = more_hist(char,(step*100)/50, 50)"
   ]
  },
  {
   "cell_type": "code",
   "execution_count": 57,
   "metadata": {
    "collapsed": true
   },
   "outputs": [
    {
     "ename": "TypeError",
     "evalue": "only size-1 arrays can be converted to Python scalars",
     "output_type": "error",
     "traceback": [
      "\u001b[1;31m---------------------------------------------------------------------------\u001b[0m",
      "\u001b[1;31mTypeError\u001b[0m                                 Traceback (most recent call last)",
      "\u001b[1;32m<ipython-input-57-4ad5afe0e1f5>\u001b[0m in \u001b[0;36m<module>\u001b[1;34m()\u001b[0m\n\u001b[0;32m      2\u001b[0m \u001b[1;32mfor\u001b[0m \u001b[0mi\u001b[0m \u001b[1;32min\u001b[0m \u001b[0mrange\u001b[0m\u001b[1;33m(\u001b[0m\u001b[1;36m1\u001b[0m\u001b[1;33m,\u001b[0m\u001b[1;36m100\u001b[0m\u001b[1;33m)\u001b[0m\u001b[1;33m:\u001b[0m\u001b[1;33m\u001b[0m\u001b[0m\n\u001b[0;32m      3\u001b[0m     \u001b[1;32mif\u001b[0m \u001b[0mi\u001b[0m\u001b[1;33m%\u001b[0m\u001b[1;36m10\u001b[0m\u001b[1;33m==\u001b[0m\u001b[1;36m0\u001b[0m\u001b[1;33m:\u001b[0m \u001b[1;32mprint\u001b[0m \u001b[0mi\u001b[0m\u001b[1;33m,\u001b[0m\u001b[1;33m\u001b[0m\u001b[0m\n\u001b[1;32m----> 4\u001b[1;33m     \u001b[0mresults\u001b[0m\u001b[1;33m.\u001b[0m\u001b[0mappend\u001b[0m\u001b[1;33m(\u001b[0m\u001b[1;33m(\u001b[0m\u001b[0mi\u001b[0m\u001b[1;33m,\u001b[0m \u001b[0mmode3\u001b[0m\u001b[1;33m(\u001b[0m\u001b[0mchar\u001b[0m\u001b[1;33m,\u001b[0m \u001b[1;33m(\u001b[0m\u001b[0mstep\u001b[0m\u001b[1;33m*\u001b[0m\u001b[1;36m100\u001b[0m\u001b[1;33m)\u001b[0m\u001b[1;33m/\u001b[0m\u001b[0mi\u001b[0m\u001b[1;33m,\u001b[0m \u001b[0mamount\u001b[0m\u001b[1;33m=\u001b[0m\u001b[0mi\u001b[0m\u001b[1;33m)\u001b[0m\u001b[1;33m)\u001b[0m\u001b[1;33m)\u001b[0m\u001b[1;33m\u001b[0m\u001b[0m\n\u001b[0m\u001b[0;32m      5\u001b[0m \u001b[1;33m\u001b[0m\u001b[0m\n\u001b[0;32m      6\u001b[0m \u001b[1;32mprint\u001b[0m\u001b[1;33m\u001b[0m\u001b[0m\n",
      "\u001b[1;32m<ipython-input-15-bf2171ba3664>\u001b[0m in \u001b[0;36mmode3\u001b[1;34m(char, step, amount)\u001b[0m\n\u001b[0;32m      1\u001b[0m \u001b[1;32mdef\u001b[0m \u001b[0mmode3\u001b[0m\u001b[1;33m(\u001b[0m\u001b[0mchar\u001b[0m\u001b[1;33m,\u001b[0m \u001b[0mstep\u001b[0m\u001b[1;33m,\u001b[0m \u001b[0mamount\u001b[0m\u001b[1;33m)\u001b[0m\u001b[1;33m:\u001b[0m\u001b[1;33m\u001b[0m\u001b[0m\n\u001b[1;32m----> 2\u001b[1;33m     \u001b[0mhist\u001b[0m\u001b[1;33m,\u001b[0m \u001b[0mchar\u001b[0m \u001b[1;33m=\u001b[0m \u001b[0mall_hist\u001b[0m\u001b[1;33m(\u001b[0m\u001b[0mchar\u001b[0m\u001b[1;33m,\u001b[0m \u001b[0mstep\u001b[0m\u001b[1;33m,\u001b[0m \u001b[0mamount\u001b[0m\u001b[1;33m)\u001b[0m\u001b[1;33m\u001b[0m\u001b[0m\n\u001b[0m\u001b[0;32m      3\u001b[0m     \u001b[0mtrain_mfcc\u001b[0m\u001b[1;33m,\u001b[0m \u001b[0mtrain_genre\u001b[0m\u001b[1;33m,\u001b[0m \u001b[0mtest_mfcc\u001b[0m\u001b[1;33m,\u001b[0m \u001b[0mtest_genre\u001b[0m \u001b[1;33m=\u001b[0m \u001b[0mtrain_test\u001b[0m\u001b[1;33m(\u001b[0m\u001b[0mchar\u001b[0m\u001b[1;33m,\u001b[0m \u001b[0mhist\u001b[0m\u001b[1;33m)\u001b[0m\u001b[1;33m\u001b[0m\u001b[0m\n\u001b[0;32m      4\u001b[0m     \u001b[1;32mreturn\u001b[0m \u001b[0mclassify\u001b[0m\u001b[1;33m(\u001b[0m\u001b[0mtrain_mfcc\u001b[0m\u001b[1;33m,\u001b[0m \u001b[0mtrain_genre\u001b[0m\u001b[1;33m,\u001b[0m \u001b[0mtest_mfcc\u001b[0m\u001b[1;33m,\u001b[0m \u001b[0mtest_genre\u001b[0m\u001b[1;33m)\u001b[0m\u001b[1;33m\u001b[0m\u001b[0m\n",
      "\u001b[1;32m<ipython-input-11-f61ef3321f0d>\u001b[0m in \u001b[0;36mall_hist\u001b[1;34m(char, step, amount)\u001b[0m\n\u001b[0;32m      3\u001b[0m     \u001b[0mtemp_char\u001b[0m\u001b[1;33m=\u001b[0m\u001b[1;33m[\u001b[0m\u001b[1;33m]\u001b[0m\u001b[1;33m\u001b[0m\u001b[0m\n\u001b[0;32m      4\u001b[0m     \u001b[1;32mfor\u001b[0m \u001b[0mc\u001b[0m \u001b[1;32min\u001b[0m \u001b[0mchar\u001b[0m\u001b[1;33m:\u001b[0m\u001b[1;33m\u001b[0m\u001b[0m\n\u001b[1;32m----> 5\u001b[1;33m         \u001b[0mtemp\u001b[0m \u001b[1;33m=\u001b[0m \u001b[0mhistogram\u001b[0m\u001b[1;33m(\u001b[0m\u001b[0mstep\u001b[0m\u001b[1;33m,\u001b[0m \u001b[0mc\u001b[0m\u001b[1;33m[\u001b[0m\u001b[1;36m0\u001b[0m\u001b[1;33m]\u001b[0m\u001b[1;33m,\u001b[0m \u001b[0mamount\u001b[0m\u001b[1;33m)\u001b[0m\u001b[1;33m\u001b[0m\u001b[0m\n\u001b[0m\u001b[0;32m      6\u001b[0m         \u001b[0mhist\u001b[0m\u001b[1;33m.\u001b[0m\u001b[0mappend\u001b[0m\u001b[1;33m(\u001b[0m\u001b[1;33m(\u001b[0m\u001b[0mtemp\u001b[0m\u001b[1;33m,\u001b[0m \u001b[0mc\u001b[0m\u001b[1;33m[\u001b[0m\u001b[1;36m1\u001b[0m\u001b[1;33m]\u001b[0m\u001b[1;33m)\u001b[0m\u001b[1;33m)\u001b[0m\u001b[1;33m\u001b[0m\u001b[0m\n\u001b[0;32m      7\u001b[0m         \u001b[0mtemp_char\u001b[0m\u001b[1;33m.\u001b[0m\u001b[0mappend\u001b[0m\u001b[1;33m(\u001b[0m\u001b[0mtemp\u001b[0m\u001b[1;33m)\u001b[0m\u001b[1;33m\u001b[0m\u001b[0m\n",
      "\u001b[1;32m<ipython-input-7-7c10238e71a4>\u001b[0m in \u001b[0;36mhistogram\u001b[1;34m(step, char, amount)\u001b[0m\n\u001b[0;32m      2\u001b[0m     \u001b[0mhistogram\u001b[0m \u001b[1;33m=\u001b[0m \u001b[0mnp\u001b[0m\u001b[1;33m.\u001b[0m\u001b[0mzeros\u001b[0m\u001b[1;33m(\u001b[0m\u001b[0mamount\u001b[0m\u001b[1;33m)\u001b[0m\u001b[1;33m\u001b[0m\u001b[0m\n\u001b[0;32m      3\u001b[0m     \u001b[1;32mfor\u001b[0m \u001b[0mc\u001b[0m \u001b[1;32min\u001b[0m \u001b[0mchar\u001b[0m\u001b[1;33m:\u001b[0m\u001b[1;33m\u001b[0m\u001b[0m\n\u001b[1;32m----> 4\u001b[1;33m         \u001b[0mhistogram\u001b[0m\u001b[1;33m[\u001b[0m\u001b[0mint\u001b[0m\u001b[1;33m(\u001b[0m\u001b[0mc\u001b[0m\u001b[1;33m/\u001b[0m\u001b[0mstep\u001b[0m\u001b[1;33m)\u001b[0m\u001b[1;33m]\u001b[0m \u001b[1;33m+=\u001b[0m \u001b[1;36m1.\u001b[0m\u001b[1;33m\u001b[0m\u001b[0m\n\u001b[0m\u001b[0;32m      5\u001b[0m     \u001b[1;32mreturn\u001b[0m \u001b[0mhistogram\u001b[0m\u001b[1;33m/\u001b[0m\u001b[0mlen\u001b[0m\u001b[1;33m(\u001b[0m\u001b[0mchar\u001b[0m\u001b[1;33m)\u001b[0m\u001b[1;33m\u001b[0m\u001b[0m\n",
      "\u001b[1;31mTypeError\u001b[0m: only size-1 arrays can be converted to Python scalars"
     ]
    }
   ],
   "source": [
    "results=[]\n",
    "for i in range(1,100):\n",
    "    if i%10==0: print i,\n",
    "    results.append((i, mode3(char, (step*100)/i, amount=i)))\n",
    "\n",
    "print\n",
    "results.sort(key=lambda x:x[1], reverse=True)\n",
    "print results[0]"
   ]
  },
  {
   "cell_type": "code",
   "execution_count": 96,
   "metadata": {
    "scrolled": false
   },
   "outputs": [
    {
     "name": "stdout",
     "output_type": "stream",
     "text": [
      "10 20 30 40 50 60 70 80 90\n",
      "[(17, 39), (18, 38), (16, 37), (20, 37), (21, 37), (39, 36), (44, 36), (52, 36), (13, 35), (19, 35), (23, 35), (37, 35), (40, 35), (45, 35), (46, 35), (47, 35), (51, 35), (53, 35), (57, 35), (58, 35), (59, 35), (60, 35), (15, 34), (36, 34), (38, 34), (41, 34), (42, 34), (43, 34), (48, 34), (49, 34), (50, 34), (54, 34), (56, 34), (61, 34), (62, 34), (14, 33), (22, 33), (24, 33), (25, 33), (30, 33), (31, 33), (34, 33), (35, 33), (55, 33), (63, 33), (64, 33), (65, 33), (81, 33), (82, 33), (84, 33), (85, 33), (89, 33), (93, 33), (32, 32), (66, 32), (67, 32), (68, 32), (69, 32), (71, 32), (80, 32), (83, 32), (86, 32), (87, 32), (88, 32), (90, 32), (91, 32), (92, 32), (94, 32), (95, 32), (96, 32), (97, 32), (98, 32), (99, 32), (33, 31), (70, 31), (72, 31), (73, 31), (74, 31), (75, 31), (76, 31), (77, 31), (78, 31), (79, 31), (11, 30), (27, 30), (29, 30), (12, 29), (26, 29), (9, 28), (28, 28), (7, 27), (8, 26), (10, 24), (6, 22), (5, 19)]\n",
      "(17, 39)\n"
     ]
    }
   ],
   "source": [
    "results=[]\n",
    "for i in range(5,100):\n",
    "    if i%10==0: print i,\n",
    "    results.append((i, mode4(char, (step*100)/i, amount=i)))\n",
    "\n",
    "print\n",
    "results.sort(key=lambda x:x[1], reverse=True)\n",
    "print results\n",
    "print results[0]"
   ]
  },
  {
   "cell_type": "code",
   "execution_count": 16,
   "metadata": {},
   "outputs": [
    {
     "name": "stdout",
     "output_type": "stream",
     "text": [
      "15\n",
      "0: 0 10 20 30 40 50 60 70 80 90\n",
      "1: 0 10 20 30 40 50 60 70 80 90\n",
      "2: 0 10 20 30 40 50 60 70 80 90\n",
      "3: 0 10 20 30 40 50 60 70 80 90\n",
      "4: 0 10 20 30 40 50 60 70 80 90\n",
      "5: 0 10 20 30 40 50 60 70 80 90\n",
      "6: 0 10 20 30 40 50 60 70 80 90\n",
      "7: 0 10 20 30 40 50 60 70 80 90\n",
      "8: 0 10 20 30 40 50 60 70 80 90\n",
      "9: 0 10 20 30 40 50 60 70 80 90\n"
     ]
    }
   ],
   "source": [
    "char, step = char3(15)"
   ]
  },
  {
   "cell_type": "code",
   "execution_count": 23,
   "metadata": {
    "scrolled": false
   },
   "outputs": [
    {
     "name": "stdout",
     "output_type": "stream",
     "text": [
      " set: 0\n",
      "87 : [6. 9. 6. 7. 4. 7. 6. 7. 5. 4.] 6.1 61\n",
      "88 : [7. 9. 6. 7. 4. 7. 6. 7. 5. 4.] 6.2 62\n",
      "89 : [7. 9. 6. 7. 4. 7. 6. 7. 5. 4.] 6.2 62\n",
      "90 : [6. 9. 6. 7. 4. 7. 6. 7. 5. 4.] 6.1 61\n",
      "91 : [5. 9. 6. 7. 4. 7. 6. 7. 5. 4.] 6.0 60\n",
      "92 : [5. 9. 6. 7. 4. 7. 6. 7. 5. 4.] 6.0 60\n",
      "set: 1\n",
      "87 : [ 7.  8.  6.  4.  8.  7. 10.  8.  3.  6.] 6.7 67\n",
      "88 : [ 7.  8.  6.  4.  9.  7. 10.  8.  3.  6.] 6.8 68\n",
      "89 : [ 7.  8.  6.  4.  9.  7. 10.  8.  3.  6.] 6.8 68\n",
      "90 : [ 7.  8.  7.  4.  9.  7. 10.  8.  3.  6.] 6.9 69\n",
      "91 : [ 7.  8.  7.  4.  9.  7. 10.  8.  3.  6.] 6.9 69\n",
      "92 : [ 7.  8.  7.  5.  9.  7. 10.  8.  3.  6.] 7.0 70\n",
      "set: 2\n",
      "87 : [ 6. 10.  7.  7.  8.  9.  6. 10.  8.  3.] 7.4 74\n",
      "88 : [ 6. 10.  7.  7.  8.  9.  6. 10.  8.  2.] 7.3 73\n",
      "89 : [ 6. 10.  7.  7.  8.  9.  6. 10.  8.  2.] 7.3 73\n",
      "90 : [ 6. 10.  7.  7.  8.  9.  6. 10.  8.  3.] 7.4 74\n",
      "91 : [ 6. 10.  7.  7.  8.  9.  6. 10.  8.  3.] 7.4 74\n",
      "92 : [ 6. 10.  7.  7.  8.  9.  6. 10.  8.  2.] 7.3 73\n",
      "set: 3\n",
      "87 : [ 5. 10.  6.  4.  5.  7. 10.  9.  5.  3.] 6.4 64\n",
      "88 : [ 6. 10.  6.  4.  5.  7. 10.  9.  5.  3.] 6.5 65\n",
      "89 : [ 5. 10.  6.  4.  5.  8. 10.  9.  5.  3.] 6.5 65\n",
      "90 : [ 5. 10.  6.  4.  5.  7. 10.  9.  5.  3.] 6.4 64\n",
      "91 : [ 5. 10.  6.  4.  5.  7. 10.  9.  5.  3.] 6.4 64\n",
      "92 : [ 5. 10.  6.  4.  5.  7. 10.  9.  5.  3.] 6.4 64\n",
      "set: 4\n",
      "87 : [ 7.  9.  6.  6.  6.  7. 10.  9.  7.  6.] 7.3 73\n",
      "88 : [ 7.  9.  6.  6.  6.  7. 10.  9.  7.  6.] 7.3 73\n",
      "89 : [ 8.  9.  6.  6.  6.  7. 10.  9.  7.  6.] 7.4 74\n",
      "90 : [ 8.  9.  6.  6.  7.  7. 10.  9.  7.  6.] 7.5 75\n",
      "91 : [ 7.  9.  6.  6.  7.  7. 10.  9.  7.  6.] 7.4 74\n",
      "92 : [ 7.  9.  6.  6.  7.  7. 10.  9.  7.  6.] 7.4 74\n",
      "set: 5\n",
      "87 : [ 9. 10.  6.  5.  5.  9.  8.  9.  6.  4.] 7.1 71\n",
      "88 : [ 9. 10.  6.  5.  5.  9.  8.  9.  6.  4.] 7.1 71\n",
      "89 : [ 9. 10.  6.  5.  5.  9.  8.  9.  6.  4.] 7.1 71\n",
      "90 : [ 9. 10.  6.  5.  5.  9.  8.  9.  6.  4.] 7.1 71\n",
      "91 : [ 9. 10.  6.  5.  5.  9.  9.  9.  6.  4.] 7.2 72\n",
      "92 : [ 9. 10.  6.  6.  5.  9.  8.  9.  5.  4.] 7.1 71\n",
      "set: 6\n",
      "87 : [ 8. 10.  6.  8.  3.  8. 10.  9.  6.  5.] 7.3 73\n",
      "88 : [ 8. 10.  6.  8.  3.  7. 10.  9.  6.  5.] 7.2 72\n",
      "89 : [ 8. 10.  6.  8.  3.  7. 10.  9.  6.  5.] 7.2 72\n",
      "90 : [ 8. 10.  6.  8.  3.  7. 10.  9.  6.  5.] 7.2 72\n",
      "91 : [ 8. 10.  6.  8.  3.  8. 10.  9.  6.  5.] 7.3 73\n",
      "92 : [ 8. 10.  6.  8.  3.  7. 10.  8.  6.  5.] 7.1 71\n",
      "set: 7\n",
      "87 : [ 8.  8.  7.  4.  7.  8. 10.  3.  5.  4.] 6.4 64\n",
      "88 : [ 8.  8.  7.  4.  6.  8. 10.  3.  5.  4.] 6.3 63\n",
      "89 : [ 8.  8.  7.  4.  7.  8. 10.  3.  6.  4.] 6.5 65\n",
      "90 : [ 8.  8.  7.  4.  7.  8. 10.  3.  6.  4.] 6.5 65\n",
      "91 : [ 8.  8.  7.  4.  7.  8. 10.  3.  5.  3.] 6.3 63\n",
      "92 : [ 8.  8.  7.  4.  7.  8. 10.  3.  5.  3.] 6.3 63\n",
      "set: 8\n",
      "87 : [8. 9. 5. 4. 6. 8. 9. 7. 6. 8.] 7.0 70\n",
      "88 : [8. 9. 5. 4. 6. 8. 9. 7. 6. 8.] 7.0 70\n",
      "89 : [8. 9. 5. 4. 6. 8. 9. 7. 6. 8.] 7.0 70\n",
      "90 : [8. 9. 6. 4. 6. 8. 9. 7. 6. 8.] 7.1 71\n",
      "91 : [8. 9. 6. 4. 6. 8. 9. 7. 6. 8.] 7.1 71\n",
      "92 : [8. 9. 6. 4. 6. 8. 9. 7. 6. 8.] 7.1 71\n",
      "set: 9\n",
      "87 : [5. 9. 8. 6. 5. 8. 8. 7. 7. 7.] 7.0 70\n",
      "88 : [5. 9. 8. 6. 5. 8. 8. 7. 7. 6.] 6.9 69\n",
      "89 : [5. 9. 8. 6. 5. 8. 8. 7. 7. 7.] 7.0 70\n",
      "90 : [5. 9. 8. 6. 5. 8. 8. 7. 7. 7.] 7.0 70\n",
      "91 : [5. 9. 8. 6. 5. 8. 8. 7. 7. 6.] 6.9 69\n",
      "92 : [5. 9. 8. 6. 5. 8. 8. 7. 7. 7.] 7.0 70\n"
     ]
    }
   ],
   "source": [
    "#char, step = char3(15)\n",
    "\n",
    "def mode5(char, step, amount, n_set, gamma):\n",
    "    hist, char = more_hist(char, step, amount)\n",
    "    train_mfcc, train_genre, test_mfcc, test_genre = train_test(char, hist, n_set)\n",
    "    return classify2(train_mfcc, train_genre, test_mfcc, test_genre, gamma)\n",
    "\n",
    "def classify2(train_mfcc, train_genre, test_mfcc, test_genre, g):\n",
    "    success=0\n",
    "    succ_gen = np.zeros(10)\n",
    "    clf=SVC(kernel = 'rbf', gamma=g)\n",
    "    clf.fit(train_mfcc,train_genre)\n",
    "    for i in range(100):\n",
    "        test=test_mfcc[i].reshape(1, -1)\n",
    "        pred = clf.predict(test)\n",
    "        if pred[0]==test_genre[i]:\n",
    "            succ_gen[test_genre[i]] += 1\n",
    "            success+=1\n",
    "    print succ_gen, np.mean(succ_gen), success\n",
    "    return success\n",
    "\n",
    "\n",
    "'''for j in range(-9,10):\n",
    "    print \"gamma:\", 1.4+(j/100.)'''\n",
    "for j in range(10):\n",
    "    print \"set:\", j\n",
    "    for i in range(87,93):\n",
    "        print str(i),\":\",\n",
    "        mode5(char, (step*100)/i, amount=i, n_set=j, gamma=1.4)"
   ]
  },
  {
   "cell_type": "code",
   "execution_count": 34,
   "metadata": {},
   "outputs": [
    {
     "name": "stdout",
     "output_type": "stream",
     "text": [
      "0 10 20 30 40 50 60 70 80 90 100 110 120 130 140 150 160 170 180 190 200 210 220 230 240 250 260 270 280 290 300 310 320 330 340 350 360 370 380 390 400 410 420 430 440 450 460 470 480 490 500 510 520 530 540 550 560 570 580 590 600 610 620 630 640 650 660 670 680 690 700 710 720 730 740 750 760 770 780 790 800 810 820 830 840 850 860 870 880 890 900 910 920 930 940 950 960 970 980 990 610\n"
     ]
    }
   ],
   "source": [
    "#leave one out\n",
    "from sklearn.model_selection import LeaveOneOut\n",
    "'''hist, char2 = more_hist(char, step, 90)\n",
    "\n",
    "loo = LeaveOneOut()\n",
    "loo.get_n_splits(char2)'''\n",
    "\n",
    "i = 0\n",
    "success = 0\n",
    "\n",
    "for train_index, test_index in loo.split(char2):\n",
    "    X_train = np.array([char2[j] for j in train_index])\n",
    "    X_test = np.array([char2[j] for j in test_index])\n",
    "    y_train  = np.array([hist[j][1] for j in train_index])\n",
    "    y_test = np.array([hist[j][1] for j in test_index])\n",
    "    clf=SVC(kernel = 'linear')\n",
    "    clf.fit(X_train,y_train)\n",
    "    test=X_test.reshape(1, -1)\n",
    "    pred = clf.predict(X_test)\n",
    "    if pred[0]==y_test:\n",
    "        success+=1\n",
    "    if i%10==0:\n",
    "        print str(i),\n",
    "    i+=1\n",
    "\n",
    "print success"
   ]
  },
  {
   "cell_type": "code",
   "execution_count": 21,
   "metadata": {
    "scrolled": false
   },
   "outputs": [
    {
     "name": "stdout",
     "output_type": "stream",
     "text": [
      "Feature ranking:\n",
      "1. feature 0 (0.014308)\n",
      "2. feature 8 (0.011714)\n",
      "3. feature 7 (0.011327)\n",
      "4. feature 5 (0.009689)\n",
      "5. feature 3 (0.009466)\n",
      "6. feature 11 (0.009017)\n",
      "7. feature 9 (0.009011)\n",
      "8. feature 3 (0.008772)\n",
      "9. feature 7 (0.008580)\n",
      "10. feature 1 (0.008336)\n",
      "11. feature 4 (0.008251)\n",
      "12. feature 0 (0.008147)\n",
      "13. feature 1 (0.008118)\n",
      "14. feature 1 (0.008039)\n",
      "15. feature 11 (0.007810)\n",
      "16. feature 7 (0.007490)\n",
      "17. feature 0 (0.007478)\n",
      "18. feature 1 (0.007467)\n",
      "19. feature 3 (0.007453)\n",
      "20. feature 6 (0.007429)\n",
      "21. feature 9 (0.007428)\n",
      "22. feature 3 (0.007410)\n",
      "23. feature 4 (0.007381)\n",
      "24. feature 1 (0.007218)\n",
      "25. feature 2 (0.007137)\n",
      "26. feature 1 (0.007121)\n",
      "27. feature 0 (0.007039)\n",
      "28. feature 2 (0.007011)\n",
      "29. feature 3 (0.006895)\n",
      "30. feature 2 (0.006688)\n",
      "31. feature 1 (0.006681)\n",
      "32. feature 5 (0.006669)\n",
      "33. feature 0 (0.006656)\n",
      "34. feature 3 (0.006593)\n",
      "35. feature 3 (0.006591)\n",
      "36. feature 0 (0.006549)\n",
      "37. feature 12 (0.006545)\n",
      "38. feature 1 (0.006542)\n",
      "39. feature 0 (0.006524)\n",
      "40. feature 5 (0.006523)\n",
      "41. feature 8 (0.006479)\n",
      "42. feature 0 (0.006460)\n",
      "43. feature 4 (0.006458)\n",
      "44. feature 4 (0.006433)\n",
      "45. feature 6 (0.006415)\n",
      "46. feature 5 (0.006372)\n",
      "47. feature 0 (0.006369)\n",
      "48. feature 0 (0.006355)\n",
      "49. feature 5 (0.006336)\n",
      "50. feature 0 (0.006310)\n",
      "51. feature 0 (0.006148)\n",
      "52. feature 2 (0.006148)\n",
      "53. feature 13 (0.006138)\n",
      "54. feature 9 (0.005980)\n",
      "55. feature 10 (0.005962)\n",
      "56. feature 6 (0.005930)\n",
      "57. feature 6 (0.005919)\n",
      "58. feature 9 (0.005910)\n",
      "59. feature 2 (0.005855)\n",
      "60. feature 4 (0.005757)\n",
      "61. feature 5 (0.005715)\n",
      "62. feature 0 (0.005672)\n",
      "63. feature 8 (0.005671)\n",
      "64. feature 4 (0.005641)\n",
      "65. feature 0 (0.005583)\n",
      "66. feature 10 (0.005562)\n",
      "67. feature 1 (0.005548)\n",
      "68. feature 0 (0.005543)\n",
      "69. feature 13 (0.005532)\n",
      "70. feature 2 (0.005496)\n",
      "71. feature 0 (0.005486)\n",
      "72. feature 8 (0.005474)\n",
      "73. feature 6 (0.005474)\n",
      "74. feature 6 (0.005471)\n",
      "75. feature 0 (0.005422)\n",
      "76. feature 0 (0.005336)\n",
      "77. feature 2 (0.005327)\n",
      "78. feature 7 (0.005267)\n",
      "79. feature 10 (0.005254)\n",
      "80. feature 2 (0.005235)\n",
      "81. feature 14 (0.005196)\n",
      "82. feature 13 (0.005194)\n",
      "83. feature 1 (0.005175)\n",
      "84. feature 2 (0.005139)\n",
      "85. feature 0 (0.005125)\n",
      "86. feature 6 (0.005098)\n",
      "87. feature 1 (0.005046)\n",
      "88. feature 1 (0.005033)\n",
      "89. feature 0 (0.005026)\n",
      "90. feature 12 (0.005017)\n",
      "91. feature 0 (0.005016)\n",
      "92. feature 7 (0.004997)\n",
      "93. feature 2 (0.004984)\n",
      "94. feature 1 (0.004901)\n",
      "95. feature 8 (0.004894)\n",
      "96. feature 10 (0.004877)\n",
      "97. feature 0 (0.004855)\n",
      "98. feature 14 (0.004813)\n",
      "99. feature 13 (0.004763)\n",
      "100. feature 0 (0.004700)\n",
      "[(11, 2), (12, 2), (14, 2), (9, 4), (10, 4), (13, 4), (7, 5), (8, 5), (4, 6), (5, 6), (3, 7), (6, 7), (2, 10), (1, 13), (0, 23)]\n"
     ]
    }
   ],
   "source": [
    "import numpy as np\n",
    "import matplotlib.pyplot as plt\n",
    "import operator\n",
    "\n",
    "from sklearn.datasets import make_classification\n",
    "from sklearn.ensemble import ExtraTreesClassifier\n",
    "\n",
    "def mode6(char, step, amount, n_set):\n",
    "    hist, char = more_hist(char, step, amount)\n",
    "    train_mfcc, train_genre, test_mfcc, test_genre = train_test(char, hist, n_set)\n",
    "    return classify3(train_mfcc, train_genre, test_mfcc, test_genre)\n",
    "\n",
    "def classify3(train_mfcc, train_genre, test_mfcc, test_genre):\n",
    "    value = dict([(key, 0) for key in range(15)])\n",
    "    order = dict([(key, 0) for key in range(15)])\n",
    "    forest = ExtraTreesClassifier()\n",
    "    forest.fit(train_mfcc,train_genre)\n",
    "    importances = forest.feature_importances_\n",
    "    std = np.std([tree.feature_importances_ for tree in forest.estimators_], axis=0)\n",
    "    indices = np.argsort(importances)[::-1]\n",
    "    # Print the feature ranking\n",
    "    print(\"Feature ranking:\")\n",
    "\n",
    "    for f in range(train_mfcc.shape[1]):\n",
    "        #print(\"%d. feature %d (%f)\" % (f + 1, indices[f]/90, importances[indices[f]]))\n",
    "        if not importances[indices[f]]<=10**-10:\n",
    "            print(\"%d. feature %d (%f)\" % (f + 1, indices[f]/90, importances[indices[f]]))\n",
    "            value[indices[f]/90] +=  1\n",
    "        else:\n",
    "            break\n",
    "    \n",
    "    value = sorted(value.items(), key=operator.itemgetter(1))\n",
    "    \n",
    "    print value\n",
    "\n",
    "    # Plot the feature importances of the forest\n",
    "    '''plt.figure()\n",
    "    plt.title(\"Feature importances\")\n",
    "    plt.bar(range(100), importances[indices],\n",
    "           color=\"r\", yerr=std[indices], align=\"center\")\n",
    "    plt.xticks(range(100), indices)\n",
    "    plt.xlim([-1, 10])\n",
    "    plt.show()'''\n",
    "\n",
    "mode6(char, (step*100)/90, amount=90, n_set=4)"
   ]
  },
  {
   "cell_type": "markdown",
   "metadata": {
    "collapsed": true
   },
   "source": [
    "# Results\n",
    "* char = 5\n",
    "* step = 18\n",
    "\n",
    "* **result** = 36\n",
    "\n",
    "\n",
    "* char = 20\n",
    "* step = 18\n",
    "\n",
    "* **result** = 37\n",
    "\n",
    "\n",
    "* char = 12\n",
    "* step = 18\n",
    "\n",
    "* **result** = 37"
   ]
  },
  {
   "cell_type": "code",
   "execution_count": null,
   "metadata": {
    "collapsed": true
   },
   "outputs": [],
   "source": []
  }
 ],
 "metadata": {
  "kernelspec": {
   "display_name": "Python [default]",
   "language": "python",
   "name": "python2"
  },
  "language_info": {
   "codemirror_mode": {
    "name": "ipython",
    "version": 2
   },
   "file_extension": ".py",
   "mimetype": "text/x-python",
   "name": "python",
   "nbconvert_exporter": "python",
   "pygments_lexer": "ipython2",
   "version": "2.7.13"
  }
 },
 "nbformat": 4,
 "nbformat_minor": 1
}
