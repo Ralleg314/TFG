{
 "cells": [
  {
   "cell_type": "code",
   "execution_count": 40,
   "metadata": {},
   "outputs": [
    {
     "name": "stdout",
     "output_type": "stream",
     "text": [
      "(array([-123.34043125, -124.86992302, -118.09270691, ...,    2.92127459,\n",
      "          2.53847532,   -3.64834993]), 0)\n",
      "(array([22.3302902 , 18.98290477,  9.04199625, ..., 17.8659965 ,\n",
      "       19.25348526, 18.31543632]), 0)\n",
      "(array([18.26834895, 12.27757208, -3.7601278 , ...,  6.78848806,\n",
      "        9.36059634, 14.26993704]), 0)\n",
      "(array([-82.95895252, -79.75701949, -81.22353235, ..., -13.16903348,\n",
      "       -11.81105283,  -1.90524262]), 0)\n",
      "(array([-221.05788326, -220.95413165, -230.79643782, ...,   -1.05488576,\n",
      "         -3.46162394,    3.39165237]), 0)\n",
      "(array([-308.93850575, -325.14543187, -305.86848   , ...,  -25.36814615,\n",
      "        -24.67830316,  -20.97712535]), 1)\n",
      "(array([-129.77346384, -131.58572086, -136.2113837 , ...,    1.4535953 ,\n",
      "         -0.5255501 ,    1.87245975]), 1)\n",
      "(array([-2.11484651e+02, -2.08944826e+02, -1.93908864e+02, ...,\n",
      "       -1.00848554e+01, -7.55533883e+00, -3.09800049e-02]), 1)\n",
      "(array([-189.19721562, -200.05763177, -216.85680438, ...,    5.2917889 ,\n",
      "          4.38418327,    5.638627  ]), 1)\n",
      "(array([-146.1001802 , -163.30205939, -196.67057989, ...,   -5.91784964,\n",
      "         -5.38479298,   -5.33505236]), 1)\n",
      "(array([-45.60555037, -48.09968973, -65.60223352, ...,  -1.941798  ,\n",
      "        -4.34432636,  -4.77776181]), 2)\n",
      "(array([-307.53602695, -311.53977674, -322.06133167, ...,    8.20711376,\n",
      "         10.91824077,    9.33655415]), 2)\n",
      "(array([-69.14006781, -71.39649239, -89.24002583, ...,  -7.29593458,\n",
      "        -4.72443939,  -3.74578582]), 2)\n",
      "(array([-135.70599148, -147.69804916, -179.17570695, ...,  -13.05512414,\n",
      "        -15.85888823,  -11.1867579 ]), 2)\n",
      "(array([-60.84669768, -28.17335671, -67.09474356, ...,   4.24405622,\n",
      "        -2.95439781,  -1.6912933 ]), 2)\n",
      "(array([-207.44594408, -236.51507214, -290.7000666 , ...,    7.3370801 ,\n",
      "          5.53663814,    4.83436091]), 3)\n",
      "(array([-167.32560403, -167.00931994, -172.34706071, ...,    3.76789767,\n",
      "          7.4982895 ,   10.17933347]), 3)\n",
      "(array([-205.87665774, -222.01221114, -266.22412054, ...,  -21.06326863,\n",
      "        -19.16545345,   -5.34288978]), 3)\n",
      "(array([-122.43327982, -109.85388177, -110.20979506, ...,    2.20435805,\n",
      "         -0.1617437 ,   -1.31892484]), 3)\n",
      "(array([-240.79328399, -259.29702824, -288.86190977, ...,    3.14268325,\n",
      "          3.95976241,    2.04300975]), 3)\n",
      "(array([-12.49703089, -19.64291926, -40.17683844, ...,   7.07211679,\n",
      "         8.89797196,   6.02650607]), 4)\n",
      "(array([-102.22459643, -100.86889091, -114.72018028, ...,   -6.78536215,\n",
      "         -6.15376967,   -2.8056524 ]), 4)\n",
      "(array([-27.04900786, -36.19309802, -66.68900953, ...,  -0.58309922,\n",
      "         0.81644568,   0.56927414]), 4)\n",
      "(array([ -75.89079675,  -85.51953736, -113.42141346, ...,    1.12971215,\n",
      "         10.59275432,    9.42336212]), 4)\n",
      "(array([-13.46783178, -22.37082997, -45.99188543, ...,  -0.20153326,\n",
      "         0.06512449,   1.65062593]), 4)\n",
      "(array([-33.06440985, -17.26947936,  47.1962139 , ...,  -0.7732017 ,\n",
      "        -6.27572527, -15.24951444]), 5)\n",
      "(array([ -1.05269754, -26.66088312, -76.89094459, ...,  -1.38787697,\n",
      "         5.85314736,  10.54119572]), 5)\n",
      "(array([30.48822087, 19.24448063,  7.2597851 , ..., -0.64956126,\n",
      "       -3.06909511, -3.00169901]), 5)\n",
      "(array([-16.57797016, -30.11328681, -32.36222203, ...,   6.34554659,\n",
      "         3.69489306,   4.98831219]), 5)\n",
      "(array([-115.47367885, -100.14987529,  -85.72163937, ...,    9.44616261,\n",
      "          5.05024557,   -6.2676293 ]), 5)\n",
      "(array([-202.76176796, -174.27357882, -135.44277588, ...,    0.51031518,\n",
      "         11.21591606,   13.07720128]), 6)\n",
      "(array([-48.49019   , -24.49134953,  -4.62325003, ...,   7.73496208,\n",
      "         7.1775645 ,   4.17720661]), 6)\n",
      "(array([-184.16768516, -180.89425125, -141.96593649, ...,    0.83459163,\n",
      "          4.6342375 ,    3.39029609]), 6)\n",
      "(array([-82.5400803 , -65.43669055, -76.25866827, ...,  -5.1855486 ,\n",
      "       -10.84083401, -16.95601542]), 6)\n",
      "(array([-21.67293824, -24.66273889, -49.94514125, ...,  13.60247357,\n",
      "         6.67651803,  12.12116519]), 6)\n",
      "(array([-124.61972197, -145.2632168 , -182.3511556 , ...,   12.80050162,\n",
      "         12.38789161,   10.41762057]), 7)\n",
      "(array([-135.31062714, -140.5035938 , -147.17260345, ...,   -7.76452863,\n",
      "          4.80052338,    9.37254731]), 7)\n",
      "(array([-197.3586187 , -217.69542219, -267.12974679, ...,    8.67517289,\n",
      "          8.52406905,    9.35542879]), 7)\n",
      "(array([-133.00218108, -136.81948274, -144.76431725, ...,    0.43869396,\n",
      "         -2.85948425,    4.16600033]), 7)\n",
      "(array([-23.74038528, -27.4185404 , -35.0139277 , ...,   7.07936286,\n",
      "        11.56206414,   7.27873706]), 7)\n",
      "(array([-358.90605888, -367.17740401, -379.60795412, ...,   30.72432681,\n",
      "         26.84030562,   27.06969238]), 8)\n",
      "(array([-3.93782986e+02, -4.02291290e+02, -4.00882774e+02, ...,\n",
      "       -5.72407059e+00, -9.14903815e-02,  1.54819287e+00]), 8)\n",
      "(array([-246.96523268, -261.05185091, -286.74065721, ...,  -10.55922715,\n",
      "        -11.72154153,  -12.10742042]), 8)\n",
      "(array([-267.93544962, -272.50914344, -281.42162157, ...,    8.67530144,\n",
      "          8.18935803,   11.03097362]), 8)\n",
      "(array([-288.81425776, -303.5527455 , -308.81492642, ...,   -9.76791775,\n",
      "         -5.51158265,   -1.23785838]), 8)\n",
      "(array([-448.4167288 , -457.35075988, -460.81393472, ...,   -7.07493682,\n",
      "         -6.20676847,   -5.68047885]), 9)\n",
      "(array([-177.90360481, -197.45982776, -231.43155121, ...,    3.26983067,\n",
      "          2.98980871,    3.60116332]), 9)\n",
      "(array([-239.94066649, -270.83335304, -331.69272312, ...,   -6.94463726,\n",
      "         -8.73806304,  -12.6202698 ]), 9)\n",
      "(array([-2.15057049e+02, -2.35504372e+02, -2.60411717e+02, ...,\n",
      "       -1.16879135e+00,  1.17416032e-01, -3.57036689e+00]), 9)\n",
      "(array([-300.62739084, -302.70952002, -311.64050031, ...,   -4.18941378,\n",
      "         -1.54564168,   -4.63286141]), 9)\n"
     ]
    }
   ],
   "source": [
    "import os\n",
    "import numpy, scipy, matplotlib.pyplot as plt, sklearn, librosa, urllib, IPython.display\n",
    "import librosa.display\n",
    "#import essentia, essentia.standard as ess\n",
    "\n",
    "characteristics=[]\n",
    "i=0\n",
    "genre={}\n",
    "\n",
    "for folder in os.listdir(\"./genres\"): #iterates all folders    \n",
    "    cont=0\n",
    "    \n",
    "    folder=\"./genres/\"+folder\n",
    "    if not folder in genre.keys(): #creates a dictionary genre->number\n",
    "        genre[folder]=i\n",
    "        i+=1\n",
    "    \n",
    "    for filename in os.listdir(folder): #iterates all files in the folder\n",
    "        filename = folder+\"/\"+filename\n",
    "        \n",
    "        if filename.endswith(\".au\"):\n",
    "            audio, fs = librosa.load(filename, duration=30) #loads the first 30 seconds of the song\n",
    "            mfcc = librosa.feature.mfcc(audio, sr=fs) #calculates MFCC of the song\n",
    "            mfcc=mfcc.flatten() #converts the matrix into a 1D array\n",
    "            characteristics.append((mfcc,genre[folder])) #adds the array to a list\n",
    "            #librosa.display.specshow(mfcc)\n",
    "            \n",
    "            cont+=1\n",
    "            if cont>=5:\n",
    "                break\n",
    "\n",
    "for i in characteristics:\n",
    "    print i"
   ]
  },
  {
   "cell_type": "code",
   "execution_count": 7,
   "metadata": {},
   "outputs": [
    {
     "name": "stdout",
     "output_type": "stream",
     "text": [
      "(5, 1293)\n"
     ]
    },
    {
     "data": {
      "image/png": "[encoded data removed]",
      "text/plain": [
       "<matplotlib.figure.Figure at 0x7f073006bfd0>"
      ]
     },
     "metadata": {},
     "output_type": "display_data"
    }
   ],
   "source": [
    "characteristics=[]\n",
    "for folder in os.listdir(\"./genres\"):\n",
    "    folder=\"./genres/\"+folder\n",
    "    for filename in os.listdir(folder):\n",
    "        filename = folder+\"/\"+filename\n",
    "        if filename.endswith(\".au\"):\n",
    "            audio, fs = librosa.load(filename)\n",
    "            mfcc2 = librosa.feature.mfcc(audio, n_mfcc=5, sr=fs)\n",
    "            characteristics.append(mfcc2)\n",
    "            print mfcc2.shape\n",
    "            librosa.display.specshow(mfcc2)\n",
    "            break\n",
    "        else:\n",
    "            continue\n",
    "    break"
   ]
  },
  {
   "cell_type": "code",
   "execution_count": 4,
   "metadata": {},
   "outputs": [
    {
     "name": "stdout",
     "output_type": "stream",
     "text": [
      "False\n"
     ]
    },
    {
     "name": "stderr",
     "output_type": "stream",
     "text": [
      "/home/ralleg/anaconda2/lib/python2.7/site-packages/ipykernel_launcher.py:1: DeprecationWarning: elementwise == comparison failed; this will raise an error in the future.\n",
      "  \"\"\"Entry point for launching an IPython kernel.\n"
     ]
    }
   ],
   "source": [
    "print mfcc==mfcc2"
   ]
  },
  {
   "cell_type": "code",
   "execution_count": null,
   "metadata": {},
   "outputs": [],
   "source": []
  }
 ],
 "metadata": {
  "kernelspec": {
   "display_name": "Python 2",
   "language": "python",
   "name": "python2"
  },
  "language_info": {
   "codemirror_mode": {
    "name": "ipython",
    "version": 2
   },
   "file_extension": ".py",
   "mimetype": "text/x-python",
   "name": "python",
   "nbconvert_exporter": "python",
   "pygments_lexer": "ipython2",
   "version": "2.7.14"
  }
 },
 "nbformat": 4,
 "nbformat_minor": 1
}
