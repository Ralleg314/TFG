{
 "cells": [
  {
   "cell_type": "code",
   "execution_count": 1,
   "metadata": {
    "collapsed": true
   },
   "outputs": [],
   "source": [
    "import os\n",
    "import numpy as np\n",
    "import matplotlib.pyplot as plt\n",
    "import librosa\n",
    "import librosa.display\n",
    "import scipy.misc\n",
    "from sklearn.decomposition import PCA\n",
    "from sklearn.svm import SVC\n",
    "#import essentia, essentia.standard as ess"
   ]
  },
  {
   "cell_type": "code",
   "execution_count": 2,
   "metadata": {
    "collapsed": true,
    "scrolled": true
   },
   "outputs": [],
   "source": [
    "def mode1():\n",
    "    char_gen=[]\n",
    "    i=0\n",
    "    genre={}\n",
    "    cont=0\n",
    "    for folder in os.listdir(\"./genres\"): #iterates all folders    \n",
    "\n",
    "        folder=\"./genres/\"+folder\n",
    "        if not folder in genre.keys(): #creates a dictionary genre->number\n",
    "            genre[folder]=i\n",
    "            i+=1\n",
    "\n",
    "        for filename in os.listdir(folder): #iterates all files in the folder\n",
    "            filename = folder+\"/\"+filename\n",
    "\n",
    "            if filename.endswith((\".au\",\".mp3\",\".wav\",\".aiff\")):\n",
    "                audio, fs = librosa.load(filename, duration=29.0, mono=True, sr=22050) #loads the first 30 seconds of the song\n",
    "                mfcc = librosa.feature.mfcc(audio, sr=fs) #calculates MFCC of the song\n",
    "                #The size of the matrix will be number_of_MFCCs*1292, which is a feature every 0.02s\n",
    "                #By default, it's 20*1291\n",
    "\n",
    "                \"\"\"The first comlumn gives useless information, so we remove it\n",
    "                Works as offset\"\"\"\n",
    "                mfcc = np.delete(mfcc, 0, axis=1)\n",
    "                                \n",
    "                #librosa.display.specshow(mfcc, x_axis='time')\n",
    "                #plt.show()\n",
    "\n",
    "                mfcc=np.transpose(mfcc)\n",
    "                mfcc=mfcc.flatten() #converts the matrix into a 1D array\n",
    "\n",
    "                char_gen.append((mfcc,genre[folder])) #adds the array to a list\n",
    "                \n",
    "                if cont%10==0:\n",
    "                    print cont%100,\n",
    "                \n",
    "                cont+=1\n",
    "                '''if cont>=10:\n",
    "                    break'''\n",
    "        print \n",
    "                    \n",
    "    return np.array(char_gen)"
   ]
  },
  {
   "cell_type": "code",
   "execution_count": 27,
   "metadata": {
    "collapsed": true,
    "scrolled": true
   },
   "outputs": [],
   "source": [
    "def mode2():\n",
    "    char_gen=[]\n",
    "    i=0\n",
    "    genre={}\n",
    "    for folder in os.listdir(\"./genres\"): #iterates all folders    \n",
    "        cont=0\n",
    "\n",
    "        folder=\"./genres/\"+folder\n",
    "        if not folder in genre.keys(): #creates a dictionary genre->number\n",
    "            genre[folder]=i\n",
    "            i+=1\n",
    "\n",
    "        for filename in os.listdir(folder): #iterates all files in the folder\n",
    "            filename = folder+\"/\"+filename\n",
    "\n",
    "            if filename.endswith((\".au\",\".mp3\",\".wav\",\".aiff\")):\n",
    "                audio, fs = librosa.load(filename, duration=30.0, mono=True, sr=22050) #loads the first 30 seconds of the song\n",
    "                mfcc = librosa.feature.mfcc(audio, sr=fs, n_fft=1024, hop_length=30*22050) #calculates MFCC of the song\n",
    "                #The size of the matrix will be number_of_MFCCs*1292, which is a feature every 0.02s\n",
    "                #By default, it's 20*1922\n",
    "\n",
    "                \"\"\"The first comlumn gives useless information, so we remove it\n",
    "                Works as offset\"\"\"\n",
    "                mfcc = np.delete(mfcc, 0, axis=1)\n",
    "                \n",
    "                #librosa.display.specshow(mfcc, x_axis='time')\n",
    "                #plt.show()\n",
    "                \n",
    "                mfcc=mfcc.flatten() #converts the matrix into a 1D array\n",
    "\n",
    "                char_gen.append((mfcc,genre[folder])) #adds the array to a list\n",
    "\n",
    "                cont+=1\n",
    "                if cont>=1:\n",
    "                    break\n",
    "                \n",
    "    return char_gen"
   ]
  },
  {
   "cell_type": "code",
   "execution_count": 33,
   "metadata": {},
   "outputs": [],
   "source": [
    "def mode3():\n",
    "    char_gen=[]\n",
    "    maxs=[]\n",
    "    mins=[]\n",
    "    i=0\n",
    "    genre={}\n",
    "    cont=0\n",
    "    for folder in os.listdir(\"./genres\"): #iterates all folders    \n",
    "\n",
    "        folder=\"./genres/\"+folder\n",
    "        if not folder in genre.keys(): #creates a dictionary genre->number\n",
    "            genre[folder]=i\n",
    "            i+=1\n",
    "\n",
    "        for filename in os.listdir(folder): #iterates all files in the folder\n",
    "            filename = folder+\"/\"+filename\n",
    "\n",
    "            if filename.endswith((\".au\",\".mp3\",\".wav\",\".aiff\")):\n",
    "                audio, fs = librosa.load(filename, duration=29.0, mono=True, sr=22050) #loads the first 30 seconds of the song\n",
    "                mfcc = librosa.feature.mfcc(audio, sr=fs) #calculates MFCC of the song\n",
    "                #The size of the matrix will be number_of_MFCCs*1292, which is a feature every 0.02s\n",
    "                #By default, it's 20*1291\n",
    "\n",
    "                \"\"\"The first comlumn gives useless information, so we remove it\n",
    "                Works as offset\"\"\"\n",
    "                mfcc = np.delete(mfcc, 0, axis=1)\n",
    "                                \n",
    "                maxs.append(np.amax(mfcc))\n",
    "                mins.append(np.amin(mfcc))\n",
    "                \n",
    "                mfcc=np.transpose(mfcc)\n",
    "                mfcc=mfcc.flatten() #converts the matrix into a 1D array\n",
    "\n",
    "                char_gen.append((mfcc,genre[folder])) #adds the array to a list\n",
    "                \n",
    "                if cont%10==0:\n",
    "                    print cont%100,\n",
    "                \n",
    "                cont+=1\n",
    "        print \n",
    "    step = (max(maxs) - min(mins))/100\n",
    "    return np.array(char_gen), step"
   ]
  },
  {
   "cell_type": "code",
   "execution_count": 40,
   "metadata": {
    "collapsed": true
   },
   "outputs": [],
   "source": [
    "def histogram(step, char):\n",
    "    histogram = np.zeros(100)\n",
    "    for c in char:\n",
    "        histogram[int(c/step)] += 1\n",
    "    return histogram"
   ]
  },
  {
   "cell_type": "code",
   "execution_count": 13,
   "metadata": {},
   "outputs": [
    {
     "name": "stdout",
     "output_type": "stream",
     "text": [
      "(5L, 1293L)\n"
     ]
    }
   ],
   "source": [
    "characteristics=[]\n",
    "for folder in os.listdir(\"./genres\"):\n",
    "    folder=\"./genres/\"+folder\n",
    "    for filename in os.listdir(folder):\n",
    "        filename = folder+\"/\"+filename\n",
    "        if filename.endswith(\".au\"):\n",
    "            audio, fs = librosa.load(filename)\n",
    "            mfcc2 = librosa.feature.mfcc(audio, n_mfcc=5, sr=fs)\n",
    "            characteristics.append(mfcc2)\n",
    "            print mfcc2.shape\n",
    "            librosa.display.specshow(mfcc2, x_axis='time') #Plot\n",
    "            plt.colorbar()\n",
    "            plt.tight_layout()\n",
    "            break\n",
    "        else:\n",
    "            continue\n",
    "    break"
   ]
  },
  {
   "cell_type": "code",
   "execution_count": 18,
   "metadata": {},
   "outputs": [
    {
     "name": "stdout",
     "output_type": "stream",
     "text": [
      "(5L, 60L)\n"
     ]
    },
    {
     "name": "stderr",
     "output_type": "stream",
     "text": [
      "C:\\Users\\Ralleg314\\Anaconda2\\lib\\site-packages\\ipykernel\\__main__.py:6: DeprecationWarning: `toimage` is deprecated!\n",
      "`toimage` is deprecated in SciPy 1.0.0, and will be removed in 1.2.0.\n",
      "Use Pillow's ``Image.fromarray`` directly instead.\n"
     ]
    }
   ],
   "source": [
    "audio, fs = librosa.load(\"./genres/rock/rock.00000.au\", duration=30)\n",
    "S = librosa.feature.melspectrogram(y = audio, hop_length=fs/2) #generate as many values as we need\n",
    "l = librosa.feature.mfcc(y = audio, n_mfcc=5, S=librosa.power_to_db(S)) #calculate MFCC\n",
    "l = np.delete(l, 0, axis=1) #first column gives meaningless information\n",
    "print l.shape\n",
    "scipy.misc.toimage(l).save('./genres/rock/rock.00000.png')\n",
    "librosa.display.specshow(l,  x_axis='time') #Plot\n",
    "plt.colorbar()\n",
    "plt.tight_layout()"
   ]
  },
  {
   "cell_type": "code",
   "execution_count": 95,
   "metadata": {
    "scrolled": true
   },
   "outputs": [
    {
     "name": "stdout",
     "output_type": "stream",
     "text": [
      "0 10 20 30 40 50 60 70 80 90\n",
      "0 10 20 30 40 50 60 70 80 90\n",
      "0 10 20 30 40 50 60 70 80 90\n",
      "0 10 20 30 40 50 60 70 80 90\n",
      "0 10 20 30 40 50 60 70 80 90\n",
      "0 10 20 30 40 50 60 70 80 90\n",
      "0 10 20 30 40 50 60 70 80 90\n",
      "0 10 20 30 40 50 60 70 80 90\n",
      "0 10 20 30 40 50 60 70 80 90\n",
      "0 10 20 30 40 50 60 70 80 90\n"
     ]
    }
   ],
   "source": [
    "char = mode1()"
   ]
  },
  {
   "cell_type": "code",
   "execution_count": 100,
   "metadata": {},
   "outputs": [
    {
     "name": "stdout",
     "output_type": "stream",
     "text": [
      "(1000L, 24960L)\n",
      "[[ 2.01698153e-04 -4.51693957e-07  1.39073971e-06 ... -7.62494730e-08\n",
      "  -1.35051962e-07  6.85119407e-08]\n",
      " [-4.51693957e-07  2.12552275e-04  5.97173249e-08 ...  2.45889471e-08\n",
      "   3.11463130e-10  5.51667858e-08]\n",
      " [ 1.39073971e-06  5.97173249e-08  2.13013732e-04 ... -2.40010039e-08\n",
      "   4.19978690e-08  2.00535219e-08]\n",
      " ...\n",
      " [-7.62494730e-08  2.45889471e-08 -2.40010039e-08 ...  2.13783185e-04\n",
      "  -1.96631564e-08 -1.43950823e-08]\n",
      " [-1.35051962e-07  3.11463130e-10  4.19978690e-08 ... -1.96631564e-08\n",
      "   2.13784639e-04 -4.02523703e-08]\n",
      " [ 6.85119407e-08  5.51667858e-08  2.00535219e-08 ... -1.43950823e-08\n",
      "  -4.02523703e-08  2.13776633e-04]]\n",
      "(1000L, 100L)\n"
     ]
    }
   ],
   "source": [
    "mfcc = np.array(char[:,0 ])\n",
    "mfcc = np.concatenate(mfcc).reshape(1000,24960)\n",
    "print mfcc.shape\n",
    "pca=PCA(n_components = 100, svd_solver='full')\n",
    "pca.fit(mfcc)\n",
    "mfcc=pca.transform(mfcc)\n",
    "print pca.get_precision()\n",
    "print mfcc.shape"
   ]
  },
  {
   "cell_type": "code",
   "execution_count": 71,
   "metadata": {
    "collapsed": true
   },
   "outputs": [],
   "source": [
    "def train_test(mfcc, char):\n",
    "    train_mfcc, test_mfcc=[],[]\n",
    "    train_genre, test_genre=[], []\n",
    "\n",
    "    for i in range(1000):\n",
    "        if i%10==0:\n",
    "            test_mfcc.append(mfcc[i])\n",
    "            test_genre.append(char[i][1])\n",
    "        else:\n",
    "            train_mfcc.append(mfcc[i])\n",
    "            train_genre.append(char[i][1])\n",
    "\n",
    "    train_mfcc = np.array(train_mfcc)\n",
    "    test_mfcc = np.array(test_mfcc)\n",
    "    train_genre = np.array(train_genre)\n",
    "    test_genre = np.array(test_genre)\n",
    "    return train_mfcc, train_genre, test_mfcc, test_genre"
   ]
  },
  {
   "cell_type": "code",
   "execution_count": 116,
   "metadata": {},
   "outputs": [
    {
     "name": "stdout",
     "output_type": "stream",
     "text": [
      "(100L, 100L)\n"
     ]
    }
   ],
   "source": [
    "print test_mfcc.shape"
   ]
  },
  {
   "cell_type": "code",
   "execution_count": 136,
   "metadata": {},
   "outputs": [
    {
     "name": "stdout",
     "output_type": "stream",
     "text": [
      "12\n"
     ]
    }
   ],
   "source": [
    "success=0\n",
    "clf=SVC()\n",
    "clf.fit(train_mfcc,train_genre)\n",
    "for i in range(100):\n",
    "    test=test_mfcc[i].reshape(1, -1)\n",
    "    pred = clf.predict(test)\n",
    "    if pred[0]==test_genre[i]:\n",
    "        success+=1\n",
    "print success"
   ]
  },
  {
   "cell_type": "code",
   "execution_count": 35,
   "metadata": {},
   "outputs": [
    {
     "name": "stdout",
     "output_type": "stream",
     "text": [
      " 0 10 20 30 40 50 60 70 80 90\n",
      "0 10 20 30 40 50 60 70 80 90\n",
      "0 10 20 30 40 50 60 70 80 90\n",
      "0 10 20 30 40 50 60 70 80 90\n",
      "0 10 20 30 40 50 60 70 80 90\n",
      "0 10 20 30 40 50 60 70 80 90\n",
      "0 10 20 30 40 50 60 70 80 90\n",
      "0 10 20 30 40 50 60 70 80 90\n",
      "0 10 20 30 40 50 60 70 80 90\n",
      "0 10 20 30 40 50 60 70 80 90\n"
     ]
    }
   ],
   "source": [
    "char,step = mode3()"
   ]
  },
  {
   "cell_type": "code",
   "execution_count": 10,
   "metadata": {},
   "outputs": [
    {
     "name": "stdout",
     "output_type": "stream",
     "text": [
      "264.0727396648672\n"
     ]
    }
   ],
   "source": [
    "print max(maxs)"
   ]
  },
  {
   "cell_type": "code",
   "execution_count": 11,
   "metadata": {},
   "outputs": [
    {
     "name": "stdout",
     "output_type": "stream",
     "text": [
      "-678.8547296660767\n"
     ]
    }
   ],
   "source": [
    "print min(mins)"
   ]
  },
  {
   "cell_type": "code",
   "execution_count": 22,
   "metadata": {},
   "outputs": [
    {
     "name": "stdout",
     "output_type": "stream",
     "text": [
      " 119 204.53755220978852\n"
     ]
    }
   ],
   "source": [
    "for i in range(1000):\n",
    "    if not ((maxs[i]-mins[i])/100)<8:\n",
    "        print i"
   ]
  },
  {
   "cell_type": "code",
   "execution_count": 23,
   "metadata": {},
   "outputs": [
    {
     "data": {
      "text/plain": [
       "9.429274693309438"
      ]
     },
     "execution_count": 23,
     "metadata": {},
     "output_type": "execute_result"
    }
   ],
   "source": [
    "(max(maxs)-min(mins))/100"
   ]
  },
  {
   "cell_type": "code",
   "execution_count": 69,
   "metadata": {},
   "outputs": [],
   "source": [
    "hist=[]\n",
    "mfcc=[]\n",
    "for i in range(1000):\n",
    "    temp = histogram(step, char[i][0])\n",
    "    hist.append((temp, char[i][1]))\n",
    "    mfcc.append(temp)\n"
   ]
  },
  {
   "cell_type": "code",
   "execution_count": 73,
   "metadata": {},
   "outputs": [],
   "source": [
    "train_mfcc, train_genre, test_mfcc, test_genre = train_test(mfcc, hist)"
   ]
  },
  {
   "cell_type": "code",
   "execution_count": 77,
   "metadata": {},
   "outputs": [
    {
     "name": "stdout",
     "output_type": "stream",
     "text": [
      "9 9 9 9 9 9 9 9 9 9 9 9 9 9 9 9 9 9 9 9 9 9 9 9 9 9 9 9 9 9 9 9 9 9 9 9 9 9 9 9 9 9 9 9 9 9 9 9 9 9 9 9 9 9 5 9 9 9 9 9 9 9 9 9 6 9 9 9 9 9 9 9 9 9 9 9 7 9 9 9 9 9 9 9 9 9 9 9 9 9 9 9 9 9 9 9 9 9 9 9 13\n"
     ]
    }
   ],
   "source": [
    "success=0\n",
    "clf=SVC()\n",
    "clf.fit(train_mfcc,train_genre)\n",
    "for i in range(100):\n",
    "    test=test_mfcc[i].reshape(1, -1)\n",
    "    pred = clf.predict(test)\n",
    "    print pred[0], \n",
    "    if pred[0]==test_genre[i]:\n",
    "        success+=1\n",
    "print success"
   ]
  },
  {
   "cell_type": "code",
   "execution_count": null,
   "metadata": {
    "collapsed": true
   },
   "outputs": [],
   "source": []
  }
 ],
 "metadata": {
  "kernelspec": {
   "display_name": "Python [default]",
   "language": "python",
   "name": "python2"
  },
  "language_info": {
   "codemirror_mode": {
    "name": "ipython",
    "version": 2
   },
   "file_extension": ".py",
   "mimetype": "text/x-python",
   "name": "python",
   "nbconvert_exporter": "python",
   "pygments_lexer": "ipython2",
   "version": "2.7.13"
  }
 },
 "nbformat": 4,
 "nbformat_minor": 1
}
