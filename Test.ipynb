{
 "cells": [
  {
   "cell_type": "code",
   "execution_count": 16,
   "metadata": {},
   "outputs": [],
   "source": [
    "import os\n",
    "import numpy as np\n",
    "import matplotlib.pyplot as plt\n",
    "import librosa\n",
    "import librosa.display\n",
    "import scipy.misc\n",
    "import sklearn\n",
    "#import essentia, essentia.standard as ess"
   ]
  },
  {
   "cell_type": "code",
   "execution_count": 27,
   "metadata": {
    "scrolled": true
   },
   "outputs": [],
   "source": [
    "char_gen=[]\n",
    "characteristics=[]\n",
    "i=0\n",
    "genre={}\n",
    "\n",
    "for folder in os.listdir(\"./genres\"): #iterates all folders    \n",
    "    cont=0\n",
    "    \n",
    "    folder=\"./genres/\"+folder\n",
    "    if not folder in genre.keys(): #creates a dictionary genre->number\n",
    "        genre[folder]=i\n",
    "        i+=1\n",
    "    \n",
    "    for filename in os.listdir(folder): #iterates all files in the folder\n",
    "        filename = folder+\"/\"+filename\n",
    "        \n",
    "        if filename.endswith((\".au\",\".mp3\",\".wav\",\".aiff\")):\n",
    "            audio, fs = librosa.load(filename, duration=30.0, mono=True, sr=22050) #loads the first 30 seconds of the song\n",
    "            mfcc = librosa.feature.mfcc(audio, sr=fs) #calculates MFCC of the song\n",
    "            #The size of the matrix will be number_of_MFCCs*1292, which is a feature every 0.02s\n",
    "            #By default, it's 20*1922\n",
    "            \n",
    "            \"\"\"The first comlumn gives useless information, so we remove it\n",
    "            Works as offset\"\"\"\n",
    "            mfcc = np.delete(mfcc, 0, axis=1)\n",
    "                        \n",
    "            mfcc=mfcc.flatten() #converts the matrix into a 1D array\n",
    "            \n",
    "            char_gen.append((mfcc,genre[folder])) #adds the array to a list\n",
    "            characteristics.append(mfcc) #adds the array to a list\n",
    "            \n",
    "            #librosa.display.specshow(mfcc)\n",
    "            \n",
    "            '''cont+=1\n",
    "            if cont>=1:\n",
    "                break'''\n"
   ]
  },
  {
   "cell_type": "code",
   "execution_count": 19,
   "metadata": {},
   "outputs": [],
   "source": [
    "characteristics=[]\n",
    "for folder in os.listdir(\"./genres\"):\n",
    "    folder=\"./genres/\"+folder\n",
    "    for filename in os.listdir(folder):\n",
    "        filename = folder+\"/\"+filename\n",
    "        if filename.endswith(\".au\"):\n",
    "            audio, fs = librosa.load(filename)\n",
    "            mfcc2 = librosa.feature.mfcc(audio, n_mfcc=5, sr=fs)\n",
    "            characteristics.append(mfcc2)\n",
    "            print mfcc2.shape\n",
    "            librosa.display.specshow(mfcc2, x_axis='time') #Plot\n",
    "            plt.colorbar()\n",
    "            plt.tight_layout()\n",
    "            break\n",
    "        else:\n",
    "            continue\n",
    "    break"
   ]
  },
  {
   "cell_type": "code",
   "execution_count": 18,
   "metadata": {},
   "outputs": [
    {
     "name": "stdout",
     "output_type": "stream",
     "text": [
      "(5L, 60L)\n"
     ]
    },
    {
     "name": "stderr",
     "output_type": "stream",
     "text": [
      "C:\\Users\\Ralleg314\\Anaconda2\\lib\\site-packages\\ipykernel\\__main__.py:6: DeprecationWarning: `toimage` is deprecated!\n",
      "`toimage` is deprecated in SciPy 1.0.0, and will be removed in 1.2.0.\n",
      "Use Pillow's ``Image.fromarray`` directly instead.\n"
     ]
    }
   ],
   "source": [
    "audio, fs = librosa.load(\"./genres/rock/rock.00000.au\", duration=30)\n",
    "S = librosa.feature.melspectrogram(y = audio, hop_length=fs/2) #generate as many values as we need\n",
    "l = librosa.feature.mfcc(y = audio, n_mfcc=5, S=librosa.power_to_db(S)) #calculate MFCC\n",
    "l = np.delete(l, 0, axis=1) #first column gives meaningless information\n",
    "print l.shape\n",
    "scipy.misc.toimage(l).save('./genres/rock/rock.00000.png')\n",
    "librosa.display.specshow(l,  x_axis='time') #Plot\n",
    "plt.colorbar()\n",
    "plt.tight_layout()"
   ]
  },
  {
   "cell_type": "code",
   "execution_count": 28,
   "metadata": {},
   "outputs": [
    {
     "data": {
      "text/plain": [
       "SVC(C=[array([-2.08945e+02, -1.93909e+02, ..., -7.55534e+00, -3.09800e-02]), array([-223.67753, -156.06528, ...,   -5.80774,   -4.40837]), array([-71.44897, -96.38281, ...,  -4.05437, -13.66373]), array([-196.83621, -213.41225, ...,   -7.66449,   -7.50039]), array([-180.03837, -155.01845, ...,  -22.8666....67261, ...,   -2.97236,   -7.40131]), array([-281.51549, -302.4701 , ...,   -4.57553,   -3.76044])],\n",
       "  cache_size=200, class_weight=None, coef0=0.0,\n",
       "  decision_function_shape='ovr', degree=3, gamma='auto', kernel='rbf',\n",
       "  max_iter=-1, probability=False, random_state=None, shrinking=True,\n",
       "  tol=0.001, verbose=False)"
      ]
     },
     "execution_count": 28,
     "metadata": {},
     "output_type": "execute_result"
    }
   ],
   "source": [
    "sklearn.svm.SVC(characteristics)"
   ]
  },
  {
   "cell_type": "code",
   "execution_count": null,
   "metadata": {
    "collapsed": true
   },
   "outputs": [],
   "source": []
  }
 ],
 "metadata": {
  "kernelspec": {
   "display_name": "Python [default]",
   "language": "python",
   "name": "python2"
  },
  "language_info": {
   "codemirror_mode": {
    "name": "ipython",
    "version": 2
   },
   "file_extension": ".py",
   "mimetype": "text/x-python",
   "name": "python",
   "nbconvert_exporter": "python",
   "pygments_lexer": "ipython2",
   "version": "2.7.13"
  }
 },
 "nbformat": 4,
 "nbformat_minor": 1
}
