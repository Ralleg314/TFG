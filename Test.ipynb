{
 "cells": [
  {
   "cell_type": "code",
   "execution_count": 1,
   "metadata": {
    "collapsed": true
   },
   "outputs": [],
   "source": [
    "import os\n",
    "import numpy as np\n",
    "import matplotlib.pyplot as plt\n",
    "import librosa\n",
    "import librosa.display\n",
    "import scipy.misc\n",
    "from sklearn.decomposition import PCA\n",
    "from sklearn.svm import SVC\n",
    "from sklearn.preprocessing import StandardScaler\n",
    "#import essentia, essentia.standard as ess"
   ]
  },
  {
   "cell_type": "code",
   "execution_count": 2,
   "metadata": {
    "collapsed": true,
    "scrolled": true
   },
   "outputs": [],
   "source": [
    "def char1():\n",
    "    char_gen=[]\n",
    "    i=0\n",
    "    genre={}\n",
    "    cont=0\n",
    "    for folder in os.listdir(\"./genres\"): #iterates all folders    \n",
    "\n",
    "        folder=\"./genres/\"+folder\n",
    "        if not folder in genre.keys(): #creates a dictionary genre->number\n",
    "            genre[folder]=i\n",
    "            i+=1\n",
    "\n",
    "        for filename in os.listdir(folder): #iterates all files in the folder\n",
    "            filename = folder+\"/\"+filename\n",
    "\n",
    "            if filename.endswith((\".au\",\".mp3\",\".wav\",\".aiff\")):\n",
    "                audio, fs = librosa.load(filename, duration=29.0, mono=True, sr=22050) #loads the first 30 seconds of the song\n",
    "                mfcc = librosa.feature.mfcc(audio, sr=fs) #calculates MFCC of the song\n",
    "                #The size of the matrix will be number_of_MFCCs*1292, which is a feature every 0.02s\n",
    "                #By default, it's 20*1291\n",
    "\n",
    "                \"\"\"The first comlumn gives useless information, so we remove it\n",
    "                Works as offset\"\"\"\n",
    "                mfcc = np.delete(mfcc, 0, axis=1)\n",
    "                                \n",
    "                #librosa.display.specshow(mfcc, x_axis='time')\n",
    "                #plt.show()\n",
    "\n",
    "                mfcc=np.transpose(mfcc)\n",
    "                mfcc=mfcc.flatten() #converts the matrix into a 1D array\n",
    "\n",
    "                char_gen.append((mfcc,genre[folder])) #adds the array to a list\n",
    "                \n",
    "                if cont%10==0:\n",
    "                    print cont%100,\n",
    "                \n",
    "                cont+=1\n",
    "                '''if cont>=10:\n",
    "                    break'''\n",
    "        print \n",
    "                    \n",
    "    return np.array(char_gen)"
   ]
  },
  {
   "cell_type": "code",
   "execution_count": 3,
   "metadata": {
    "collapsed": true,
    "scrolled": true
   },
   "outputs": [],
   "source": [
    "def char2():\n",
    "    char_gen=[]\n",
    "    i=0\n",
    "    genre={}\n",
    "    for folder in os.listdir(\"./genres\"): #iterates all folders    \n",
    "        cont=0\n",
    "\n",
    "        folder=\"./genres/\"+folder\n",
    "        if not folder in genre.keys(): #creates a dictionary genre->number\n",
    "            genre[folder]=i\n",
    "            i+=1\n",
    "\n",
    "        for filename in os.listdir(folder): #iterates all files in the folder\n",
    "            filename = folder+\"/\"+filename\n",
    "\n",
    "            if filename.endswith((\".au\",\".mp3\",\".wav\",\".aiff\")):\n",
    "                audio, fs = librosa.load(filename, duration=30.0, mono=True, sr=22050) #loads the first 30 seconds of the song\n",
    "                mfcc = librosa.feature.mfcc(audio, sr=fs, n_fft=1024, hop_length=30*22050) #calculates MFCC of the song\n",
    "                #The size of the matrix will be number_of_MFCCs*1292, which is a feature every 0.02s\n",
    "                #By default, it's 20*1922\n",
    "\n",
    "                \"\"\"The first comlumn gives useless information, so we remove it\n",
    "                Works as offset\"\"\"\n",
    "                mfcc = np.delete(mfcc, 0, axis=1)\n",
    "                \n",
    "                #librosa.display.specshow(mfcc, x_axis='time')\n",
    "                #plt.show()\n",
    "                \n",
    "                mfcc=mfcc.flatten() #converts the matrix into a 1D array\n",
    "\n",
    "                char_gen.append((mfcc,genre[folder])) #adds the array to a list\n",
    "\n",
    "                cont+=1\n",
    "                if cont>=1:\n",
    "                    break\n",
    "                \n",
    "    return char_gen"
   ]
  },
  {
   "cell_type": "code",
   "execution_count": 4,
   "metadata": {
    "collapsed": true
   },
   "outputs": [],
   "source": [
    "def char3(char=5):\n",
    "    char_gen=[]\n",
    "    maxs=[]\n",
    "    mins=[]\n",
    "    i=0\n",
    "    genre={}\n",
    "    cont=0\n",
    "    scaler = StandardScaler()\n",
    "    for folder in os.listdir(\"./genres\"): #iterates all folders    \n",
    "\n",
    "        folder=\"./genres/\"+folder\n",
    "        if not folder in genre.keys(): #creates a dictionary genre->number\n",
    "            genre[folder]=i\n",
    "            i+=1\n",
    "\n",
    "        for filename in os.listdir(folder): #iterates all files in the folder\n",
    "            filename = folder+\"/\"+filename\n",
    "\n",
    "            if filename.endswith((\".au\",\".mp3\",\".wav\",\".aiff\")):\n",
    "                audio, fs = librosa.load(filename, duration=29.0, mono=True, sr=22050) #loads the first 30 seconds of the song\n",
    "                mfcc = librosa.feature.mfcc(audio, sr=fs, n_mfcc=char) #calculates MFCC of the song\n",
    "                #The size of the matrix will be number_of_MFCCs*1292, which is a feature every 0.02s\n",
    "                #By default, it's 20*1291\n",
    "\n",
    "                \"\"\"The first comlumn gives useless information, so we remove it\n",
    "                Works as offset\"\"\"\n",
    "                mfcc = np.delete(mfcc, 0, axis=1)\n",
    "                \n",
    "                #mfcc = scaler.fit_transform(mfcc)\n",
    "                                \n",
    "                maxs.append(np.amax(mfcc))\n",
    "                mins.append(np.amin(mfcc))\n",
    "                \n",
    "                mfcc=np.transpose(mfcc)\n",
    "                mfcc=mfcc.flatten() #converts the matrix into a 1D array\n",
    "\n",
    "                char_gen.append((mfcc,genre[folder])) #adds the array to a list\n",
    "                \n",
    "                if cont%10==0:\n",
    "                    print cont%100,\n",
    "                \n",
    "                cont+=1\n",
    "        print \n",
    "    step = (max(maxs) - min(mins))/100\n",
    "    return np.array(char_gen), step"
   ]
  },
  {
   "cell_type": "code",
   "execution_count": 28,
   "metadata": {
    "collapsed": true
   },
   "outputs": [],
   "source": [
    "def histogram(step, char, amount):\n",
    "    histogram = np.zeros(amount)\n",
    "    for c in char:\n",
    "        histogram[int(c/step)] += 1.\n",
    "    return histogram/len(char)"
   ]
  },
  {
   "cell_type": "code",
   "execution_count": 6,
   "metadata": {
    "collapsed": true
   },
   "outputs": [],
   "source": [
    "def reshape_pca(char):\n",
    "    mfcc = np.array(char[:,0 ])\n",
    "    mfcc = np.concatenate(mfcc).reshape(1000,24960)\n",
    "    pca=PCA(n_components = 100, svd_solver='full')\n",
    "    pca.fit(mfcc)\n",
    "    mfcc=pca.transform(mfcc)\n",
    "    return mfcc"
   ]
  },
  {
   "cell_type": "code",
   "execution_count": 7,
   "metadata": {
    "collapsed": true
   },
   "outputs": [],
   "source": [
    "def train_test(mfcc, char):\n",
    "    train_mfcc, test_mfcc=[],[]\n",
    "    train_genre, test_genre=[], []\n",
    "\n",
    "    for i in range(1000):\n",
    "        if i%10==0:\n",
    "            test_mfcc.append(mfcc[i])\n",
    "            test_genre.append(char[i][1])\n",
    "        else:\n",
    "            train_mfcc.append(mfcc[i])\n",
    "            train_genre.append(char[i][1])\n",
    "\n",
    "    train_mfcc = np.array(train_mfcc)\n",
    "    test_mfcc = np.array(test_mfcc)\n",
    "    train_genre = np.array(train_genre)\n",
    "    test_genre = np.array(test_genre)\n",
    "    return train_mfcc, train_genre, test_mfcc, test_genre"
   ]
  },
  {
   "cell_type": "code",
   "execution_count": 47,
   "metadata": {},
   "outputs": [
    {
     "name": "stdout",
     "output_type": "stream",
     "text": [
      "\n"
     ]
    }
   ],
   "source": [
    "def classify(train_mfcc, train_genre, test_mfcc, test_genre):\n",
    "    success=0\n",
    "    clf=SVC(C=0.0001)\n",
    "    clf.fit(train_mfcc,train_genre)\n",
    "    for i in range(100):\n",
    "        test=test_mfcc[i].reshape(1, -1)\n",
    "        pred = clf.predict(test)\n",
    "        if pred[0]==test_genre[i]:\n",
    "            success+=1\n",
    "    return success"
   ]
  },
  {
   "cell_type": "code",
   "execution_count": 32,
   "metadata": {
    "collapsed": true
   },
   "outputs": [],
   "source": [
    "def all_hist(char, step, amount):\n",
    "    hist=[]\n",
    "    temp_char=[]\n",
    "    for c in char:\n",
    "        temp = histogram(step, c[0], amount)\n",
    "        hist.append((temp, c[1]))\n",
    "        temp_char.append(temp)\n",
    "    return hist, temp_char\n"
   ]
  },
  {
   "cell_type": "code",
   "execution_count": 10,
   "metadata": {
    "collapsed": true
   },
   "outputs": [],
   "source": [
    "def mode1():\n",
    "    char = char1()\n",
    "    mfcc = reshape_pca(char)\n",
    "    train_mfcc, train_genre, test_mfcc, test_genre = train_test(mfcc, char)\n",
    "    classify(train_mfcc, train_genre, test_mfcc, test_genre)"
   ]
  },
  {
   "cell_type": "code",
   "execution_count": 11,
   "metadata": {
    "collapsed": true
   },
   "outputs": [],
   "source": [
    "def mode2():\n",
    "    char = char2()\n",
    "    mfcc = reshape_pca(char)\n",
    "    train_mfcc, train_genre, test_mfcc, test_genre = train_test(mfcc, char)\n",
    "    classify(train_mfcc, train_genre, test_mfcc, test_genre)"
   ]
  },
  {
   "cell_type": "code",
   "execution_count": 49,
   "metadata": {
    "collapsed": true
   },
   "outputs": [],
   "source": [
    "def mode3(char, step, amount):\n",
    "    hist, char = all_hist(char, step, amount)\n",
    "    train_mfcc, train_genre, test_mfcc, test_genre = train_test(char, hist)\n",
    "    return classify(train_mfcc, train_genre, test_mfcc, test_genre)"
   ]
  },
  {
   "cell_type": "code",
   "execution_count": 57,
   "metadata": {},
   "outputs": [
    {
     "name": "stdout",
     "output_type": "stream",
     "text": [
      "0 10 20 30 40 50 60 70 80 90\n",
      "0 10 20 30 40 50 60 70 80 90\n",
      "0 10 20 30 40 50 60 70 80 90\n",
      "0 10 20 30 40 50 60 70 80 90\n",
      "0 10 20 30 40 50 60 70 80 90\n",
      "0 10 20 30 40 50 60 70 80 90\n",
      "0 10 20 30 40 50 60 70 80 90\n",
      "0 10 20 30 40 50 60 70 80 90\n",
      "0 10 20 30 40 50 60 70 80 90\n",
      "0 10 20 30 40 50 60 70 80 90\n"
     ]
    }
   ],
   "source": [
    "char, step = char3(char=12)"
   ]
  },
  {
   "cell_type": "code",
   "execution_count": 58,
   "metadata": {
    "scrolled": false
   },
   "outputs": [
    {
     "name": "stdout",
     "output_type": "stream",
     "text": [
      "10 20 30 40 50 60 70 80 90\n",
      "(18, 37)\n"
     ]
    }
   ],
   "source": [
    "results=[]\n",
    "for i in range(1,100):\n",
    "    if i%10==0: print i,\n",
    "    results.append((i, mode3(char, (step*100)/i, amount=i)))\n",
    "\n",
    "print\n",
    "results.sort(key=lambda x:x[1], reverse=True)\n",
    "print results[0]"
   ]
  },
  {
   "cell_type": "markdown",
   "metadata": {
    "collapsed": true
   },
   "source": [
    "# Results\n",
    "* char = 5\n",
    "* step = 18\n",
    "\n",
    "* **result** = 36\n",
    "\n",
    "\n",
    "* char = 20\n",
    "* step = 18\n",
    "\n",
    "* **result** = 37\n",
    "\n",
    "\n",
    "* char = 12\n",
    "* step = 18\n",
    "\n",
    "* **result** = 37"
   ]
  },
  {
   "cell_type": "code",
   "execution_count": null,
   "metadata": {
    "collapsed": true
   },
   "outputs": [],
   "source": []
  }
 ],
 "metadata": {
  "kernelspec": {
   "display_name": "Python [default]",
   "language": "python",
   "name": "python2"
  },
  "language_info": {
   "codemirror_mode": {
    "name": "ipython",
    "version": 2
   },
   "file_extension": ".py",
   "mimetype": "text/x-python",
   "name": "python",
   "nbconvert_exporter": "python",
   "pygments_lexer": "ipython2",
   "version": "2.7.13"
  }
 },
 "nbformat": 4,
 "nbformat_minor": 1
}
