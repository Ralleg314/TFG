{
 "cells": [
  {
   "cell_type": "code",
   "execution_count": 90,
   "metadata": {},
   "outputs": [],
   "source": [
    "import os\n",
    "import numpy as np\n",
    "import librosa\n",
    "import scipy.misc\n",
    "#import essentia, essentia.standard as ess"
   ]
  },
  {
   "cell_type": "code",
   "execution_count": 129,
   "metadata": {
    "scrolled": true
   },
   "outputs": [
    {
     "data": {
      "text/plain": [
       "'for i in characteristics:\\n    print i'"
      ]
     },
     "execution_count": 129,
     "metadata": {},
     "output_type": "execute_result"
    }
   ],
   "source": [
    "characteristics=[]\n",
    "i=0\n",
    "genre={}\n",
    "\n",
    "for folder in os.listdir(\"./genres\"): #iterates all folders    \n",
    "    cont=0\n",
    "    \n",
    "    folder=\"./genres/\"+folder\n",
    "    if not folder in genre.keys(): #creates a dictionary genre->number\n",
    "        genre[folder]=i\n",
    "        i+=1\n",
    "    \n",
    "    for filename in os.listdir(folder): #iterates all files in the folder\n",
    "        filename = folder+\"/\"+filename\n",
    "        \n",
    "        if filename.endswith(\".au\"):\n",
    "            audio, fs = librosa.load(filename, duration=30) #loads the first 30 seconds of the song\n",
    "            mfcc = librosa.feature.mfcc(audio, sr=fs) #calculates MFCC of the song\n",
    "            #The size of the matrix will be number_of_MFCCs*1292, which is a feature every 0.02s\n",
    "            #By default, it's 20*1922\n",
    "            \n",
    "            \"\"\"The first comulmn gives useless information, so we remove it\n",
    "            Works as offset\"\"\"\n",
    "            mfcc = numpy.delete(mfcc, 0, axis=1) \n",
    "            \n",
    "            mfcc=mfcc.flatten() #converts the matrix into a 1D array\n",
    "            \n",
    "            characteristics.append((mfcc,genre[folder])) #adds the array to a list\n",
    "            \n",
    "            #librosa.display.specshow(mfcc)\n",
    "            \n",
    "            cont+=1\n",
    "            if cont>=5:\n",
    "                break\n",
    "\n",
    "\"\"\"for i in characteristics:\n",
    "    print i\"\"\""
   ]
  },
  {
   "cell_type": "code",
   "execution_count": 109,
   "metadata": {},
   "outputs": [
    {
     "name": "stdout",
     "output_type": "stream",
     "text": [
      "(5, 1293)\n"
     ]
    },
    {
     "data": {
      "image/png": "[encoded data removed]",
      "text/plain": [
       "<matplotlib.figure.Figure at 0x7fce10b86cd0>"
      ]
     },
     "metadata": {},
     "output_type": "display_data"
    }
   ],
   "source": [
    "characteristics=[]\n",
    "for folder in os.listdir(\"./genres\"):\n",
    "    folder=\"./genres/\"+folder\n",
    "    for filename in os.listdir(folder):\n",
    "        filename = folder+\"/\"+filename\n",
    "        if filename.endswith(\".au\"):\n",
    "            audio, fs = librosa.load(filename)\n",
    "            mfcc2 = librosa.feature.mfcc(audio, n_mfcc=5, sr=fs)\n",
    "            characteristics.append(mfcc2)\n",
    "            print mfcc2.shape\n",
    "            librosa.display.specshow(mfcc2, x_axis='time') #Plot\n",
    "            plt.colorbar()\n",
    "            plt.tight_layout()\n",
    "            break\n",
    "        else:\n",
    "            continue\n",
    "    break"
   ]
  },
  {
   "cell_type": "code",
   "execution_count": 102,
   "metadata": {},
   "outputs": [
    {
     "name": "stdout",
     "output_type": "stream",
     "text": [
      "(5, 60)\n"
     ]
    },
    {
     "name": "stderr",
     "output_type": "stream",
     "text": [
      "/home/ralleg/anaconda2/lib/python2.7/site-packages/ipykernel_launcher.py:6: DeprecationWarning: `toimage` is deprecated!\n",
      "`toimage` is deprecated in SciPy 1.0.0, and will be removed in 1.2.0.\n",
      "Use Pillow's ``Image.fromarray`` directly instead.\n",
      "  \n"
     ]
    },
    {
     "data": {
      "image/png": "[encoded data removed]",
      "text/plain": [
       "<matplotlib.figure.Figure at 0x7fce1068e5d0>"
      ]
     },
     "metadata": {},
     "output_type": "display_data"
    }
   ],
   "source": [
    "audio, fs = librosa.load(\"./genres/rock/rock.00000.au\", duration=30)\n",
    "S = librosa.feature.melspectrogram(y = audio, hop_length=fs/2) #generate as many values as we need\n",
    "l = librosa.feature.mfcc(y = audio, n_mfcc=5, S=librosa.power_to_db(S)) #calculate MFCC\n",
    "l = numpy.delete(l, 0, axis=1) #first column gives meaningless information\n",
    "print l.shape\n",
    "scipy.misc.toimage(l).save('./genres/rock/rock.00000.png')\n",
    "librosa.display.specshow(l,  x_axis='time') #Plot\n",
    "plt.colorbar()\n",
    "plt.tight_layout()"
   ]
  }
 ],
 "metadata": {
  "kernelspec": {
   "display_name": "Python 2",
   "language": "python",
   "name": "python2"
  },
  "language_info": {
   "codemirror_mode": {
    "name": "ipython",
    "version": 2
   },
   "file_extension": ".py",
   "mimetype": "text/x-python",
   "name": "python",
   "nbconvert_exporter": "python",
   "pygments_lexer": "ipython2",
   "version": "2.7.14"
  }
 },
 "nbformat": 4,
 "nbformat_minor": 1
}
