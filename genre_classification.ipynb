{
 "cells": [
  {
   "cell_type": "code",
   "execution_count": 1,
   "metadata": {
    "collapsed": true
   },
   "outputs": [],
   "source": [
    "import os\n",
    "import numpy as np\n",
    "import matplotlib.pyplot as plt\n",
    "import librosa\n",
    "import librosa.display\n",
    "import scipy.misc\n",
    "from sklearn.decomposition import PCA\n",
    "from sklearn.svm import SVC\n",
    "from sklearn.preprocessing import StandardScaler\n",
    "#import essentia, essentia.standard as ess"
   ]
  },
  {
   "cell_type": "code",
   "execution_count": 2,
   "metadata": {
    "collapsed": true
   },
   "outputs": [],
   "source": [
    "def chargen(char=20):\n",
    "    print char\n",
    "    char_gen = []\n",
    "    i=0\n",
    "    genre={}\n",
    "    cont=0\n",
    "    for folder in os.listdir(\"./genres\"): #iterates all folders    \n",
    "\n",
    "        folder=\"./genres/\"+folder\n",
    "        if not folder in genre.keys(): #creates a dictionary genre->number\n",
    "            genre[folder]=i\n",
    "            i+=1\n",
    "\n",
    "        for filename in os.listdir(folder): #iterates all files in the folder\n",
    "            filename = folder+\"/\"+filename\n",
    "\n",
    "            if filename.endswith((\".au\",\".mp3\",\".wav\",\".aiff\")):\n",
    "                audio, fs = librosa.load(filename, duration=29.0, mono=True, sr=22050) #loads the first 30 seconds of the song\n",
    "                mfcc = librosa.feature.mfcc(audio, sr=fs, n_mfcc=char) #calculates MFCC of the song\n",
    "                #The size of the matrix will be number_of_MFCCs*1292, which is a feature every 0.02s\n",
    "                #By default, it's 20*1291\n",
    "\n",
    "                \"\"\"The first comlumn gives useless information, so we remove it\n",
    "                Works as offset\"\"\"\n",
    "                mfcc = np.delete(mfcc, 0, axis=1)\n",
    "                #mfcc = np.ndarray.tolist(mfcc)\n",
    "\n",
    "                char_gen.append((mfcc,genre[folder])) #adds the array to a list\n",
    "                \n",
    "                if cont%10==0:\n",
    "                    print cont%100,\n",
    "                \n",
    "                cont+=1\n",
    "        print \n",
    "                    \n",
    "    return np.array(char_gen)"
   ]
  },
  {
   "cell_type": "code",
   "execution_count": 3,
   "metadata": {
    "scrolled": true
   },
   "outputs": [],
   "source": [
    "def char1(char=5):\n",
    "    print char\n",
    "    char_gen=[]\n",
    "    i=0\n",
    "    genre={}\n",
    "    cont=0\n",
    "    for folder in os.listdir(\"./genres\"): #iterates all folders    \n",
    "\n",
    "        folder=\"./genres/\"+folder\n",
    "        if not folder in genre.keys(): #creates a dictionary genre->number\n",
    "            genre[folder]=i\n",
    "            i+=1\n",
    "\n",
    "        for filename in os.listdir(folder): #iterates all files in the folder\n",
    "            filename = folder+\"/\"+filename\n",
    "\n",
    "            if filename.endswith((\".au\",\".mp3\",\".wav\",\".aiff\")):\n",
    "                audio, fs = librosa.load(filename, duration=29.0, mono=True, sr=22050) #loads the first 30 seconds of the song\n",
    "                mfcc = librosa.feature.mfcc(audio, sr=fs, n_mfcc=char) #calculates MFCC of the song\n",
    "                #The size of the matrix will be number_of_MFCCs*1292, which is a feature every 0.02s\n",
    "                #By default, it's 20*1291\n",
    "\n",
    "                \"\"\"The first comlumn gives useless information, so we remove it\n",
    "                Works as offset\"\"\"\n",
    "                mfcc = np.delete(mfcc, 0, axis=1)\n",
    "                                \n",
    "                #librosa.display.specshow(mfcc, x_axis='time')\n",
    "                #plt.show()\n",
    "\n",
    "                mfcc=np.transpose(mfcc)\n",
    "                mfcc=mfcc.flatten() #converts the matrix into a 1D array\n",
    "\n",
    "                char_gen.append((mfcc,genre[folder])) #adds the array to a list\n",
    "                \n",
    "                if cont%10==0:\n",
    "                    print cont%100,\n",
    "                \n",
    "                cont+=1\n",
    "                '''if cont>=10:\n",
    "                    break'''\n",
    "        print \n",
    "                    \n",
    "    return np.array(char_gen)"
   ]
  },
  {
   "cell_type": "code",
   "execution_count": 4,
   "metadata": {
    "collapsed": true,
    "scrolled": true
   },
   "outputs": [],
   "source": [
    "def char2(char=5):\n",
    "    char_gen=[]\n",
    "    i=0\n",
    "    genre={}\n",
    "    for folder in os.listdir(\"./genres\"): #iterates all folders    \n",
    "        cont=0\n",
    "\n",
    "        folder=\"./genres/\"+folder\n",
    "        if not folder in genre.keys(): #creates a dictionary genre->number\n",
    "            genre[folder]=i\n",
    "            i+=1\n",
    "\n",
    "        for filename in os.listdir(folder): #iterates all files in the folder\n",
    "            filename = folder+\"/\"+filename\n",
    "\n",
    "            if filename.endswith((\".au\",\".mp3\",\".wav\",\".aiff\")):\n",
    "                audio, fs = librosa.load(filename, duration=30.0, mono=True, sr=22050) #loads the first 30 seconds of the song\n",
    "                mfcc = librosa.feature.mfcc(audio, sr=fs, n_fft=1024, hop_length=30*22050) #calculates MFCC of the song\n",
    "                #The size of the matrix will be number_of_MFCCs*1292, which is a feature every 0.02s\n",
    "                #By default, it's 20*1922\n",
    "\n",
    "                \"\"\"The first comlumn gives useless information, so we remove it\n",
    "                Works as offset\"\"\"\n",
    "                mfcc = np.delete(mfcc, 0, axis=1)\n",
    "                \n",
    "                #librosa.display.specshow(mfcc, x_axis='time')\n",
    "                #plt.show()\n",
    "                \n",
    "                mfcc=mfcc.flatten() #converts the matrix into a 1D array\n",
    "\n",
    "                char_gen.append((mfcc,genre[folder])) #adds the array to a list\n",
    "\n",
    "                cont+=1\n",
    "                if cont>=1:\n",
    "                    break\n",
    "                \n",
    "    return char_gen"
   ]
  },
  {
   "cell_type": "code",
   "execution_count": 5,
   "metadata": {
    "collapsed": true
   },
   "outputs": [],
   "source": [
    "def char3(char=5):\n",
    "    print char\n",
    "    char_gen=[]\n",
    "    maxs=[]\n",
    "    mins=[]\n",
    "    i=0\n",
    "    genre={}\n",
    "    cont=0\n",
    "    scaler = StandardScaler()\n",
    "    for folder in os.listdir(\"./genres\"): #iterates all folders    \n",
    "\n",
    "        folder=\"./genres/\"+folder\n",
    "        if not folder in genre.keys(): #creates a dictionary genre->number\n",
    "            genre[folder]=i\n",
    "            i+=1\n",
    "\n",
    "        print str(cont/100)+\":\",    \n",
    "            \n",
    "        for filename in os.listdir(folder): #iterates all files in the folder\n",
    "            filename = folder+\"/\"+filename\n",
    "\n",
    "            if filename.endswith((\".au\",\".mp3\",\".wav\",\".aiff\")):\n",
    "                audio, fs = librosa.load(filename, duration=29.0, mono=True, sr=22050) #loads the first 30 seconds of the song\n",
    "                mfcc = librosa.feature.mfcc(audio, sr=fs, n_mfcc=char) #calculates MFCC of the song\n",
    "                #The size of the matrix will be number_of_MFCCs*1292, which is a feature every 0.02s\n",
    "                #By default, it's 20*1291\n",
    "\n",
    "                \"\"\"The first comlumn gives useless information, so we remove it\n",
    "                Works as offset\"\"\"\n",
    "                mfcc = np.delete(mfcc, 0, axis=1)\n",
    "                \n",
    "                #mfcc = scaler.fit_transform(mfcc)\n",
    "                                \n",
    "                maxs.append(np.amax(mfcc))\n",
    "                mins.append(np.amin(mfcc))\n",
    "                \n",
    "                #mfcc=np.transpose(mfcc)\n",
    "                #mfcc=mfcc.flatten() #converts the matrix into a 1D array\n",
    "\n",
    "                char_gen.append((mfcc,genre[folder])) #adds the array to a list\n",
    "                \n",
    "                if cont%10==0:\n",
    "                    print cont%100,\n",
    "                \n",
    "                cont+=1\n",
    "        print \n",
    "    step = (max(maxs) - min(mins))/100\n",
    "    return np.array(char_gen), step"
   ]
  },
  {
   "cell_type": "code",
   "execution_count": 6,
   "metadata": {
    "collapsed": true
   },
   "outputs": [],
   "source": [
    "def histogram(step, char, amount):\n",
    "    histogram = np.zeros(amount)\n",
    "    for c in char:\n",
    "        histogram[int(c/step)] += 1.\n",
    "    histogram = histogram/len(char)\n",
    "    histogram = np.ndarray.tolist(histogram)\n",
    "    return histogram"
   ]
  },
  {
   "cell_type": "code",
   "execution_count": 7,
   "metadata": {
    "collapsed": true
   },
   "outputs": [],
   "source": [
    "def reshape_pca(char):\n",
    "    mfcc = np.array(char[:,0 ])\n",
    "    mfcc = np.concatenate(mfcc).reshape(1000,24960)\n",
    "    pca=PCA(n_components = 100, svd_solver='full')\n",
    "    pca.fit(mfcc)\n",
    "    mfcc=pca.transform(mfcc)\n",
    "    return mfcc"
   ]
  },
  {
   "cell_type": "code",
   "execution_count": 8,
   "metadata": {
    "collapsed": true
   },
   "outputs": [],
   "source": [
    "def train_test(mfcc, char, n_set):\n",
    "    train_mfcc, test_mfcc=[],[]\n",
    "    train_genre, test_genre=[], []\n",
    "\n",
    "    for i in range(1000):\n",
    "        if (i+n_set)%10==0:\n",
    "            test_mfcc.append(mfcc[i])\n",
    "            test_genre.append(char[i][1])\n",
    "        else:\n",
    "            train_mfcc.append(mfcc[i])\n",
    "            train_genre.append(char[i][1])\n",
    "\n",
    "    train_mfcc = np.array(train_mfcc)\n",
    "    test_mfcc = np.array(test_mfcc)\n",
    "    train_genre = np.array(train_genre)\n",
    "    test_genre = np.array(test_genre)\n",
    "    return train_mfcc, train_genre, test_mfcc, test_genre"
   ]
  },
  {
   "cell_type": "code",
   "execution_count": 9,
   "metadata": {
    "collapsed": true
   },
   "outputs": [],
   "source": [
    "def classify(train_mfcc, train_genre, test_mfcc, test_genre):\n",
    "    success=0\n",
    "    clf=SVC(C=0.0001)\n",
    "    clf.fit(train_mfcc,train_genre)\n",
    "    for i in range(100):\n",
    "        test=test_mfcc[i].reshape(1, -1)\n",
    "        pred = clf.predict(test)\n",
    "        if pred[0]==test_genre[i]:\n",
    "            success+=1\n",
    "    return success"
   ]
  },
  {
   "cell_type": "code",
   "execution_count": 10,
   "metadata": {
    "collapsed": true
   },
   "outputs": [],
   "source": [
    "def all_hist(char, step, amount):\n",
    "    hist=[]\n",
    "    temp_char=[]\n",
    "    for c in char:\n",
    "        temp = histogram(step, c[0], amount)\n",
    "        hist.append((temp, c[1]))\n",
    "        temp_char.append(temp)\n",
    "    return hist, temp_char\n"
   ]
  },
  {
   "cell_type": "code",
   "execution_count": 11,
   "metadata": {
    "collapsed": true
   },
   "outputs": [],
   "source": [
    "def more_hist(char, step, amount):\n",
    "    hist = []\n",
    "    temp_char=[]\n",
    "    for c in char:\n",
    "        tmp = c[0]\n",
    "        temp = []\n",
    "        for v in tmp:\n",
    "            temp+=histogram(step, v, amount)\n",
    "        temp_char.append(temp)\n",
    "        hist.append((temp, c[1]))\n",
    "    return hist, temp_char    "
   ]
  },
  {
   "cell_type": "code",
   "execution_count": 12,
   "metadata": {},
   "outputs": [],
   "source": [
    "def mode1():\n",
    "    char = char1()\n",
    "    mfcc = reshape_pca(char)\n",
    "    train_mfcc, train_genre, test_mfcc, test_genre = train_test(mfcc, char, n_set=0)\n",
    "    classify(train_mfcc, train_genre, test_mfcc, test_genre)"
   ]
  },
  {
   "cell_type": "code",
   "execution_count": 15,
   "metadata": {
    "scrolled": false
   },
   "outputs": [
    {
     "name": "stdout",
     "output_type": "stream",
     "text": [
      "1e-20 , -20 :\n",
      " 0  0  2  0  0  2  5  0  0  1\n",
      " 0  8  1  0  0  1  0  0  0  0\n",
      " 0  0  1  1  0  2  4  0  1  1\n",
      " 0  0  0  1  0  1  7  1  0  0\n",
      " 0  0  0  1  0  0  4  3  1  1\n",
      " 0  3  1  1  0  4  1  0  0  0\n",
      " 0  0  0  0  0  1  9  0  0  0\n",
      " 0  0  0  2  0  0  0  8  0  0\n",
      " 0  0  1  4  0  4  0  0  0  1\n",
      " 0  0  1  2  0  1  6  0  0  0\n",
      "31.0\n",
      "1e-19 , -19 :\n",
      " 0  0  2  0  0  2  5  0  0  1\n",
      " 0  8  1  0  0  1  0  0  0  0\n",
      " 0  0  1  1  0  2  4  0  1  1\n",
      " 0  0  0  1  0  1  7  1  0  0\n",
      " 0  0  0  1  0  0  4  3  1  1\n",
      " 0  3  1  1  0  4  1  0  0  0\n",
      " 0  0  0  0  0  1  9  0  0  0\n",
      " 0  0  0  2  0  0  0  8  0  0\n",
      " 0  0  1  4  0  4  0  0  0  1\n",
      " 0  0  1  2  0  1  6  0  0  0\n",
      "31.0\n",
      "1e-18 , -18 :\n",
      " 0  0  2  0  0  2  5  0  0  1\n",
      " 0  8  1  0  0  1  0  0  0  0\n",
      " 0  0  1  1  0  2  4  0  1  1\n",
      " 0  0  0  1  0  1  7  1  0  0\n",
      " 0  0  0  1  0  0  4  3  1  1\n",
      " 0  3  1  1  0  4  1  0  0  0\n",
      " 0  0  0  0  0  1  9  0  0  0\n",
      " 0  0  0  2  0  0  0  8  0  0\n",
      " 0  0  1  4  0  4  0  0  0  1\n",
      " 0  0  1  2  0  1  6  0  0  0\n",
      "31.0\n",
      "1e-17 , -17 :\n",
      " 0  0  2  0  0  2  5  0  0  1\n",
      " 0  8  1  0  0  1  0  0  0  0\n",
      " 0  0  1  1  0  2  4  0  1  1\n",
      " 0  0  0  1  0  1  7  1  0  0\n",
      " 0  0  0  1  0  0  4  3  1  1\n",
      " 0  3  1  1  0  4  1  0  0  0\n",
      " 0  0  0  0  0  1  9  0  0  0\n",
      " 0  0  0  2  0  0  0  8  0  0\n",
      " 0  0  1  4  0  4  0  0  0  1\n",
      " 0  0  1  2  0  1  6  0  0  0\n",
      "31.0\n",
      "1e-16 , -16 :\n",
      " 0  0  2  0  0  2  5  0  0  1\n",
      " 0  2  1  0  0  7  0  0  0  0\n",
      " 0  0  1  1  0  2  4  0  1  1\n",
      " 0  0  0  1  0  1  7  1  0  0\n",
      " 0  0  0  1  0  1  4  3  0  1\n",
      " 0  0  1  1  0  7  1  0  0  0\n",
      " 0  0  0  0  0  1  9  0  0  0\n",
      " 0  0  0  2  0  0  0  8  0  0\n",
      " 0  0  1  4  0  4  0  0  0  1\n",
      " 0  0  1  2  0  1  6  0  0  0\n",
      "28.0\n",
      "1e-15 , -15 :\n",
      " 1  0  1  1  1  2  4  0  0  0\n",
      " 0  8  0  0  0  1  0  0  1  0\n",
      " 1  0  0  0  1  2  3  1  2  0\n",
      " 0  0  0  0  4  1  2  3  0  0\n",
      " 0  0  0  0  3  0  2  3  2  0\n",
      " 1  3  1  0  1  3  0  1  0  0\n",
      " 1  0  0  0  0  0  8  1  0  0\n",
      " 0  0  0  0  1  0  0  9  0  0\n",
      " 2  2  0  0  3  2  0  0  1  0\n",
      " 0  0  0  0  3  1  3  2  1  0\n",
      "33.0\n",
      "1e-14 , -14 :\n",
      " 3  0  0  1  0  1  5  0  0  0\n",
      " 0  8  1  0  0  1  0  0  0  0\n",
      " 2  0  0  1  1  1  3  2  0  0\n",
      " 0  0  0  2  0  1  3  4  0  0\n",
      " 0  0  1  0  0  0  4  4  0  1\n",
      " 2  3  0  0  1  3  0  1  0  0\n",
      " 1  0  0  0  0  0  8  1  0  0\n",
      " 0  0  0  0  1  0  0  9  0  0\n",
      " 1  2  0  0  2  2  0  2  0  1\n",
      " 1  0  0  0  1  0  5  2  0  1\n",
      "34.0\n",
      "1e-13 , -13 :\n",
      " 2  0  0  1  0  1  5  0  0  1\n",
      " 0  8  0  0  0  1  0  0  0  1\n",
      " 2  0  0  1  1  1  3  2  0  0\n",
      " 0  0  0  2  0  1  3  4  0  0\n",
      " 0  0  1  0  1  0  4  3  0  1\n",
      " 2  3  0  0  1  3  0  1  0  0\n",
      " 1  0  0  0  0  0  8  1  0  0\n",
      " 0  0  0  1  0  0  0  9  0  0\n",
      " 1  2  0  1  1  2  0  2  0  1\n",
      " 1  0  0  0  1  0  5  2  0  1\n",
      "34.0\n",
      "1e-12 , -12 :\n",
      " 2  0  0  1  0  1  5  0  0  1\n",
      " 0  8  0  0  0  1  0  0  0  1\n",
      " 2  0  0  1  1  1  3  2  0  0\n",
      " 0  0  0  2  0  1  3  4  0  0\n",
      " 0  0  1  0  1  0  4  3  0  1\n",
      " 2  3  0  0  1  3  0  1  0  0\n",
      " 1  0  0  0  0  0  8  1  0  0\n",
      " 0  0  0  1  0  0  0  9  0  0\n",
      " 1  2  0  1  1  2  0  2  0  1\n",
      " 1  0  0  0  1  0  5  2  0  1\n",
      "34.0\n",
      "1e-11 , -11 :\n",
      " 2  0  0  1  0  1  5  0  0  1\n",
      " 0  8  0  0  0  1  0  0  0  1\n",
      " 2  0  0  1  1  1  3  2  0  0\n",
      " 0  0  0  2  0  1  3  4  0  0\n",
      " 0  0  1  0  1  0  4  3  0  1\n",
      " 2  3  0  0  1  3  0  1  0  0\n",
      " 1  0  0  0  0  0  8  1  0  0\n",
      " 0  0  0  1  0  0  0  9  0  0\n",
      " 1  2  0  1  1  2  0  2  0  1\n",
      " 1  0  0  0  1  0  5  2  0  1\n",
      "34.0\n",
      "1e-10 , -10 :\n",
      " 2  0  0  1  0  1  5  0  0  1\n",
      " 0  8  1  0  0  1  0  0  0  0\n",
      " 2  0  0  1  1  1  3  2  0  0\n",
      " 0  0  0  2  0  1  3  4  0  0\n",
      " 0  0  1  0  1  0  4  3  0  1\n",
      " 2  3  0  0  1  3  0  1  0  0\n",
      " 1  0  0  0  0  0  8  1  0  0\n",
      " 0  0  0  1  0  0  0  9  0  0\n",
      " 1  2  0  1  1  2  0  2  0  1\n",
      " 1  0  0  0  1  0  5  2  0  1\n",
      "34.0\n",
      "1e-09 , -9 :\n",
      " 2  0  0  0  0  2  4  0  0  2\n",
      " 0  8  1  0  0  1  0  0  0  0\n",
      " 2  0  0  0  0  2  1  2  0  3\n",
      " 0  0  0  1  0  1  2  4  0  2\n",
      " 0  0  0  2  0  0  2  4  1  1\n",
      " 1  3  0  0  1  4  0  1  0  0\n",
      " 1  0  0  0  0  0  8  1  0  0\n",
      " 0  0  0  0  0  0  0 10  0  0\n",
      " 2  2  0  1  1  2  0  2  0  0\n",
      " 1  0  1  0  1  0  3  2  0  2\n",
      "35.0\n",
      "1e-08 , -8 :\n",
      " 2  0  1  0  0  1  3  0  0  3\n",
      " 0  9  1  0  0  0  0  0  0  0\n",
      " 1  0  0  1  0  2  0  1  1  4\n",
      " 0  0  0  1  1  1  2  2  0  3\n",
      " 0  0  0  0  1  0  3  3  2  1\n",
      " 0  3  1  0  1  4  0  1  0  0\n",
      " 0  0  0  1  0  1  7  0  0  1\n",
      " 0  0  0  0  1  0  0  9  0  0\n",
      " 3  1  0  0  3  2  0  0  1  0\n",
      " 1  0  0  0  1  0  2  2  1  3\n",
      "37.0\n",
      "1e-07 , -7 :\n",
      " 3  0  0  0  0  1  2  0  1  3\n",
      " 0  9  1  0  0  0  0  0  0  0\n",
      " 1  0  2  0  0  1  0  1  1  4\n",
      " 0  0  0  5  0  1  0  0  1  3\n",
      " 0  0  0  3  2  0  0  1  3  1\n",
      " 0  4  0  1  1  4  0  0  0  0\n",
      " 0  0  0  1  0  1  7  0  0  1\n",
      " 0  0  0  0  1  0  0  8  1  0\n",
      " 1  2  0  0  3  0  0  0  3  1\n",
      " 2  0  0  2  1  0  0  0  1  4\n",
      "47.0\n",
      "1e-06 , -6 :\n",
      " 1  8  0  0  0  0  0  0  0  1\n",
      " 0 10  0  0  0  0  0  0  0  0\n",
      " 0  9  1  0  0  0  0  0  0  0\n",
      " 0  7  1  0  0  0  0  0  0  2\n",
      " 1  8  0  0  0  0  0  0  0  1\n",
      " 0  6  1  0  0  3  0  0  0  0\n",
      " 2  3  1  0  0  0  2  0  0  2\n",
      " 0  7  0  0  0  0  0  3  0  0\n",
      " 0 10  0  0  0  0  0  0  0  0\n",
      " 1  9  0  0  0  0  0  0  0  0\n",
      "20.0\n",
      "1e-05 , -5 :\n"
     ]
    },
    {
     "ename": "KeyboardInterrupt",
     "evalue": "",
     "output_type": "error",
     "traceback": [
      "\u001b[1;31m---------------------------------------------------------------------------\u001b[0m",
      "\u001b[1;31mKeyboardInterrupt\u001b[0m                         Traceback (most recent call last)",
      "\u001b[1;32m<ipython-input-15-81ba4d72784b>\u001b[0m in \u001b[0;36m<module>\u001b[1;34m()\u001b[0m\n\u001b[0;32m     23\u001b[0m \u001b[1;32mfor\u001b[0m \u001b[0mi\u001b[0m \u001b[1;32min\u001b[0m \u001b[0mrange\u001b[0m\u001b[1;33m(\u001b[0m\u001b[1;33m-\u001b[0m\u001b[1;36m20\u001b[0m\u001b[1;33m,\u001b[0m\u001b[1;33m-\u001b[0m\u001b[1;36m4\u001b[0m\u001b[1;33m)\u001b[0m\u001b[1;33m:\u001b[0m\u001b[1;33m\u001b[0m\u001b[0m\n\u001b[0;32m     24\u001b[0m     \u001b[1;32mprint\u001b[0m \u001b[1;36m10\u001b[0m\u001b[1;33m**\u001b[0m\u001b[0mi\u001b[0m\u001b[1;33m,\u001b[0m \u001b[1;34m\",\"\u001b[0m\u001b[1;33m,\u001b[0m \u001b[0mi\u001b[0m\u001b[1;33m,\u001b[0m \u001b[1;34m\":\"\u001b[0m\u001b[1;33m\u001b[0m\u001b[0m\n\u001b[1;32m---> 25\u001b[1;33m     \u001b[0mclassify_mat_2\u001b[0m\u001b[1;33m(\u001b[0m\u001b[0mtrain_mfcc\u001b[0m\u001b[1;33m,\u001b[0m \u001b[0mtrain_genre\u001b[0m\u001b[1;33m,\u001b[0m \u001b[0mtest_mfcc\u001b[0m\u001b[1;33m,\u001b[0m \u001b[0mtest_genre\u001b[0m\u001b[1;33m,\u001b[0m \u001b[1;36m10\u001b[0m\u001b[1;33m**\u001b[0m\u001b[0mi\u001b[0m\u001b[1;33m)\u001b[0m\u001b[1;33m\u001b[0m\u001b[0m\n\u001b[0m",
      "\u001b[1;32m<ipython-input-15-81ba4d72784b>\u001b[0m in \u001b[0;36mclassify_mat_2\u001b[1;34m(train_mfcc, train_genre, test_mfcc, test_genre, g)\u001b[0m\n\u001b[0;32m      2\u001b[0m     \u001b[0msucc_gen\u001b[0m \u001b[1;33m=\u001b[0m \u001b[0mnp\u001b[0m\u001b[1;33m.\u001b[0m\u001b[0mzeros\u001b[0m\u001b[1;33m(\u001b[0m\u001b[1;33m(\u001b[0m\u001b[1;36m10\u001b[0m\u001b[1;33m,\u001b[0m\u001b[1;36m10\u001b[0m\u001b[1;33m)\u001b[0m\u001b[1;33m)\u001b[0m\u001b[1;33m\u001b[0m\u001b[0m\n\u001b[0;32m      3\u001b[0m     \u001b[0mclf\u001b[0m\u001b[1;33m=\u001b[0m\u001b[0mSVC\u001b[0m\u001b[1;33m(\u001b[0m\u001b[0mkernel\u001b[0m \u001b[1;33m=\u001b[0m \u001b[1;34m'rbf'\u001b[0m\u001b[1;33m,\u001b[0m \u001b[0mgamma\u001b[0m\u001b[1;33m=\u001b[0m\u001b[0mg\u001b[0m\u001b[1;33m)\u001b[0m\u001b[1;33m\u001b[0m\u001b[0m\n\u001b[1;32m----> 4\u001b[1;33m     \u001b[0mclf\u001b[0m\u001b[1;33m.\u001b[0m\u001b[0mfit\u001b[0m\u001b[1;33m(\u001b[0m\u001b[0mtrain_mfcc\u001b[0m\u001b[1;33m,\u001b[0m\u001b[0mtrain_genre\u001b[0m\u001b[1;33m)\u001b[0m\u001b[1;33m\u001b[0m\u001b[0m\n\u001b[0m\u001b[0;32m      5\u001b[0m     \u001b[1;32mfor\u001b[0m \u001b[0mi\u001b[0m \u001b[1;32min\u001b[0m \u001b[0mrange\u001b[0m\u001b[1;33m(\u001b[0m\u001b[1;36m100\u001b[0m\u001b[1;33m)\u001b[0m\u001b[1;33m:\u001b[0m\u001b[1;33m\u001b[0m\u001b[0m\n\u001b[0;32m      6\u001b[0m         \u001b[0mtest\u001b[0m\u001b[1;33m=\u001b[0m\u001b[0mtest_mfcc\u001b[0m\u001b[1;33m[\u001b[0m\u001b[0mi\u001b[0m\u001b[1;33m]\u001b[0m\u001b[1;33m.\u001b[0m\u001b[0mreshape\u001b[0m\u001b[1;33m(\u001b[0m\u001b[1;36m1\u001b[0m\u001b[1;33m,\u001b[0m \u001b[1;33m-\u001b[0m\u001b[1;36m1\u001b[0m\u001b[1;33m)\u001b[0m\u001b[1;33m\u001b[0m\u001b[0m\n",
      "\u001b[1;32mC:\\Users\\Ralleg314\\Anaconda2\\lib\\site-packages\\sklearn\\svm\\base.pyc\u001b[0m in \u001b[0;36mfit\u001b[1;34m(self, X, y, sample_weight)\u001b[0m\n\u001b[0;32m    185\u001b[0m \u001b[1;33m\u001b[0m\u001b[0m\n\u001b[0;32m    186\u001b[0m         \u001b[0mseed\u001b[0m \u001b[1;33m=\u001b[0m \u001b[0mrnd\u001b[0m\u001b[1;33m.\u001b[0m\u001b[0mrandint\u001b[0m\u001b[1;33m(\u001b[0m\u001b[0mnp\u001b[0m\u001b[1;33m.\u001b[0m\u001b[0miinfo\u001b[0m\u001b[1;33m(\u001b[0m\u001b[1;34m'i'\u001b[0m\u001b[1;33m)\u001b[0m\u001b[1;33m.\u001b[0m\u001b[0mmax\u001b[0m\u001b[1;33m)\u001b[0m\u001b[1;33m\u001b[0m\u001b[0m\n\u001b[1;32m--> 187\u001b[1;33m         \u001b[0mfit\u001b[0m\u001b[1;33m(\u001b[0m\u001b[0mX\u001b[0m\u001b[1;33m,\u001b[0m \u001b[0my\u001b[0m\u001b[1;33m,\u001b[0m \u001b[0msample_weight\u001b[0m\u001b[1;33m,\u001b[0m \u001b[0msolver_type\u001b[0m\u001b[1;33m,\u001b[0m \u001b[0mkernel\u001b[0m\u001b[1;33m,\u001b[0m \u001b[0mrandom_seed\u001b[0m\u001b[1;33m=\u001b[0m\u001b[0mseed\u001b[0m\u001b[1;33m)\u001b[0m\u001b[1;33m\u001b[0m\u001b[0m\n\u001b[0m\u001b[0;32m    188\u001b[0m         \u001b[1;31m# see comment on the other call to np.iinfo in this file\u001b[0m\u001b[1;33m\u001b[0m\u001b[1;33m\u001b[0m\u001b[0m\n\u001b[0;32m    189\u001b[0m \u001b[1;33m\u001b[0m\u001b[0m\n",
      "\u001b[1;32mC:\\Users\\Ralleg314\\Anaconda2\\lib\\site-packages\\sklearn\\svm\\base.pyc\u001b[0m in \u001b[0;36m_dense_fit\u001b[1;34m(self, X, y, sample_weight, solver_type, kernel, random_seed)\u001b[0m\n\u001b[0;32m    252\u001b[0m                 \u001b[0mcache_size\u001b[0m\u001b[1;33m=\u001b[0m\u001b[0mself\u001b[0m\u001b[1;33m.\u001b[0m\u001b[0mcache_size\u001b[0m\u001b[1;33m,\u001b[0m \u001b[0mcoef0\u001b[0m\u001b[1;33m=\u001b[0m\u001b[0mself\u001b[0m\u001b[1;33m.\u001b[0m\u001b[0mcoef0\u001b[0m\u001b[1;33m,\u001b[0m\u001b[1;33m\u001b[0m\u001b[0m\n\u001b[0;32m    253\u001b[0m                 \u001b[0mgamma\u001b[0m\u001b[1;33m=\u001b[0m\u001b[0mself\u001b[0m\u001b[1;33m.\u001b[0m\u001b[0m_gamma\u001b[0m\u001b[1;33m,\u001b[0m \u001b[0mepsilon\u001b[0m\u001b[1;33m=\u001b[0m\u001b[0mself\u001b[0m\u001b[1;33m.\u001b[0m\u001b[0mepsilon\u001b[0m\u001b[1;33m,\u001b[0m\u001b[1;33m\u001b[0m\u001b[0m\n\u001b[1;32m--> 254\u001b[1;33m                 max_iter=self.max_iter, random_seed=random_seed)\n\u001b[0m\u001b[0;32m    255\u001b[0m \u001b[1;33m\u001b[0m\u001b[0m\n\u001b[0;32m    256\u001b[0m         \u001b[0mself\u001b[0m\u001b[1;33m.\u001b[0m\u001b[0m_warn_from_fit_status\u001b[0m\u001b[1;33m(\u001b[0m\u001b[1;33m)\u001b[0m\u001b[1;33m\u001b[0m\u001b[0m\n",
      "\u001b[1;32msklearn\\svm\\libsvm.pyx\u001b[0m in \u001b[0;36msklearn.svm.libsvm.fit\u001b[1;34m()\u001b[0m\n",
      "\u001b[1;31mKeyboardInterrupt\u001b[0m: "
     ]
    }
   ],
   "source": [
    "def classify_mat_2(train_mfcc, train_genre, test_mfcc, test_genre, g):\n",
    "    succ_gen = np.zeros((10,10))\n",
    "    clf=SVC(kernel = 'rbf', gamma=g)\n",
    "    clf.fit(train_mfcc,train_genre)\n",
    "    for i in range(100):\n",
    "        test=test_mfcc[i].reshape(1, -1)\n",
    "        pred = clf.predict(test)        \n",
    "        succ_gen[test_genre[i]][pred[0]]+=1\n",
    "    for i in succ_gen:\n",
    "        for j in i:\n",
    "            print \"%2.0f\" % j,\n",
    "        print\n",
    "    success = 0\n",
    "    for i in range(10):\n",
    "        success += succ_gen[i][i]\n",
    "    print success\n",
    "\n",
    "'''n_mfcc = 15\n",
    "char = char1(char=n_mfcc)\n",
    "mfcc = np.array(char[:,0 ])\n",
    "mfcc = np.concatenate(mfcc).reshape(1000,1248*n_mfcc)\n",
    "train_mfcc, train_genre, test_mfcc, test_genre = train_test(mfcc, char, n_set=0)'''\n",
    "for i in range(0,10): #-7\n",
    "    print 10**i, \",\", i, \":\"\n",
    "    classify_mat_2(train_mfcc, train_genre, test_mfcc, test_genre, 10**i)"
   ]
  },
  {
   "cell_type": "code",
   "execution_count": 15,
   "metadata": {
    "collapsed": true
   },
   "outputs": [],
   "source": [
    "def mode2():\n",
    "    char = char2()\n",
    "    mfcc = reshape_pca(char)\n",
    "    train_mfcc, train_genre, test_mfcc, test_genre = train_test(mfcc, char)\n",
    "    classify(train_mfcc, train_genre, test_mfcc, test_genre)"
   ]
  },
  {
   "cell_type": "code",
   "execution_count": 16,
   "metadata": {
    "collapsed": true
   },
   "outputs": [],
   "source": [
    "def mode3(char, step, amount):\n",
    "    hist, char = all_hist(char, step, amount)\n",
    "    train_mfcc, train_genre, test_mfcc, test_genre = train_test(char, hist)\n",
    "    return classify(train_mfcc, train_genre, test_mfcc, test_genre)"
   ]
  },
  {
   "cell_type": "code",
   "execution_count": 17,
   "metadata": {
    "collapsed": true
   },
   "outputs": [],
   "source": [
    "def mode4(char, step, amount):\n",
    "    hist, char = more_hist(char, step, amount)\n",
    "    train_mfcc, train_genre, test_mfcc, test_genre = train_test(char, hist)\n",
    "    return classify(train_mfcc, train_genre, test_mfcc, test_genre)"
   ]
  },
  {
   "cell_type": "code",
   "execution_count": null,
   "metadata": {
    "collapsed": true
   },
   "outputs": [],
   "source": [
    "for i in range(5,21,5):\n",
    "    char_gen = chargen(i)\n",
    "    filename = \"values\"+str(i)\n",
    "    np.save(filename, char_gen)"
   ]
  },
  {
   "cell_type": "code",
   "execution_count": null,
   "metadata": {
    "collapsed": true
   },
   "outputs": [],
   "source": [
    "for i in range(5,6,5):\n",
    "    filename = \"values\"+str(i)+\".npy\"\n",
    "    char = np.load(filename)\n",
    "    #print char.shape, char[0].shape, char[0][0].shape, char[0][0][0].shape\n",
    "    #step = (np.amax(np.amax(np.amax(char))) - np.amin(np.amin(np.amin(char))))/100"
   ]
  },
  {
   "cell_type": "code",
   "execution_count": null,
   "metadata": {
    "collapsed": true,
    "scrolled": true
   },
   "outputs": [],
   "source": [
    "char, step = char3(5)"
   ]
  },
  {
   "cell_type": "code",
   "execution_count": null,
   "metadata": {
    "collapsed": true
   },
   "outputs": [],
   "source": [
    "hist, charco = more_hist(char,(step*100)/50, 50)"
   ]
  },
  {
   "cell_type": "code",
   "execution_count": null,
   "metadata": {
    "collapsed": true
   },
   "outputs": [],
   "source": [
    "results=[]\n",
    "for i in range(1,100):\n",
    "    if i%10==0: print i,\n",
    "    results.append((i, mode3(char, (step*100)/i, amount=i)))\n",
    "\n",
    "print\n",
    "results.sort(key=lambda x:x[1], reverse=True)\n",
    "print results[0]"
   ]
  },
  {
   "cell_type": "code",
   "execution_count": null,
   "metadata": {
    "collapsed": true,
    "scrolled": false
   },
   "outputs": [],
   "source": [
    "results=[]\n",
    "for i in range(5,100):\n",
    "    if i%10==0: print i,\n",
    "    results.append((i, mode4(char, (step*100)/i, amount=i)))\n",
    "\n",
    "print\n",
    "results.sort(key=lambda x:x[1], reverse=True)\n",
    "print results\n",
    "print results[0]"
   ]
  },
  {
   "cell_type": "code",
   "execution_count": null,
   "metadata": {
    "collapsed": true
   },
   "outputs": [],
   "source": [
    "char, step = char3(15)"
   ]
  },
  {
   "cell_type": "code",
   "execution_count": 37,
   "metadata": {
    "scrolled": false
   },
   "outputs": [
    {
     "ename": "NameError",
     "evalue": "name 'step' is not defined",
     "output_type": "error",
     "traceback": [
      "\u001b[1;31m---------------------------------------------------------------------------\u001b[0m",
      "\u001b[1;31mNameError\u001b[0m                                 Traceback (most recent call last)",
      "\u001b[1;32m<ipython-input-37-c03c7ea51aa8>\u001b[0m in \u001b[0;36m<module>\u001b[1;34m()\u001b[0m\n\u001b[0;32m     40\u001b[0m     \u001b[1;32mfor\u001b[0m \u001b[0mi\u001b[0m \u001b[1;32min\u001b[0m \u001b[0mrange\u001b[0m\u001b[1;33m(\u001b[0m\u001b[1;36m87\u001b[0m\u001b[1;33m,\u001b[0m\u001b[1;36m93\u001b[0m\u001b[1;33m)\u001b[0m\u001b[1;33m:\u001b[0m\u001b[1;33m\u001b[0m\u001b[0m\n\u001b[0;32m     41\u001b[0m         print str(i),\":\",'''\n\u001b[1;32m---> 42\u001b[1;33m \u001b[0mmode5\u001b[0m\u001b[1;33m(\u001b[0m\u001b[0mchar\u001b[0m\u001b[1;33m,\u001b[0m \u001b[1;33m(\u001b[0m\u001b[0mstep\u001b[0m\u001b[1;33m*\u001b[0m\u001b[1;36m100\u001b[0m\u001b[1;33m)\u001b[0m\u001b[1;33m/\u001b[0m\u001b[1;36m90\u001b[0m\u001b[1;33m,\u001b[0m \u001b[0mamount\u001b[0m\u001b[1;33m=\u001b[0m\u001b[1;36m90\u001b[0m\u001b[1;33m,\u001b[0m \u001b[0mn_set\u001b[0m\u001b[1;33m=\u001b[0m\u001b[1;36m4\u001b[0m\u001b[1;33m,\u001b[0m \u001b[0mgamma\u001b[0m\u001b[1;33m=\u001b[0m\u001b[1;36m1.4\u001b[0m\u001b[1;33m)\u001b[0m\u001b[1;33m\u001b[0m\u001b[0m\n\u001b[0m",
      "\u001b[1;31mNameError\u001b[0m: name 'step' is not defined"
     ]
    }
   ],
   "source": [
    "#char, step = char3(15)\n",
    "\n",
    "def mode5(char, step, amount, n_set, gamma):\n",
    "    hist, char = more_hist(char, step, amount)\n",
    "    train_mfcc, train_genre, test_mfcc, test_genre = train_test(char, hist, n_set)\n",
    "    return classify_mat(train_mfcc, train_genre, test_mfcc, test_genre, gamma)\n",
    "\n",
    "def classify2(train_mfcc, train_genre, test_mfcc, test_genre, g):\n",
    "    success=0\n",
    "    succ_gen = np.zeros(10)\n",
    "    clf=SVC(kernel = 'rbf', gamma=g)\n",
    "    clf.fit(train_mfcc,train_genre)\n",
    "    for i in range(100):\n",
    "        test=test_mfcc[i].reshape(1, -1)\n",
    "        pred = clf.predict(test)\n",
    "        if pred[0]==test_genre[i]:\n",
    "            succ_gen[test_genre[i]] += 1\n",
    "            success+=1\n",
    "    print succ_gen, np.mean(succ_gen), success\n",
    "    return success\n",
    "\n",
    "def classify_mat(train_mfcc, train_genre, test_mfcc, test_genre, g):\n",
    "    succ_gen = np.zeros((10,10))\n",
    "    clf=SVC(kernel = 'rbf', gamma=g)\n",
    "    clf.fit(train_mfcc,train_genre)\n",
    "    for i in range(100):\n",
    "        test=test_mfcc[i].reshape(1, -1)\n",
    "        pred = clf.predict(test)        \n",
    "        succ_gen[test_genre[i]][pred[0]]+=1\n",
    "    for i in succ_gen:\n",
    "        for j in i:\n",
    "            print \"%2.0f\" % j,\n",
    "        print\n",
    "    #return success\n",
    "\n",
    "'''for j in range(-9,10):\n",
    "    print \"gamma:\", 1.4+(j/100.)'''\n",
    "'''for j in range(10):\n",
    "    print \"set:\", j\n",
    "    for i in range(87,93):\n",
    "        print str(i),\":\",'''\n",
    "mode5(char, (step*100)/90, amount=90, n_set=4, gamma=1.4)"
   ]
  },
  {
   "cell_type": "code",
   "execution_count": null,
   "metadata": {
    "collapsed": true
   },
   "outputs": [],
   "source": [
    "#leave one out\n",
    "from sklearn.model_selection import LeaveOneOut\n",
    "'''hist, char2 = more_hist(char, step, 90)\n",
    "\n",
    "loo = LeaveOneOut()\n",
    "loo.get_n_splits(char2)'''\n",
    "\n",
    "i = 0\n",
    "success = 0\n",
    "\n",
    "for train_index, test_index in loo.split(char2):\n",
    "    X_train = np.array([char2[j] for j in train_index])\n",
    "    X_test = np.array([char2[j] for j in test_index])\n",
    "    y_train  = np.array([hist[j][1] for j in train_index])\n",
    "    y_test = np.array([hist[j][1] for j in test_index])\n",
    "    clf=SVC(kernel = 'linear')\n",
    "    clf.fit(X_train,y_train)\n",
    "    test=X_test.reshape(1, -1)\n",
    "    pred = clf.predict(X_test)\n",
    "    if pred[0]==y_test:\n",
    "        success+=1\n",
    "    if i%10==0:\n",
    "        print str(i),\n",
    "    i+=1\n",
    "\n",
    "print success"
   ]
  },
  {
   "cell_type": "code",
   "execution_count": 28,
   "metadata": {
    "scrolled": true
   },
   "outputs": [
    {
     "ename": "NameError",
     "evalue": "name 'step' is not defined",
     "output_type": "error",
     "traceback": [
      "\u001b[1;31m---------------------------------------------------------------------------\u001b[0m",
      "\u001b[1;31mNameError\u001b[0m                                 Traceback (most recent call last)",
      "\u001b[1;32m<ipython-input-28-c31d79111c9f>\u001b[0m in \u001b[0;36m<module>\u001b[1;34m()\u001b[0m\n\u001b[0;32m     43\u001b[0m     plt.show()'''\n\u001b[0;32m     44\u001b[0m \u001b[1;33m\u001b[0m\u001b[0m\n\u001b[1;32m---> 45\u001b[1;33m \u001b[0mmode6\u001b[0m\u001b[1;33m(\u001b[0m\u001b[0mchar\u001b[0m\u001b[1;33m,\u001b[0m \u001b[1;33m(\u001b[0m\u001b[0mstep\u001b[0m\u001b[1;33m*\u001b[0m\u001b[1;36m100\u001b[0m\u001b[1;33m)\u001b[0m\u001b[1;33m/\u001b[0m\u001b[1;36m90\u001b[0m\u001b[1;33m,\u001b[0m \u001b[0mamount\u001b[0m\u001b[1;33m=\u001b[0m\u001b[1;36m90\u001b[0m\u001b[1;33m,\u001b[0m \u001b[0mn_set\u001b[0m\u001b[1;33m=\u001b[0m\u001b[1;36m4\u001b[0m\u001b[1;33m)\u001b[0m\u001b[1;33m\u001b[0m\u001b[0m\n\u001b[0m",
      "\u001b[1;31mNameError\u001b[0m: name 'step' is not defined"
     ]
    }
   ],
   "source": [
    "import numpy as np\n",
    "import matplotlib.pyplot as plt\n",
    "import operator\n",
    "\n",
    "from sklearn.datasets import make_classification\n",
    "from sklearn.ensemble import ExtraTreesClassifier\n",
    "\n",
    "def mode6(char, step, amount, n_set):\n",
    "    hist, char = more_hist(char, step, amount)\n",
    "    train_mfcc, train_genre, test_mfcc, test_genre = train_test(char, hist, n_set)\n",
    "    return classify3(train_mfcc, train_genre, test_mfcc, test_genre)\n",
    "\n",
    "def classify3(train_mfcc, train_genre, test_mfcc, test_genre):\n",
    "    value = dict([(key, 0) for key in range(15)])\n",
    "    order = dict([(key, 0) for key in range(15)])\n",
    "    forest = ExtraTreesClassifier()\n",
    "    forest.fit(train_mfcc,train_genre)\n",
    "    importances = forest.feature_importances_\n",
    "    std = np.std([tree.feature_importances_ for tree in forest.estimators_], axis=0)\n",
    "    indices = np.argsort(importances)[::-1]\n",
    "    # Print the feature ranking\n",
    "    print(\"Feature ranking:\")\n",
    "\n",
    "    for f in range(train_mfcc.shape[1]):\n",
    "        #print(\"%d. feature %d (%f)\" % (f + 1, indices[f]/90, importances[indices[f]]))\n",
    "        if not importances[indices[f]]<=10**-10:\n",
    "            print(\"%d. feature %d (%f)\" % (f + 1, indices[f]/90, importances[indices[f]]))\n",
    "            value[indices[f]/90] +=  1\n",
    "        else:\n",
    "            break\n",
    "    \n",
    "    value = sorted(value.items(), key=operator.itemgetter(1))\n",
    "    \n",
    "    print value\n",
    "\n",
    "    # Plot the feature importances of the forest\n",
    "    '''plt.figure()\n",
    "    plt.title(\"Feature importances\")\n",
    "    plt.bar(range(100), importances[indices],\n",
    "           color=\"r\", yerr=std[indices], align=\"center\")\n",
    "    plt.xticks(range(100), indices)\n",
    "    plt.xlim([-1, 10])\n",
    "    plt.show()'''\n",
    "\n",
    "mode6(char, (step*100)/90, amount=90, n_set=4)"
   ]
  },
  {
   "cell_type": "code",
   "execution_count": 29,
   "metadata": {},
   "outputs": [
    {
     "ename": "NameError",
     "evalue": "name 'step' is not defined",
     "output_type": "error",
     "traceback": [
      "\u001b[1;31m---------------------------------------------------------------------------\u001b[0m",
      "\u001b[1;31mNameError\u001b[0m                                 Traceback (most recent call last)",
      "\u001b[1;32m<ipython-input-29-5b9ef1b2033a>\u001b[0m in \u001b[0;36m<module>\u001b[1;34m()\u001b[0m\n\u001b[0;32m     15\u001b[0m       % (test_mfcc.shape[0],(test_genre != y_pred).sum()))\n\u001b[0;32m     16\u001b[0m \u001b[1;33m\u001b[0m\u001b[0m\n\u001b[1;32m---> 17\u001b[1;33m \u001b[0mmode7\u001b[0m\u001b[1;33m(\u001b[0m\u001b[0mchar\u001b[0m\u001b[1;33m,\u001b[0m \u001b[1;33m(\u001b[0m\u001b[0mstep\u001b[0m\u001b[1;33m*\u001b[0m\u001b[1;36m100\u001b[0m\u001b[1;33m)\u001b[0m\u001b[1;33m/\u001b[0m\u001b[1;36m90\u001b[0m\u001b[1;33m,\u001b[0m \u001b[0mamount\u001b[0m\u001b[1;33m=\u001b[0m\u001b[1;36m90\u001b[0m\u001b[1;33m,\u001b[0m \u001b[0mn_set\u001b[0m\u001b[1;33m=\u001b[0m\u001b[1;36m4\u001b[0m\u001b[1;33m)\u001b[0m\u001b[1;33m\u001b[0m\u001b[0m\n\u001b[0m",
      "\u001b[1;31mNameError\u001b[0m: name 'step' is not defined"
     ]
    }
   ],
   "source": [
    "from sklearn.naive_bayes import GaussianNB\n",
    "\n",
    "def mode7(char, step, amount, n_set):\n",
    "    hist, char = more_hist(char, step, amount)\n",
    "    train_mfcc, train_genre, test_mfcc, test_genre = train_test(char, hist, n_set)\n",
    "    return classify4(train_mfcc, train_genre, test_mfcc, test_genre)\n",
    "\n",
    "def classify4(train_mfcc, train_genre, test_mfcc, test_genre):\n",
    "    success=0\n",
    "    succ_gen = np.zeros(10)\n",
    "    gnb = GaussianNB()\n",
    "    y_pred = gnb.fit(train_mfcc,train_genre).predict(test_mfcc)\n",
    "    #print test_genre == y_pred\n",
    "    print(\"Number of mislabeled points out of a total %d points : %d\"\n",
    "      % (test_mfcc.shape[0],(test_genre != y_pred).sum()))\n",
    "\n",
    "mode7(char, (step*100)/90, amount=90, n_set=4)"
   ]
  },
  {
   "cell_type": "code",
   "execution_count": 30,
   "metadata": {},
   "outputs": [
    {
     "ename": "NameError",
     "evalue": "name 'step' is not defined",
     "output_type": "error",
     "traceback": [
      "\u001b[1;31m---------------------------------------------------------------------------\u001b[0m",
      "\u001b[1;31mNameError\u001b[0m                                 Traceback (most recent call last)",
      "\u001b[1;32m<ipython-input-30-cf4770be9318>\u001b[0m in \u001b[0;36m<module>\u001b[1;34m()\u001b[0m\n\u001b[0;32m     12\u001b[0m     \u001b[1;32mprint\u001b[0m \u001b[0mscores\u001b[0m\u001b[1;33m.\u001b[0m\u001b[0mmean\u001b[0m\u001b[1;33m(\u001b[0m\u001b[1;33m)\u001b[0m\u001b[1;33m\u001b[0m\u001b[0m\n\u001b[0;32m     13\u001b[0m \u001b[1;33m\u001b[0m\u001b[0m\n\u001b[1;32m---> 14\u001b[1;33m \u001b[0mmode8\u001b[0m\u001b[1;33m(\u001b[0m\u001b[0mchar\u001b[0m\u001b[1;33m,\u001b[0m \u001b[1;33m(\u001b[0m\u001b[0mstep\u001b[0m\u001b[1;33m*\u001b[0m\u001b[1;36m100\u001b[0m\u001b[1;33m)\u001b[0m\u001b[1;33m/\u001b[0m\u001b[1;36m90\u001b[0m\u001b[1;33m,\u001b[0m \u001b[0mamount\u001b[0m\u001b[1;33m=\u001b[0m\u001b[1;36m90\u001b[0m\u001b[1;33m,\u001b[0m \u001b[0mn_set\u001b[0m\u001b[1;33m=\u001b[0m\u001b[1;36m4\u001b[0m\u001b[1;33m)\u001b[0m\u001b[1;33m\u001b[0m\u001b[0m\n\u001b[0m",
      "\u001b[1;31mNameError\u001b[0m: name 'step' is not defined"
     ]
    }
   ],
   "source": [
    "from sklearn.ensemble import AdaBoostClassifier\n",
    "from sklearn.model_selection import cross_val_score\n",
    "\n",
    "def mode8(char, step, amount, n_set):\n",
    "    hist, char = more_hist(char, step, amount)\n",
    "    train_mfcc, train_genre, test_mfcc, test_genre = train_test(char, hist, n_set)\n",
    "    return classify5(train_mfcc, train_genre, test_mfcc, test_genre)\n",
    "\n",
    "def classify5(train_mfcc, train_genre, test_mfcc, test_genre):\n",
    "    clf = AdaBoostClassifier(n_estimators=100)\n",
    "    scores = cross_val_score(clf, train_mfcc, train_genre)\n",
    "    print scores.mean()\n",
    "\n",
    "mode8(char, (step*100)/90, amount=90, n_set=4)  "
   ]
  },
  {
   "cell_type": "markdown",
   "metadata": {
    "collapsed": true
   },
   "source": [
    "# Results\n",
    "* char = 5\n",
    "* step = 18\n",
    "\n",
    "* **result** = 36\n",
    "\n",
    "\n",
    "* char = 20\n",
    "* step = 18\n",
    "\n",
    "* **result** = 37\n",
    "\n",
    "\n",
    "* char = 12\n",
    "* step = 18\n",
    "\n",
    "* **result** = 37"
   ]
  },
  {
   "cell_type": "code",
   "execution_count": null,
   "metadata": {
    "collapsed": true
   },
   "outputs": [],
   "source": []
  }
 ],
 "metadata": {
  "kernelspec": {
   "display_name": "Python [default]",
   "language": "python",
   "name": "python2"
  },
  "language_info": {
   "codemirror_mode": {
    "name": "ipython",
    "version": 2
   },
   "file_extension": ".py",
   "mimetype": "text/x-python",
   "name": "python",
   "nbconvert_exporter": "python",
   "pygments_lexer": "ipython2",
   "version": "2.7.13"
  }
 },
 "nbformat": 4,
 "nbformat_minor": 1
}
