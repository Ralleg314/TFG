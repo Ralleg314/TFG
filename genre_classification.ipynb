{
 "cells": [
  {
   "cell_type": "code",
   "execution_count": 1,
   "metadata": {
    "collapsed": true
   },
   "outputs": [],
   "source": [
    "import os\n",
    "import numpy as np\n",
    "import matplotlib.pyplot as plt\n",
    "import librosa\n",
    "import librosa.display\n",
    "import scipy.misc\n",
    "from sklearn.decomposition import PCA\n",
    "from sklearn.svm import SVC\n",
    "from sklearn.preprocessing import StandardScaler\n",
    "#import essentia, essentia.standard as ess"
   ]
  },
  {
   "cell_type": "code",
   "execution_count": 2,
   "metadata": {
    "collapsed": true
   },
   "outputs": [],
   "source": [
    "def chargen(char=20):\n",
    "    print char\n",
    "    char_gen = []\n",
    "    i=0\n",
    "    genre={}\n",
    "    cont=0\n",
    "    for folder in os.listdir(\"./genres\"): #iterates all folders    \n",
    "\n",
    "        folder=\"./genres/\"+folder\n",
    "        if not folder in genre.keys(): #creates a dictionary genre->number\n",
    "            genre[folder]=i\n",
    "            i+=1\n",
    "\n",
    "        for filename in os.listdir(folder): #iterates all files in the folder\n",
    "            filename = folder+\"/\"+filename\n",
    "\n",
    "            if filename.endswith((\".au\",\".mp3\",\".wav\",\".aiff\")):\n",
    "                audio, fs = librosa.load(filename, duration=29.0, mono=True, sr=22050) #loads the first 30 seconds of the song\n",
    "                mfcc = librosa.feature.mfcc(audio, sr=fs, n_mfcc=char) #calculates MFCC of the song\n",
    "                #The size of the matrix will be number_of_MFCCs*1292, which is a feature every 0.02s\n",
    "                #By default, it's 20*1291\n",
    "\n",
    "                \"\"\"The first comlumn gives useless information, so we remove it\n",
    "                Works as offset\"\"\"\n",
    "                mfcc = np.delete(mfcc, 0, axis=1)\n",
    "                #mfcc = np.ndarray.tolist(mfcc)\n",
    "\n",
    "                char_gen.append((mfcc,genre[folder])) #adds the array to a list\n",
    "                \n",
    "                if cont%10==0:\n",
    "                    print cont%100,\n",
    "                \n",
    "                cont+=1\n",
    "        print \n",
    "                    \n",
    "    return np.array(char_gen)"
   ]
  },
  {
   "cell_type": "code",
   "execution_count": 3,
   "metadata": {
    "collapsed": true,
    "scrolled": true
   },
   "outputs": [],
   "source": [
    "def char1():\n",
    "    char_gen=[]\n",
    "    i=0\n",
    "    genre={}\n",
    "    cont=0\n",
    "    for folder in os.listdir(\"./genres\"): #iterates all folders    \n",
    "\n",
    "        folder=\"./genres/\"+folder\n",
    "        if not folder in genre.keys(): #creates a dictionary genre->number\n",
    "            genre[folder]=i\n",
    "            i+=1\n",
    "\n",
    "        for filename in os.listdir(folder): #iterates all files in the folder\n",
    "            filename = folder+\"/\"+filename\n",
    "\n",
    "            if filename.endswith((\".au\",\".mp3\",\".wav\",\".aiff\")):\n",
    "                audio, fs = librosa.load(filename, duration=29.0, mono=True, sr=22050) #loads the first 30 seconds of the song\n",
    "                mfcc = librosa.feature.mfcc(audio, sr=fs) #calculates MFCC of the song\n",
    "                #The size of the matrix will be number_of_MFCCs*1292, which is a feature every 0.02s\n",
    "                #By default, it's 20*1291\n",
    "\n",
    "                \"\"\"The first comlumn gives useless information, so we remove it\n",
    "                Works as offset\"\"\"\n",
    "                mfcc = np.delete(mfcc, 0, axis=1)\n",
    "                                \n",
    "                #librosa.display.specshow(mfcc, x_axis='time')\n",
    "                #plt.show()\n",
    "\n",
    "                mfcc=np.transpose(mfcc)\n",
    "                mfcc=mfcc.flatten() #converts the matrix into a 1D array\n",
    "\n",
    "                char_gen.append((mfcc,genre[folder])) #adds the array to a list\n",
    "                \n",
    "                if cont%10==0:\n",
    "                    print cont%100,\n",
    "                \n",
    "                cont+=1\n",
    "                '''if cont>=10:\n",
    "                    break'''\n",
    "        print \n",
    "                    \n",
    "    return np.array(char_gen)"
   ]
  },
  {
   "cell_type": "code",
   "execution_count": 4,
   "metadata": {
    "collapsed": true,
    "scrolled": true
   },
   "outputs": [],
   "source": [
    "def char2():\n",
    "    char_gen=[]\n",
    "    i=0\n",
    "    genre={}\n",
    "    for folder in os.listdir(\"./genres\"): #iterates all folders    \n",
    "        cont=0\n",
    "\n",
    "        folder=\"./genres/\"+folder\n",
    "        if not folder in genre.keys(): #creates a dictionary genre->number\n",
    "            genre[folder]=i\n",
    "            i+=1\n",
    "\n",
    "        for filename in os.listdir(folder): #iterates all files in the folder\n",
    "            filename = folder+\"/\"+filename\n",
    "\n",
    "            if filename.endswith((\".au\",\".mp3\",\".wav\",\".aiff\")):\n",
    "                audio, fs = librosa.load(filename, duration=30.0, mono=True, sr=22050) #loads the first 30 seconds of the song\n",
    "                mfcc = librosa.feature.mfcc(audio, sr=fs, n_fft=1024, hop_length=30*22050) #calculates MFCC of the song\n",
    "                #The size of the matrix will be number_of_MFCCs*1292, which is a feature every 0.02s\n",
    "                #By default, it's 20*1922\n",
    "\n",
    "                \"\"\"The first comlumn gives useless information, so we remove it\n",
    "                Works as offset\"\"\"\n",
    "                mfcc = np.delete(mfcc, 0, axis=1)\n",
    "                \n",
    "                #librosa.display.specshow(mfcc, x_axis='time')\n",
    "                #plt.show()\n",
    "                \n",
    "                mfcc=mfcc.flatten() #converts the matrix into a 1D array\n",
    "\n",
    "                char_gen.append((mfcc,genre[folder])) #adds the array to a list\n",
    "\n",
    "                cont+=1\n",
    "                if cont>=1:\n",
    "                    break\n",
    "                \n",
    "    return char_gen"
   ]
  },
  {
   "cell_type": "code",
   "execution_count": 17,
   "metadata": {},
   "outputs": [],
   "source": [
    "def char3(char=5):\n",
    "    print char\n",
    "    char_gen=[]\n",
    "    maxs=[]\n",
    "    mins=[]\n",
    "    i=0\n",
    "    genre={}\n",
    "    cont=0\n",
    "    scaler = StandardScaler()\n",
    "    for folder in os.listdir(\"./genres\"): #iterates all folders    \n",
    "\n",
    "        folder=\"./genres/\"+folder\n",
    "        if not folder in genre.keys(): #creates a dictionary genre->number\n",
    "            genre[folder]=i\n",
    "            i+=1\n",
    "\n",
    "        print str(cont/100)+\":\",    \n",
    "            \n",
    "        for filename in os.listdir(folder): #iterates all files in the folder\n",
    "            filename = folder+\"/\"+filename\n",
    "\n",
    "            if filename.endswith((\".au\",\".mp3\",\".wav\",\".aiff\")):\n",
    "                audio, fs = librosa.load(filename, duration=29.0, mono=True, sr=22050) #loads the first 30 seconds of the song\n",
    "                mfcc = librosa.feature.mfcc(audio, sr=fs, n_mfcc=char) #calculates MFCC of the song\n",
    "                #The size of the matrix will be number_of_MFCCs*1292, which is a feature every 0.02s\n",
    "                #By default, it's 20*1291\n",
    "\n",
    "                \"\"\"The first comlumn gives useless information, so we remove it\n",
    "                Works as offset\"\"\"\n",
    "                mfcc = np.delete(mfcc, 0, axis=1)\n",
    "                \n",
    "                #mfcc = scaler.fit_transform(mfcc)\n",
    "                                \n",
    "                maxs.append(np.amax(mfcc))\n",
    "                mins.append(np.amin(mfcc))\n",
    "                \n",
    "                #mfcc=np.transpose(mfcc)\n",
    "                #mfcc=mfcc.flatten() #converts the matrix into a 1D array\n",
    "\n",
    "                char_gen.append((mfcc,genre[folder])) #adds the array to a list\n",
    "                \n",
    "                if cont%10==0:\n",
    "                    print cont%100,\n",
    "                \n",
    "                cont+=1\n",
    "        print \n",
    "    step = (max(maxs) - min(mins))/100\n",
    "    return np.array(char_gen), step"
   ]
  },
  {
   "cell_type": "code",
   "execution_count": 6,
   "metadata": {
    "collapsed": true
   },
   "outputs": [],
   "source": [
    "def histogram(step, char, amount):\n",
    "    histogram = np.zeros(amount)\n",
    "    for c in char:\n",
    "        histogram[int(c/step)] += 1.\n",
    "    histogram = histogram/len(char)\n",
    "    histogram = np.ndarray.tolist(histogram)\n",
    "    return histogram"
   ]
  },
  {
   "cell_type": "code",
   "execution_count": 7,
   "metadata": {
    "collapsed": true
   },
   "outputs": [],
   "source": [
    "def reshape_pca(char):\n",
    "    mfcc = np.array(char[:,0 ])\n",
    "    mfcc = np.concatenate(mfcc).reshape(1000,24960)\n",
    "    pca=PCA(n_components = 100, svd_solver='full')\n",
    "    pca.fit(mfcc)\n",
    "    mfcc=pca.transform(mfcc)\n",
    "    return mfcc"
   ]
  },
  {
   "cell_type": "code",
   "execution_count": 23,
   "metadata": {},
   "outputs": [
    {
     "name": "stdout",
     "output_type": "stream",
     "text": [
      "\n"
     ]
    }
   ],
   "source": [
    "def train_test(mfcc, char):\n",
    "    train_mfcc, test_mfcc=[],[]\n",
    "    train_genre, test_genre=[], []\n",
    "\n",
    "    for i in range(1000):\n",
    "        if i%10==0:\n",
    "            test_mfcc.append(mfcc[i])\n",
    "            test_genre.append(char[i][1])\n",
    "        else:\n",
    "            train_mfcc.append(mfcc[i])\n",
    "            train_genre.append(char[i][1])\n",
    "\n",
    "    train_mfcc = np.array(train_mfcc)\n",
    "    test_mfcc = np.array(test_mfcc)\n",
    "    train_genre = np.array(train_genre)\n",
    "    test_genre = np.array(test_genre)\n",
    "    return train_mfcc, train_genre, test_mfcc, test_genre"
   ]
  },
  {
   "cell_type": "code",
   "execution_count": 24,
   "metadata": {
    "collapsed": true
   },
   "outputs": [],
   "source": [
    "def classify(train_mfcc, train_genre, test_mfcc, test_genre):\n",
    "    success=0\n",
    "    clf=SVC(C=0.0001)\n",
    "    clf.fit(train_mfcc,train_genre)\n",
    "    for i in range(100):\n",
    "        test=test_mfcc[i].reshape(1, -1)\n",
    "        pred = clf.predict(test)\n",
    "        if pred[0]==test_genre[i]:\n",
    "            success+=1\n",
    "    return success"
   ]
  },
  {
   "cell_type": "code",
   "execution_count": 10,
   "metadata": {
    "collapsed": true
   },
   "outputs": [],
   "source": [
    "def all_hist(char, step, amount):\n",
    "    hist=[]\n",
    "    temp_char=[]\n",
    "    for c in char:\n",
    "        temp = histogram(step, c[0], amount)\n",
    "        hist.append((temp, c[1]))\n",
    "        temp_char.append(temp)\n",
    "    return hist, temp_char\n"
   ]
  },
  {
   "cell_type": "code",
   "execution_count": 11,
   "metadata": {
    "collapsed": true
   },
   "outputs": [],
   "source": [
    "def more_hist(char, step, amount):\n",
    "    hist = []\n",
    "    temp_char=[]\n",
    "    for c in char:\n",
    "        tmp = c[0]\n",
    "        temp = []\n",
    "        for v in tmp:\n",
    "            temp+=histogram(step, v, amount)\n",
    "        temp_char.append(temp)\n",
    "        hist.append((temp, c[1]))\n",
    "    return hist, temp_char    "
   ]
  },
  {
   "cell_type": "code",
   "execution_count": 12,
   "metadata": {
    "collapsed": true
   },
   "outputs": [],
   "source": [
    "def mode1():\n",
    "    char = char1()\n",
    "    mfcc = reshape_pca(char)\n",
    "    train_mfcc, train_genre, test_mfcc, test_genre = train_test(mfcc, char)\n",
    "    classify(train_mfcc, train_genre, test_mfcc, test_genre)"
   ]
  },
  {
   "cell_type": "code",
   "execution_count": 13,
   "metadata": {
    "collapsed": true
   },
   "outputs": [],
   "source": [
    "def mode2():\n",
    "    char = char2()\n",
    "    mfcc = reshape_pca(char)\n",
    "    train_mfcc, train_genre, test_mfcc, test_genre = train_test(mfcc, char)\n",
    "    classify(train_mfcc, train_genre, test_mfcc, test_genre)"
   ]
  },
  {
   "cell_type": "code",
   "execution_count": 14,
   "metadata": {
    "collapsed": true
   },
   "outputs": [],
   "source": [
    "def mode3(char, step, amount):\n",
    "    hist, char = all_hist(char, step, amount)\n",
    "    train_mfcc, train_genre, test_mfcc, test_genre = train_test(char, hist)\n",
    "    return classify(train_mfcc, train_genre, test_mfcc, test_genre)"
   ]
  },
  {
   "cell_type": "code",
   "execution_count": 15,
   "metadata": {
    "collapsed": true
   },
   "outputs": [],
   "source": [
    "def mode4(char, step, amount):\n",
    "    hist, char = more_hist(char, step, amount)\n",
    "    train_mfcc, train_genre, test_mfcc, test_genre = train_test(char, hist)\n",
    "    return classify(train_mfcc, train_genre, test_mfcc, test_genre)"
   ]
  },
  {
   "cell_type": "code",
   "execution_count": 36,
   "metadata": {
    "collapsed": true
   },
   "outputs": [
    {
     "name": "stdout",
     "output_type": "stream",
     "text": [
      " 5\n",
      "0 10 20 30 40 50 60 70 80 90\n",
      "0 10 20 30 40 50 60 70 80 90\n",
      "0 10 20 30 40 50 60 70 80 90\n",
      "0 10 20 30 40 50 60 70 80 90\n",
      "0 10 20 30 40 50 60 70 80 90\n",
      "0 10 20 30 40 50 60 70 80 90\n",
      "0 10 20 30 40 50 60 70 80 90\n",
      "0 10 20 30 40 50 60 70 80 90\n",
      "0 10 20 30 40 50 60 70 80 90\n",
      "0 10 20 30 40 50 60 70 80 90\n",
      "10\n",
      "0 10 20 30 40 50 60 70 80 90\n",
      "0 10 20 30 40 50 60 70 80 90\n",
      "0 10 20 30 40 50 60 70 80 90\n",
      "0 10 20 30 40 50 60 70 80 90\n",
      "0 10 20 30 40 50 60 70 80 90\n",
      "0 10 20 30 40 50 60 70 80 90\n",
      "0 10 20 30 40 50 60 70 80 90\n",
      "0 10 20 30 40 50 60 70 80 90\n",
      "0 10 20 30 40 50 60 70 80 90\n",
      "0 10 20 30 40 50 60 70 80 90\n",
      "15\n",
      "0 10 20 30 40 50 60 70 80 90\n",
      "0 10 20 30 40 50 60 70 80 90\n",
      "0 10 20 30 40 50 60 70 80 90\n",
      "0 10 20 30 40 50 60 70 80 90\n",
      "0 10 20 30 40 50 60 70 80 90\n",
      "0 10 20 30 40 50 60 70 80 90\n",
      "0 10 20 30 40 50 60 70 80 90\n",
      "0 10 20 30 40 50 60 70 80 90\n",
      "0 10 20 30 40 50 60 70 80 90\n",
      "0 10 20 30 40 50 60 70 80 90\n",
      "20\n",
      "0 10 20 30 40 50 60 70 80 90\n",
      "0 10 20 30 40 50 60 70 80 90\n",
      "0 10 20 30 40 50 60 70 80 90\n",
      "0 10 20 30 40 50 60 70 80 90\n",
      "0 10 20 30 40 50 60 70 80 90\n",
      "0 10 20 30 40 50 60 70 80 90\n",
      "0 10 20 30 40 50 60 70 80 90\n",
      "0 10 20 30 40 50 60 70 80 90\n",
      "0 10 20 30 40 50 60 70 80 90\n",
      "0 10 20 30 40 50 60 70 80 90\n"
     ]
    }
   ],
   "source": [
    "for i in range(5,21,5):\n",
    "    char_gen = chargen(i)\n",
    "    filename = \"values\"+str(i)\n",
    "    np.save(filename, char_gen)"
   ]
  },
  {
   "cell_type": "code",
   "execution_count": 49,
   "metadata": {
    "collapsed": true
   },
   "outputs": [],
   "source": [
    "for i in range(5,6,5):\n",
    "    filename = \"values\"+str(i)+\".npy\"\n",
    "    char = np.load(filename)\n",
    "    #print char.shape, char[0].shape, char[0][0].shape, char[0][0][0].shape\n",
    "    #step = (np.amax(np.amax(np.amax(char))) - np.amin(np.amin(np.amin(char))))/100"
   ]
  },
  {
   "cell_type": "code",
   "execution_count": 74,
   "metadata": {
    "scrolled": true
   },
   "outputs": [
    {
     "name": "stdout",
     "output_type": "stream",
     "text": [
      "0: 0 10 20 30 40 50 60 70 80 90\n",
      "1: 0 10 20 30 40 50 60 70 80 90\n",
      "2: 0 10 20 30 40 50 60 70 80 90\n",
      "3: 0 10 20 30 40 50 60 70 80 90\n",
      "4: 0 10 20 30 40 50 60 70 80 90\n",
      "5: 0 10 20 30 40 50 60 70 80 90\n",
      "6: 0 10 20 30 40 50 60 70 80 90\n",
      "7: 0 10 20 30 40 50 60 70 80 90\n",
      "8: 0 10 20 30 40 50 60 70 80 90\n",
      "9: 0 10 20 30 40 50 60 70 80 90\n"
     ]
    }
   ],
   "source": [
    "char, step = char3(5)"
   ]
  },
  {
   "cell_type": "code",
   "execution_count": 54,
   "metadata": {
    "collapsed": true
   },
   "outputs": [
    {
     "name": "stdout",
     "output_type": "stream",
     "text": [
      "([array([0.03044872, 0.00080128, 0.        , 0.        , 0.        ,\n",
      "       0.        , 0.        , 0.        , 0.        , 0.        ,\n",
      "       0.        , 0.        , 0.        , 0.        , 0.        ,\n",
      "       0.        , 0.        , 0.        , 0.        , 0.        ,\n",
      "       0.        , 0.        , 0.        , 0.        , 0.        ,\n",
      "       0.        , 0.        , 0.        , 0.        , 0.        ,\n",
      "       0.        , 0.        , 0.        , 0.        , 0.        ,\n",
      "       0.        , 0.        , 0.00240385, 0.00641026, 0.02083333,\n",
      "       0.03125   , 0.06410256, 0.11939103, 0.11378205, 0.15865385,\n",
      "       0.14663462, 0.10416667, 0.08333333, 0.0713141 , 0.04647436]), array([0.        , 0.        , 0.00160256, 0.00961538, 0.04407051,\n",
      "       0.24759615, 0.43589744, 0.21794872, 0.04326923, 0.        ,\n",
      "       0.        , 0.        , 0.        , 0.        , 0.        ,\n",
      "       0.        , 0.        , 0.        , 0.        , 0.        ,\n",
      "       0.        , 0.        , 0.        , 0.        , 0.        ,\n",
      "       0.        , 0.        , 0.        , 0.        , 0.        ,\n",
      "       0.        , 0.        , 0.        , 0.        , 0.        ,\n",
      "       0.        , 0.        , 0.        , 0.        , 0.        ,\n",
      "       0.        , 0.        , 0.        , 0.        , 0.        ,\n",
      "       0.        , 0.        , 0.        , 0.        , 0.        ]), array([0.53365385, 0.00400641, 0.        , 0.        , 0.        ,\n",
      "       0.        , 0.        , 0.        , 0.        , 0.        ,\n",
      "       0.        , 0.        , 0.        , 0.        , 0.        ,\n",
      "       0.        , 0.        , 0.        , 0.        , 0.        ,\n",
      "       0.        , 0.        , 0.        , 0.        , 0.        ,\n",
      "       0.        , 0.        , 0.        , 0.        , 0.        ,\n",
      "       0.        , 0.        , 0.        , 0.        , 0.        ,\n",
      "       0.        , 0.        , 0.        , 0.        , 0.        ,\n",
      "       0.        , 0.        , 0.        , 0.        , 0.        ,\n",
      "       0.        , 0.        , 0.01362179, 0.09695513, 0.35176282]), array([0.04807692, 0.30448718, 0.53926282, 0.10817308, 0.        ,\n",
      "       0.        , 0.        , 0.        , 0.        , 0.        ,\n",
      "       0.        , 0.        , 0.        , 0.        , 0.        ,\n",
      "       0.        , 0.        , 0.        , 0.        , 0.        ,\n",
      "       0.        , 0.        , 0.        , 0.        , 0.        ,\n",
      "       0.        , 0.        , 0.        , 0.        , 0.        ,\n",
      "       0.        , 0.        , 0.        , 0.        , 0.        ,\n",
      "       0.        , 0.        , 0.        , 0.        , 0.        ,\n",
      "       0.        , 0.        , 0.        , 0.        , 0.        ,\n",
      "       0.        , 0.        , 0.        , 0.        , 0.        ]), array([0.80769231, 0.01602564, 0.        , 0.        , 0.        ,\n",
      "       0.        , 0.        , 0.        , 0.        , 0.        ,\n",
      "       0.        , 0.        , 0.        , 0.        , 0.        ,\n",
      "       0.        , 0.        , 0.        , 0.        , 0.        ,\n",
      "       0.        , 0.        , 0.        , 0.        , 0.        ,\n",
      "       0.        , 0.        , 0.        , 0.        , 0.        ,\n",
      "       0.        , 0.        , 0.        , 0.        , 0.        ,\n",
      "       0.        , 0.        , 0.        , 0.        , 0.        ,\n",
      "       0.        , 0.        , 0.        , 0.        , 0.        ,\n",
      "       0.        , 0.        , 0.        , 0.00961538, 0.16666667])], 0) [array([0.03044872, 0.00080128, 0.        , 0.        , 0.        ,\n",
      "       0.        , 0.        , 0.        , 0.        , 0.        ,\n",
      "       0.        , 0.        , 0.        , 0.        , 0.        ,\n",
      "       0.        , 0.        , 0.        , 0.        , 0.        ,\n",
      "       0.        , 0.        , 0.        , 0.        , 0.        ,\n",
      "       0.        , 0.        , 0.        , 0.        , 0.        ,\n",
      "       0.        , 0.        , 0.        , 0.        , 0.        ,\n",
      "       0.        , 0.        , 0.00240385, 0.00641026, 0.02083333,\n",
      "       0.03125   , 0.06410256, 0.11939103, 0.11378205, 0.15865385,\n",
      "       0.14663462, 0.10416667, 0.08333333, 0.0713141 , 0.04647436]), array([0.        , 0.        , 0.00160256, 0.00961538, 0.04407051,\n",
      "       0.24759615, 0.43589744, 0.21794872, 0.04326923, 0.        ,\n",
      "       0.        , 0.        , 0.        , 0.        , 0.        ,\n",
      "       0.        , 0.        , 0.        , 0.        , 0.        ,\n",
      "       0.        , 0.        , 0.        , 0.        , 0.        ,\n",
      "       0.        , 0.        , 0.        , 0.        , 0.        ,\n",
      "       0.        , 0.        , 0.        , 0.        , 0.        ,\n",
      "       0.        , 0.        , 0.        , 0.        , 0.        ,\n",
      "       0.        , 0.        , 0.        , 0.        , 0.        ,\n",
      "       0.        , 0.        , 0.        , 0.        , 0.        ]), array([0.53365385, 0.00400641, 0.        , 0.        , 0.        ,\n",
      "       0.        , 0.        , 0.        , 0.        , 0.        ,\n",
      "       0.        , 0.        , 0.        , 0.        , 0.        ,\n",
      "       0.        , 0.        , 0.        , 0.        , 0.        ,\n",
      "       0.        , 0.        , 0.        , 0.        , 0.        ,\n",
      "       0.        , 0.        , 0.        , 0.        , 0.        ,\n",
      "       0.        , 0.        , 0.        , 0.        , 0.        ,\n",
      "       0.        , 0.        , 0.        , 0.        , 0.        ,\n",
      "       0.        , 0.        , 0.        , 0.        , 0.        ,\n",
      "       0.        , 0.        , 0.01362179, 0.09695513, 0.35176282]), array([0.04807692, 0.30448718, 0.53926282, 0.10817308, 0.        ,\n",
      "       0.        , 0.        , 0.        , 0.        , 0.        ,\n",
      "       0.        , 0.        , 0.        , 0.        , 0.        ,\n",
      "       0.        , 0.        , 0.        , 0.        , 0.        ,\n",
      "       0.        , 0.        , 0.        , 0.        , 0.        ,\n",
      "       0.        , 0.        , 0.        , 0.        , 0.        ,\n",
      "       0.        , 0.        , 0.        , 0.        , 0.        ,\n",
      "       0.        , 0.        , 0.        , 0.        , 0.        ,\n",
      "       0.        , 0.        , 0.        , 0.        , 0.        ,\n",
      "       0.        , 0.        , 0.        , 0.        , 0.        ]), array([0.80769231, 0.01602564, 0.        , 0.        , 0.        ,\n",
      "       0.        , 0.        , 0.        , 0.        , 0.        ,\n",
      "       0.        , 0.        , 0.        , 0.        , 0.        ,\n",
      "       0.        , 0.        , 0.        , 0.        , 0.        ,\n",
      "       0.        , 0.        , 0.        , 0.        , 0.        ,\n",
      "       0.        , 0.        , 0.        , 0.        , 0.        ,\n",
      "       0.        , 0.        , 0.        , 0.        , 0.        ,\n",
      "       0.        , 0.        , 0.        , 0.        , 0.        ,\n",
      "       0.        , 0.        , 0.        , 0.        , 0.        ,\n",
      "       0.        , 0.        , 0.        , 0.00961538, 0.16666667])]\n"
     ]
    }
   ],
   "source": [
    "hist, charco = more_hist(char,(step*100)/50, 50)"
   ]
  },
  {
   "cell_type": "code",
   "execution_count": 57,
   "metadata": {
    "collapsed": true
   },
   "outputs": [
    {
     "ename": "TypeError",
     "evalue": "only size-1 arrays can be converted to Python scalars",
     "output_type": "error",
     "traceback": [
      "\u001b[1;31m---------------------------------------------------------------------------\u001b[0m",
      "\u001b[1;31mTypeError\u001b[0m                                 Traceback (most recent call last)",
      "\u001b[1;32m<ipython-input-57-4ad5afe0e1f5>\u001b[0m in \u001b[0;36m<module>\u001b[1;34m()\u001b[0m\n\u001b[0;32m      2\u001b[0m \u001b[1;32mfor\u001b[0m \u001b[0mi\u001b[0m \u001b[1;32min\u001b[0m \u001b[0mrange\u001b[0m\u001b[1;33m(\u001b[0m\u001b[1;36m1\u001b[0m\u001b[1;33m,\u001b[0m\u001b[1;36m100\u001b[0m\u001b[1;33m)\u001b[0m\u001b[1;33m:\u001b[0m\u001b[1;33m\u001b[0m\u001b[0m\n\u001b[0;32m      3\u001b[0m     \u001b[1;32mif\u001b[0m \u001b[0mi\u001b[0m\u001b[1;33m%\u001b[0m\u001b[1;36m10\u001b[0m\u001b[1;33m==\u001b[0m\u001b[1;36m0\u001b[0m\u001b[1;33m:\u001b[0m \u001b[1;32mprint\u001b[0m \u001b[0mi\u001b[0m\u001b[1;33m,\u001b[0m\u001b[1;33m\u001b[0m\u001b[0m\n\u001b[1;32m----> 4\u001b[1;33m     \u001b[0mresults\u001b[0m\u001b[1;33m.\u001b[0m\u001b[0mappend\u001b[0m\u001b[1;33m(\u001b[0m\u001b[1;33m(\u001b[0m\u001b[0mi\u001b[0m\u001b[1;33m,\u001b[0m \u001b[0mmode3\u001b[0m\u001b[1;33m(\u001b[0m\u001b[0mchar\u001b[0m\u001b[1;33m,\u001b[0m \u001b[1;33m(\u001b[0m\u001b[0mstep\u001b[0m\u001b[1;33m*\u001b[0m\u001b[1;36m100\u001b[0m\u001b[1;33m)\u001b[0m\u001b[1;33m/\u001b[0m\u001b[0mi\u001b[0m\u001b[1;33m,\u001b[0m \u001b[0mamount\u001b[0m\u001b[1;33m=\u001b[0m\u001b[0mi\u001b[0m\u001b[1;33m)\u001b[0m\u001b[1;33m)\u001b[0m\u001b[1;33m)\u001b[0m\u001b[1;33m\u001b[0m\u001b[0m\n\u001b[0m\u001b[0;32m      5\u001b[0m \u001b[1;33m\u001b[0m\u001b[0m\n\u001b[0;32m      6\u001b[0m \u001b[1;32mprint\u001b[0m\u001b[1;33m\u001b[0m\u001b[0m\n",
      "\u001b[1;32m<ipython-input-15-bf2171ba3664>\u001b[0m in \u001b[0;36mmode3\u001b[1;34m(char, step, amount)\u001b[0m\n\u001b[0;32m      1\u001b[0m \u001b[1;32mdef\u001b[0m \u001b[0mmode3\u001b[0m\u001b[1;33m(\u001b[0m\u001b[0mchar\u001b[0m\u001b[1;33m,\u001b[0m \u001b[0mstep\u001b[0m\u001b[1;33m,\u001b[0m \u001b[0mamount\u001b[0m\u001b[1;33m)\u001b[0m\u001b[1;33m:\u001b[0m\u001b[1;33m\u001b[0m\u001b[0m\n\u001b[1;32m----> 2\u001b[1;33m     \u001b[0mhist\u001b[0m\u001b[1;33m,\u001b[0m \u001b[0mchar\u001b[0m \u001b[1;33m=\u001b[0m \u001b[0mall_hist\u001b[0m\u001b[1;33m(\u001b[0m\u001b[0mchar\u001b[0m\u001b[1;33m,\u001b[0m \u001b[0mstep\u001b[0m\u001b[1;33m,\u001b[0m \u001b[0mamount\u001b[0m\u001b[1;33m)\u001b[0m\u001b[1;33m\u001b[0m\u001b[0m\n\u001b[0m\u001b[0;32m      3\u001b[0m     \u001b[0mtrain_mfcc\u001b[0m\u001b[1;33m,\u001b[0m \u001b[0mtrain_genre\u001b[0m\u001b[1;33m,\u001b[0m \u001b[0mtest_mfcc\u001b[0m\u001b[1;33m,\u001b[0m \u001b[0mtest_genre\u001b[0m \u001b[1;33m=\u001b[0m \u001b[0mtrain_test\u001b[0m\u001b[1;33m(\u001b[0m\u001b[0mchar\u001b[0m\u001b[1;33m,\u001b[0m \u001b[0mhist\u001b[0m\u001b[1;33m)\u001b[0m\u001b[1;33m\u001b[0m\u001b[0m\n\u001b[0;32m      4\u001b[0m     \u001b[1;32mreturn\u001b[0m \u001b[0mclassify\u001b[0m\u001b[1;33m(\u001b[0m\u001b[0mtrain_mfcc\u001b[0m\u001b[1;33m,\u001b[0m \u001b[0mtrain_genre\u001b[0m\u001b[1;33m,\u001b[0m \u001b[0mtest_mfcc\u001b[0m\u001b[1;33m,\u001b[0m \u001b[0mtest_genre\u001b[0m\u001b[1;33m)\u001b[0m\u001b[1;33m\u001b[0m\u001b[0m\n",
      "\u001b[1;32m<ipython-input-11-f61ef3321f0d>\u001b[0m in \u001b[0;36mall_hist\u001b[1;34m(char, step, amount)\u001b[0m\n\u001b[0;32m      3\u001b[0m     \u001b[0mtemp_char\u001b[0m\u001b[1;33m=\u001b[0m\u001b[1;33m[\u001b[0m\u001b[1;33m]\u001b[0m\u001b[1;33m\u001b[0m\u001b[0m\n\u001b[0;32m      4\u001b[0m     \u001b[1;32mfor\u001b[0m \u001b[0mc\u001b[0m \u001b[1;32min\u001b[0m \u001b[0mchar\u001b[0m\u001b[1;33m:\u001b[0m\u001b[1;33m\u001b[0m\u001b[0m\n\u001b[1;32m----> 5\u001b[1;33m         \u001b[0mtemp\u001b[0m \u001b[1;33m=\u001b[0m \u001b[0mhistogram\u001b[0m\u001b[1;33m(\u001b[0m\u001b[0mstep\u001b[0m\u001b[1;33m,\u001b[0m \u001b[0mc\u001b[0m\u001b[1;33m[\u001b[0m\u001b[1;36m0\u001b[0m\u001b[1;33m]\u001b[0m\u001b[1;33m,\u001b[0m \u001b[0mamount\u001b[0m\u001b[1;33m)\u001b[0m\u001b[1;33m\u001b[0m\u001b[0m\n\u001b[0m\u001b[0;32m      6\u001b[0m         \u001b[0mhist\u001b[0m\u001b[1;33m.\u001b[0m\u001b[0mappend\u001b[0m\u001b[1;33m(\u001b[0m\u001b[1;33m(\u001b[0m\u001b[0mtemp\u001b[0m\u001b[1;33m,\u001b[0m \u001b[0mc\u001b[0m\u001b[1;33m[\u001b[0m\u001b[1;36m1\u001b[0m\u001b[1;33m]\u001b[0m\u001b[1;33m)\u001b[0m\u001b[1;33m)\u001b[0m\u001b[1;33m\u001b[0m\u001b[0m\n\u001b[0;32m      7\u001b[0m         \u001b[0mtemp_char\u001b[0m\u001b[1;33m.\u001b[0m\u001b[0mappend\u001b[0m\u001b[1;33m(\u001b[0m\u001b[0mtemp\u001b[0m\u001b[1;33m)\u001b[0m\u001b[1;33m\u001b[0m\u001b[0m\n",
      "\u001b[1;32m<ipython-input-7-7c10238e71a4>\u001b[0m in \u001b[0;36mhistogram\u001b[1;34m(step, char, amount)\u001b[0m\n\u001b[0;32m      2\u001b[0m     \u001b[0mhistogram\u001b[0m \u001b[1;33m=\u001b[0m \u001b[0mnp\u001b[0m\u001b[1;33m.\u001b[0m\u001b[0mzeros\u001b[0m\u001b[1;33m(\u001b[0m\u001b[0mamount\u001b[0m\u001b[1;33m)\u001b[0m\u001b[1;33m\u001b[0m\u001b[0m\n\u001b[0;32m      3\u001b[0m     \u001b[1;32mfor\u001b[0m \u001b[0mc\u001b[0m \u001b[1;32min\u001b[0m \u001b[0mchar\u001b[0m\u001b[1;33m:\u001b[0m\u001b[1;33m\u001b[0m\u001b[0m\n\u001b[1;32m----> 4\u001b[1;33m         \u001b[0mhistogram\u001b[0m\u001b[1;33m[\u001b[0m\u001b[0mint\u001b[0m\u001b[1;33m(\u001b[0m\u001b[0mc\u001b[0m\u001b[1;33m/\u001b[0m\u001b[0mstep\u001b[0m\u001b[1;33m)\u001b[0m\u001b[1;33m]\u001b[0m \u001b[1;33m+=\u001b[0m \u001b[1;36m1.\u001b[0m\u001b[1;33m\u001b[0m\u001b[0m\n\u001b[0m\u001b[0;32m      5\u001b[0m     \u001b[1;32mreturn\u001b[0m \u001b[0mhistogram\u001b[0m\u001b[1;33m/\u001b[0m\u001b[0mlen\u001b[0m\u001b[1;33m(\u001b[0m\u001b[0mchar\u001b[0m\u001b[1;33m)\u001b[0m\u001b[1;33m\u001b[0m\u001b[0m\n",
      "\u001b[1;31mTypeError\u001b[0m: only size-1 arrays can be converted to Python scalars"
     ]
    }
   ],
   "source": [
    "results=[]\n",
    "for i in range(1,100):\n",
    "    if i%10==0: print i,\n",
    "    results.append((i, mode3(char, (step*100)/i, amount=i)))\n",
    "\n",
    "print\n",
    "results.sort(key=lambda x:x[1], reverse=True)\n",
    "print results[0]"
   ]
  },
  {
   "cell_type": "code",
   "execution_count": 96,
   "metadata": {
    "scrolled": false
   },
   "outputs": [
    {
     "name": "stdout",
     "output_type": "stream",
     "text": [
      "10 20 30 40 50 60 70 80 90\n",
      "[(17, 39), (18, 38), (16, 37), (20, 37), (21, 37), (39, 36), (44, 36), (52, 36), (13, 35), (19, 35), (23, 35), (37, 35), (40, 35), (45, 35), (46, 35), (47, 35), (51, 35), (53, 35), (57, 35), (58, 35), (59, 35), (60, 35), (15, 34), (36, 34), (38, 34), (41, 34), (42, 34), (43, 34), (48, 34), (49, 34), (50, 34), (54, 34), (56, 34), (61, 34), (62, 34), (14, 33), (22, 33), (24, 33), (25, 33), (30, 33), (31, 33), (34, 33), (35, 33), (55, 33), (63, 33), (64, 33), (65, 33), (81, 33), (82, 33), (84, 33), (85, 33), (89, 33), (93, 33), (32, 32), (66, 32), (67, 32), (68, 32), (69, 32), (71, 32), (80, 32), (83, 32), (86, 32), (87, 32), (88, 32), (90, 32), (91, 32), (92, 32), (94, 32), (95, 32), (96, 32), (97, 32), (98, 32), (99, 32), (33, 31), (70, 31), (72, 31), (73, 31), (74, 31), (75, 31), (76, 31), (77, 31), (78, 31), (79, 31), (11, 30), (27, 30), (29, 30), (12, 29), (26, 29), (9, 28), (28, 28), (7, 27), (8, 26), (10, 24), (6, 22), (5, 19)]\n",
      "(17, 39)\n"
     ]
    }
   ],
   "source": [
    "results=[]\n",
    "for i in range(5,100):\n",
    "    if i%10==0: print i,\n",
    "    results.append((i, mode4(char, (step*100)/i, amount=i)))\n",
    "\n",
    "print\n",
    "results.sort(key=lambda x:x[1], reverse=True)\n",
    "print results\n",
    "print results[0]"
   ]
  },
  {
   "cell_type": "code",
   "execution_count": 30,
   "metadata": {
    "scrolled": true
   },
   "outputs": [
    {
     "name": "stdout",
     "output_type": "stream",
     "text": [
      " 15\n",
      "0: 0 10 20 30 40 50 60 70 80 90\n",
      "1: 0 10 20 30 40 50 60 70 80 90\n",
      "2: 0 10 20 30 40 50 60 70 80 90\n",
      "3: 0 10 20 30 40 50 60 70 80 90\n",
      "4: 0 10 20 30 40 50 60 70 80 90\n",
      "5: 0 10 20 30 40 50 60 70 80 90\n",
      "6: 0 10 20 30 40 50 60 70 80 90\n",
      "7: 0 10 20 30 40 50 60 70 80 90\n",
      "8: 0 10 20 30 40 50 60 70 80 90\n",
      "9: 0 10 20 30 40 50 60 70 80 90\n",
      "10 : [0. 9. 4. 0. 0. 1. 1. 8. 0. 1.] 2.4 24\n",
      "11 : [6. 8. 1. 0. 0. 3. 0. 8. 1. 3.] 3.0 30\n",
      "12 : [4. 4. 1. 1. 1. 5. 0. 8. 2. 4.] 3.0 30\n",
      "13 : [4. 5. 0. 2. 1. 5. 3. 8. 2. 4.] 3.4 34\n",
      "14 : [0. 6. 1. 1. 1. 4. 3. 8. 4. 5.] 3.3 33\n",
      "15 : [0. 8. 1. 4. 1. 4. 3. 7. 6. 0.] 3.4 34\n",
      "16 : [0. 8. 3. 5. 1. 4. 4. 8. 4. 0.] 3.7 37\n",
      "17 : [0. 8. 3. 6. 1. 4. 5. 8. 4. 0.] 3.9 39\n",
      "18 : [1. 8. 3. 3. 0. 4. 7. 9. 3. 0.] 3.8 38\n",
      "19 : [ 1. 10.  3.  1.  0.  2.  7.  9.  2.  0.] 3.5 35\n",
      "20 : [ 1. 10.  2.  2.  0.  1.  9.  9.  3.  0.] 3.7 37\n",
      "21 : [ 2. 10.  2.  1.  0.  1.  9.  9.  4.  0.] 3.8 38\n",
      "22 : [ 3. 10.  0.  1.  0.  0.  9.  9.  3.  0.] 3.5 35\n",
      "23 : [3. 9. 0. 2. 0. 0. 9. 9. 2. 0.] 3.4 34\n",
      "24 : [3. 9. 0. 1. 0. 1. 8. 9. 2. 0.] 3.3 33\n",
      "25 : [2. 9. 0. 1. 0. 1. 8. 9. 1. 0.] 3.1 31\n",
      "26 : [2. 9. 0. 1. 0. 3. 7. 9. 0. 0.] 3.1 31\n",
      "27 : [2. 8. 1. 0. 0. 4. 7. 9. 0. 1.] 3.2 32\n",
      "28 : [2. 8. 1. 0. 0. 4. 7. 9. 1. 1.] 3.3 33\n",
      "29 : [2. 8. 2. 0. 0. 4. 7. 9. 2. 3.] 3.7 37\n",
      "30 : [2. 8. 3. 0. 0. 4. 7. 9. 1. 3.] 3.7 37\n",
      "31 : [2. 8. 3. 0. 0. 3. 7. 9. 1. 3.] 3.6 36\n",
      "32 : [2. 8. 3. 0. 0. 3. 7. 9. 1. 3.] 3.6 36\n",
      "33 : [1. 8. 3. 0. 0. 3. 7. 9. 1. 3.] 3.5 35\n",
      "34 : [1. 8. 3. 0. 0. 4. 8. 9. 0. 2.] 3.5 35\n",
      "35 :"
     ]
    },
    {
     "ename": "KeyboardInterrupt",
     "evalue": "",
     "output_type": "error",
     "traceback": [
      "\u001b[1;31m---------------------------------------------------------------------------\u001b[0m",
      "\u001b[1;31mKeyboardInterrupt\u001b[0m                         Traceback (most recent call last)",
      "\u001b[1;32m<ipython-input-30-c69bd83109cb>\u001b[0m in \u001b[0;36m<module>\u001b[1;34m()\u001b[0m\n\u001b[0;32m     22\u001b[0m \u001b[1;32mfor\u001b[0m \u001b[0mi\u001b[0m \u001b[1;32min\u001b[0m \u001b[0mrange\u001b[0m\u001b[1;33m(\u001b[0m\u001b[1;36m10\u001b[0m\u001b[1;33m,\u001b[0m\u001b[1;36m101\u001b[0m\u001b[1;33m)\u001b[0m\u001b[1;33m:\u001b[0m\u001b[1;33m\u001b[0m\u001b[0m\n\u001b[0;32m     23\u001b[0m     \u001b[1;32mprint\u001b[0m \u001b[0mstr\u001b[0m\u001b[1;33m(\u001b[0m\u001b[0mi\u001b[0m\u001b[1;33m)\u001b[0m\u001b[1;33m,\u001b[0m\u001b[1;34m\":\"\u001b[0m\u001b[1;33m,\u001b[0m\u001b[1;33m\u001b[0m\u001b[0m\n\u001b[1;32m---> 24\u001b[1;33m     \u001b[0mmode5\u001b[0m\u001b[1;33m(\u001b[0m\u001b[0mchar\u001b[0m\u001b[1;33m,\u001b[0m \u001b[1;33m(\u001b[0m\u001b[0mstep\u001b[0m\u001b[1;33m*\u001b[0m\u001b[1;36m100\u001b[0m\u001b[1;33m)\u001b[0m\u001b[1;33m/\u001b[0m\u001b[0mi\u001b[0m\u001b[1;33m,\u001b[0m \u001b[0mamount\u001b[0m\u001b[1;33m=\u001b[0m\u001b[0mi\u001b[0m\u001b[1;33m)\u001b[0m\u001b[1;33m\u001b[0m\u001b[0m\n\u001b[0m",
      "\u001b[1;32m<ipython-input-30-c69bd83109cb>\u001b[0m in \u001b[0;36mmode5\u001b[1;34m(char, step, amount)\u001b[0m\n\u001b[0;32m      2\u001b[0m \u001b[1;33m\u001b[0m\u001b[0m\n\u001b[0;32m      3\u001b[0m \u001b[1;32mdef\u001b[0m \u001b[0mmode5\u001b[0m\u001b[1;33m(\u001b[0m\u001b[0mchar\u001b[0m\u001b[1;33m,\u001b[0m \u001b[0mstep\u001b[0m\u001b[1;33m,\u001b[0m \u001b[0mamount\u001b[0m\u001b[1;33m)\u001b[0m\u001b[1;33m:\u001b[0m\u001b[1;33m\u001b[0m\u001b[0m\n\u001b[1;32m----> 4\u001b[1;33m     \u001b[0mhist\u001b[0m\u001b[1;33m,\u001b[0m \u001b[0mchar\u001b[0m \u001b[1;33m=\u001b[0m \u001b[0mmore_hist\u001b[0m\u001b[1;33m(\u001b[0m\u001b[0mchar\u001b[0m\u001b[1;33m,\u001b[0m \u001b[0mstep\u001b[0m\u001b[1;33m,\u001b[0m \u001b[0mamount\u001b[0m\u001b[1;33m)\u001b[0m\u001b[1;33m\u001b[0m\u001b[0m\n\u001b[0m\u001b[0;32m      5\u001b[0m     \u001b[0mtrain_mfcc\u001b[0m\u001b[1;33m,\u001b[0m \u001b[0mtrain_genre\u001b[0m\u001b[1;33m,\u001b[0m \u001b[0mtest_mfcc\u001b[0m\u001b[1;33m,\u001b[0m \u001b[0mtest_genre\u001b[0m \u001b[1;33m=\u001b[0m \u001b[0mtrain_test\u001b[0m\u001b[1;33m(\u001b[0m\u001b[0mchar\u001b[0m\u001b[1;33m,\u001b[0m \u001b[0mhist\u001b[0m\u001b[1;33m)\u001b[0m\u001b[1;33m\u001b[0m\u001b[0m\n\u001b[0;32m      6\u001b[0m     \u001b[1;32mreturn\u001b[0m \u001b[0mclassify2\u001b[0m\u001b[1;33m(\u001b[0m\u001b[0mtrain_mfcc\u001b[0m\u001b[1;33m,\u001b[0m \u001b[0mtrain_genre\u001b[0m\u001b[1;33m,\u001b[0m \u001b[0mtest_mfcc\u001b[0m\u001b[1;33m,\u001b[0m \u001b[0mtest_genre\u001b[0m\u001b[1;33m)\u001b[0m\u001b[1;33m\u001b[0m\u001b[0m\n",
      "\u001b[1;32m<ipython-input-11-c3b2b4fd33b5>\u001b[0m in \u001b[0;36mmore_hist\u001b[1;34m(char, step, amount)\u001b[0m\n\u001b[0;32m      6\u001b[0m         \u001b[0mtemp\u001b[0m \u001b[1;33m=\u001b[0m \u001b[1;33m[\u001b[0m\u001b[1;33m]\u001b[0m\u001b[1;33m\u001b[0m\u001b[0m\n\u001b[0;32m      7\u001b[0m         \u001b[1;32mfor\u001b[0m \u001b[0mv\u001b[0m \u001b[1;32min\u001b[0m \u001b[0mtmp\u001b[0m\u001b[1;33m:\u001b[0m\u001b[1;33m\u001b[0m\u001b[0m\n\u001b[1;32m----> 8\u001b[1;33m             \u001b[0mtemp\u001b[0m\u001b[1;33m+=\u001b[0m\u001b[0mhistogram\u001b[0m\u001b[1;33m(\u001b[0m\u001b[0mstep\u001b[0m\u001b[1;33m,\u001b[0m \u001b[0mv\u001b[0m\u001b[1;33m,\u001b[0m \u001b[0mamount\u001b[0m\u001b[1;33m)\u001b[0m\u001b[1;33m\u001b[0m\u001b[0m\n\u001b[0m\u001b[0;32m      9\u001b[0m         \u001b[0mtemp_char\u001b[0m\u001b[1;33m.\u001b[0m\u001b[0mappend\u001b[0m\u001b[1;33m(\u001b[0m\u001b[0mtemp\u001b[0m\u001b[1;33m)\u001b[0m\u001b[1;33m\u001b[0m\u001b[0m\n\u001b[0;32m     10\u001b[0m         \u001b[0mhist\u001b[0m\u001b[1;33m.\u001b[0m\u001b[0mappend\u001b[0m\u001b[1;33m(\u001b[0m\u001b[1;33m(\u001b[0m\u001b[0mtemp\u001b[0m\u001b[1;33m,\u001b[0m \u001b[0mc\u001b[0m\u001b[1;33m[\u001b[0m\u001b[1;36m1\u001b[0m\u001b[1;33m]\u001b[0m\u001b[1;33m)\u001b[0m\u001b[1;33m)\u001b[0m\u001b[1;33m\u001b[0m\u001b[0m\n",
      "\u001b[1;32m<ipython-input-6-78942ce96090>\u001b[0m in \u001b[0;36mhistogram\u001b[1;34m(step, char, amount)\u001b[0m\n\u001b[0;32m      2\u001b[0m     \u001b[0mhistogram\u001b[0m \u001b[1;33m=\u001b[0m \u001b[0mnp\u001b[0m\u001b[1;33m.\u001b[0m\u001b[0mzeros\u001b[0m\u001b[1;33m(\u001b[0m\u001b[0mamount\u001b[0m\u001b[1;33m)\u001b[0m\u001b[1;33m\u001b[0m\u001b[0m\n\u001b[0;32m      3\u001b[0m     \u001b[1;32mfor\u001b[0m \u001b[0mc\u001b[0m \u001b[1;32min\u001b[0m \u001b[0mchar\u001b[0m\u001b[1;33m:\u001b[0m\u001b[1;33m\u001b[0m\u001b[0m\n\u001b[1;32m----> 4\u001b[1;33m         \u001b[0mhistogram\u001b[0m\u001b[1;33m[\u001b[0m\u001b[0mint\u001b[0m\u001b[1;33m(\u001b[0m\u001b[0mc\u001b[0m\u001b[1;33m/\u001b[0m\u001b[0mstep\u001b[0m\u001b[1;33m)\u001b[0m\u001b[1;33m]\u001b[0m \u001b[1;33m+=\u001b[0m \u001b[1;36m1.\u001b[0m\u001b[1;33m\u001b[0m\u001b[0m\n\u001b[0m\u001b[0;32m      5\u001b[0m     \u001b[0mhistogram\u001b[0m \u001b[1;33m=\u001b[0m \u001b[0mhistogram\u001b[0m\u001b[1;33m/\u001b[0m\u001b[0mlen\u001b[0m\u001b[1;33m(\u001b[0m\u001b[0mchar\u001b[0m\u001b[1;33m)\u001b[0m\u001b[1;33m\u001b[0m\u001b[0m\n\u001b[0;32m      6\u001b[0m     \u001b[0mhistogram\u001b[0m \u001b[1;33m=\u001b[0m \u001b[0mnp\u001b[0m\u001b[1;33m.\u001b[0m\u001b[0mndarray\u001b[0m\u001b[1;33m.\u001b[0m\u001b[0mtolist\u001b[0m\u001b[1;33m(\u001b[0m\u001b[0mhistogram\u001b[0m\u001b[1;33m)\u001b[0m\u001b[1;33m\u001b[0m\u001b[0m\n",
      "\u001b[1;31mKeyboardInterrupt\u001b[0m: "
     ]
    }
   ],
   "source": [
    "#char, step = char3(15)\n",
    "\n",
    "def mode5(char, step, amount):\n",
    "    hist, char = more_hist(char, step, amount)\n",
    "    train_mfcc, train_genre, test_mfcc, test_genre = train_test(char, hist)\n",
    "    return classify2(train_mfcc, train_genre, test_mfcc, test_genre)\n",
    "\n",
    "def classify2(train_mfcc, train_genre, test_mfcc, test_genre):\n",
    "    success=0\n",
    "    succ_gen = np.zeros(10)\n",
    "    clf=SVC(kernel = 'rbf')\n",
    "    clf.fit(train_mfcc,train_genre)\n",
    "    for i in range(100):\n",
    "        test=test_mfcc[i].reshape(1, -1)\n",
    "        pred = clf.predict(test)\n",
    "        if pred[0]==test_genre[i]:\n",
    "            succ_gen[test_genre[i]] += 1\n",
    "            success+=1\n",
    "    print succ_gen, np.mean(succ_gen), success\n",
    "    return success\n",
    "\n",
    "for i in range(10,101):\n",
    "    print str(i),\":\",\n",
    "    mode5(char, (step*100)/i, amount=i)"
   ]
  },
  {
   "cell_type": "code",
   "execution_count": 32,
   "metadata": {},
   "outputs": [
    {
     "name": "stdout",
     "output_type": "stream",
     "text": [
      " TRAIN: [  1   2   3   4   5   6   7   8   9  10  11  12  13  14  15  16  17  18\n",
      "  19  20  21  22  23  24  25  26  27  28  29  30  31  32  33  34  35  36\n",
      "  37  38  39  40  41  42  43  44  45  46  47  48  49  50  51  52  53  54\n",
      "  55  56  57  58  59  60  61  62  63  64  65  66  67  68  69  70  71  72\n",
      "  73  74  75  76  77  78  79  80  81  82  83  84  85  86  87  88  89  90\n",
      "  91  92  93  94  95  96  97  98  99 100 101 102 103 104 105 106 107 108\n",
      " 109 110 111 112 113 114 115 116 117 118 119 120 121 122 123 124 125 126\n",
      " 127 128 129 130 131 132 133 134 135 136 137 138 139 140 141 142 143 144\n",
      " 145 146 147 148 149 150 151 152 153 154 155 156 157 158 159 160 161 162\n",
      " 163 164 165 166 167 168 169 170 171 172 173 174 175 176 177 178 179 180\n",
      " 181 182 183 184 185 186 187 188 189 190 191 192 193 194 195 196 197 198\n",
      " 199 200 201 202 203 204 205 206 207 208 209 210 211 212 213 214 215 216\n",
      " 217 218 219 220 221 222 223 224 225 226 227 228 229 230 231 232 233 234\n",
      " 235 236 237 238 239 240 241 242 243 244 245 246 247 248 249 250 251 252\n",
      " 253 254 255 256 257 258 259 260 261 262 263 264 265 266 267 268 269 270\n",
      " 271 272 273 274 275 276 277 278 279 280 281 282 283 284 285 286 287 288\n",
      " 289 290 291 292 293 294 295 296 297 298 299 300 301 302 303 304 305 306\n",
      " 307 308 309 310 311 312 313 314 315 316 317 318 319 320 321 322 323 324\n",
      " 325 326 327 328 329 330 331 332 333 334 335 336 337 338 339 340 341 342\n",
      " 343 344 345 346 347 348 349 350 351 352 353 354 355 356 357 358 359 360\n",
      " 361 362 363 364 365 366 367 368 369 370 371 372 373 374 375 376 377 378\n",
      " 379 380 381 382 383 384 385 386 387 388 389 390 391 392 393 394 395 396\n",
      " 397 398 399 400 401 402 403 404 405 406 407 408 409 410 411 412 413 414\n",
      " 415 416 417 418 419 420 421 422 423 424 425 426 427 428 429 430 431 432\n",
      " 433 434 435 436 437 438 439 440 441 442 443 444 445 446 447 448 449 450\n",
      " 451 452 453 454 455 456 457 458 459 460 461 462 463 464 465 466 467 468\n",
      " 469 470 471 472 473 474 475 476 477 478 479 480 481 482 483 484 485 486\n",
      " 487 488 489 490 491 492 493 494 495 496 497 498 499 500 501 502 503 504\n",
      " 505 506 507 508 509 510 511 512 513 514 515 516 517 518 519 520 521 522\n",
      " 523 524 525 526 527 528 529 530 531 532 533 534 535 536 537 538 539 540\n",
      " 541 542 543 544 545 546 547 548 549 550 551 552 553 554 555 556 557 558\n",
      " 559 560 561 562 563 564 565 566 567 568 569 570 571 572 573 574 575 576\n",
      " 577 578 579 580 581 582 583 584 585 586 587 588 589 590 591 592 593 594\n",
      " 595 596 597 598 599 600 601 602 603 604 605 606 607 608 609 610 611 612\n",
      " 613 614 615 616 617 618 619 620 621 622 623 624 625 626 627 628 629 630\n",
      " 631 632 633 634 635 636 637 638 639 640 641 642 643 644 645 646 647 648\n",
      " 649 650 651 652 653 654 655 656 657 658 659 660 661 662 663 664 665 666\n",
      " 667 668 669 670 671 672 673 674 675 676 677 678 679 680 681 682 683 684\n",
      " 685 686 687 688 689 690 691 692 693 694 695 696 697 698 699 700 701 702\n",
      " 703 704 705 706 707 708 709 710 711 712 713 714 715 716 717 718 719 720\n",
      " 721 722 723 724 725 726 727 728 729 730 731 732 733 734 735 736 737 738\n",
      " 739 740 741 742 743 744 745 746 747 748 749 750 751 752 753 754 755 756\n",
      " 757 758 759 760 761 762 763 764 765 766 767 768 769 770 771 772 773 774\n",
      " 775 776 777 778 779 780 781 782 783 784 785 786 787 788 789 790 791 792\n",
      " 793 794 795 796 797 798 799 800 801 802 803 804 805 806 807 808 809 810\n",
      " 811 812 813 814 815 816 817 818 819 820 821 822 823 824 825 826 827 828\n",
      " 829 830 831 832 833 834 835 836 837 838 839 840 841 842 843 844 845 846\n",
      " 847 848 849 850 851 852 853 854 855 856 857 858 859 860 861 862 863 864\n",
      " 865 866 867 868 869 870 871 872 873 874 875 876 877 878 879 880 881 882\n",
      " 883 884 885 886 887 888 889 890 891 892 893 894 895 896 897 898 899 900\n",
      " 901 902 903 904 905 906 907 908 909 910 911 912 913 914 915 916 917 918\n",
      " 919 920 921 922 923 924 925 926 927 928 929 930 931 932 933 934 935 936\n",
      " 937 938 939 940 941 942 943 944 945 946 947 948 949 950 951 952 953 954\n",
      " 955 956 957 958 959 960 961 962 963 964 965 966 967 968 969 970 971 972\n",
      " 973 974 975 976 977 978 979 980 981 982 983 984 985 986 987 988 989 990\n",
      " 991 992 993 994 995 996 997 998 999] TEST: [0]\n"
     ]
    },
    {
     "ename": "NameError",
     "evalue": "name 'X' is not defined",
     "output_type": "error",
     "traceback": [
      "\u001b[1;31m---------------------------------------------------------------------------\u001b[0m",
      "\u001b[1;31mNameError\u001b[0m                                 Traceback (most recent call last)",
      "\u001b[1;32m<ipython-input-32-ea0a273cfb17>\u001b[0m in \u001b[0;36m<module>\u001b[1;34m()\u001b[0m\n\u001b[0;32m      8\u001b[0m \u001b[1;32mfor\u001b[0m \u001b[0mtrain_index\u001b[0m\u001b[1;33m,\u001b[0m \u001b[0mtest_index\u001b[0m \u001b[1;32min\u001b[0m \u001b[0mloo\u001b[0m\u001b[1;33m.\u001b[0m\u001b[0msplit\u001b[0m\u001b[1;33m(\u001b[0m\u001b[0mchar2\u001b[0m\u001b[1;33m)\u001b[0m\u001b[1;33m:\u001b[0m\u001b[1;33m\u001b[0m\u001b[0m\n\u001b[0;32m      9\u001b[0m     \u001b[1;32mprint\u001b[0m\u001b[1;34m\"TRAIN:\"\u001b[0m\u001b[1;33m,\u001b[0m \u001b[0mtrain_index\u001b[0m\u001b[1;33m,\u001b[0m \u001b[1;34m\"TEST:\"\u001b[0m\u001b[1;33m,\u001b[0m \u001b[0mtest_index\u001b[0m\u001b[1;33m\u001b[0m\u001b[0m\n\u001b[1;32m---> 10\u001b[1;33m     \u001b[0mX_train\u001b[0m\u001b[1;33m,\u001b[0m \u001b[0mX_test\u001b[0m \u001b[1;33m=\u001b[0m \u001b[0mX\u001b[0m\u001b[1;33m[\u001b[0m\u001b[0mtrain_index\u001b[0m\u001b[1;33m]\u001b[0m\u001b[1;33m,\u001b[0m \u001b[0mX\u001b[0m\u001b[1;33m[\u001b[0m\u001b[0mtest_index\u001b[0m\u001b[1;33m]\u001b[0m\u001b[1;33m\u001b[0m\u001b[0m\n\u001b[0m\u001b[0;32m     11\u001b[0m     \u001b[0my_train\u001b[0m\u001b[1;33m,\u001b[0m \u001b[0my_test\u001b[0m \u001b[1;33m=\u001b[0m \u001b[0my\u001b[0m\u001b[1;33m[\u001b[0m\u001b[0mtrain_index\u001b[0m\u001b[1;33m]\u001b[0m\u001b[1;33m,\u001b[0m \u001b[0my\u001b[0m\u001b[1;33m[\u001b[0m\u001b[0mtest_index\u001b[0m\u001b[1;33m]\u001b[0m\u001b[1;33m\u001b[0m\u001b[0m\n\u001b[0;32m     12\u001b[0m     \u001b[1;32mprint\u001b[0m\u001b[1;33m(\u001b[0m\u001b[0mX_train\u001b[0m\u001b[1;33m,\u001b[0m \u001b[0mX_test\u001b[0m\u001b[1;33m,\u001b[0m \u001b[0my_train\u001b[0m\u001b[1;33m,\u001b[0m \u001b[0my_test\u001b[0m\u001b[1;33m)\u001b[0m\u001b[1;33m\u001b[0m\u001b[0m\n",
      "\u001b[1;31mNameError\u001b[0m: name 'X' is not defined"
     ]
    }
   ],
   "source": [
    "#leave one out\n",
    "from sklearn.model_selection import LeaveOneOut\n",
    "hist, char2 = more_hist(char, step, 90)\n",
    "\n",
    "loo = LeaveOneOut()\n",
    "loo.get_n_splits(char2)\n",
    "\n",
    "for train_index, test_index in loo.split(char2):\n",
    "    X_train, X_test = char2[train_index], char2[test_index]\n",
    "    y_train, y_test = hist[train_index], hist[test_index]\n",
    "    print(X_train, X_test, y_train, y_test)"
   ]
  },
  {
   "cell_type": "markdown",
   "metadata": {
    "collapsed": true
   },
   "source": [
    "# Results\n",
    "* char = 5\n",
    "* step = 18\n",
    "\n",
    "* **result** = 36\n",
    "\n",
    "\n",
    "* char = 20\n",
    "* step = 18\n",
    "\n",
    "* **result** = 37\n",
    "\n",
    "\n",
    "* char = 12\n",
    "* step = 18\n",
    "\n",
    "* **result** = 37"
   ]
  },
  {
   "cell_type": "code",
   "execution_count": null,
   "metadata": {
    "collapsed": true
   },
   "outputs": [],
   "source": []
  }
 ],
 "metadata": {
  "kernelspec": {
   "display_name": "Python [default]",
   "language": "python",
   "name": "python2"
  },
  "language_info": {
   "codemirror_mode": {
    "name": "ipython",
    "version": 2
   },
   "file_extension": ".py",
   "mimetype": "text/x-python",
   "name": "python",
   "nbconvert_exporter": "python",
   "pygments_lexer": "ipython2",
   "version": "2.7.13"
  }
 },
 "nbformat": 4,
 "nbformat_minor": 1
}
